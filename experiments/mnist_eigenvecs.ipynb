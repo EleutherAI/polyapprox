{
 "cells": [
  {
   "cell_type": "code",
   "execution_count": 47,
   "metadata": {},
   "outputs": [
    {
     "name": "stdout",
     "output_type": "stream",
     "text": [
      "Files already downloaded and verified\n",
      "Files already downloaded and verified\n"
     ]
    }
   ],
   "source": [
    "import math\n",
    "import torch\n",
    "import torch.nn as nn\n",
    "import torchvision\n",
    "import torchvision.transforms as transforms\n",
    "import matplotlib.pyplot as plt\n",
    "import numpy as np\n",
    "import pandas as pd\n",
    "import plotly.express as px\n",
    "import itertools\n",
    "import einops\n",
    "from collections import defaultdict\n",
    "import copy\n",
    "from einops import einsum\n",
    "from kornia.augmentation import RandomGaussianNoise\n",
    "\n",
    "from decomp.model import Model, FFNModel, _Config\n",
    "from decomp.datasets import MNIST, FMNIST, _CIFAR10\n",
    "from decomp.plotting import plot_explanation, plot_eigenspectrum\n",
    "\n",
    "from torch_polyapprox.ols import ols\n",
    "\n",
    "# init configs\n",
    "device = 'cuda:3'\n",
    "dataset = 'cifar' # or cifar\n",
    "plotting = False\n",
    "train_bilinear = False\n",
    "train_unreg = True\n",
    "noise_std = 1.0\n",
    "\n",
    "#checkpoint_epochs = []\n",
    "checkpoint_epochs = [1, 2, 4, 8, 16, 32, 64, 128]\n",
    "\n",
    "if dataset == 'mnist':\n",
    "    d_input = 784\n",
    "    train, test = MNIST(train=True, device=device), MNIST(train=False, device=device)\n",
    "    ut = None\n",
    "    t = RandomGaussianNoise(std=noise_std)\n",
    "elif dataset == 'fmnist':\n",
    "    d_input = 784\n",
    "    train, test = FMNIST(train=True, device=device), FMNIST(train=False, device=device)\n",
    "    ut = None\n",
    "    t = RandomGaussianNoise(std=noise_std)\n",
    "else: # 'cifar'\n",
    "    d_input = 3072\n",
    "    train, test = _CIFAR10(train=True, device=device), _CIFAR10(train=False, device=device)\n",
    "    cifar10_mean = (0.4914, 0.4822, 0.4465)\n",
    "    cifar10_std = (0.2023, 0.1994, 0.2010)\n",
    "    ut = transforms.Normalize(mean=cifar10_mean, std=cifar10_std)\n",
    "    # Normalization transform\n",
    "    t = transforms.Compose([RandomGaussianNoise(std=noise_std), ut])\n",
    "\n",
    "if train_unreg:\n",
    "    t = ut\n",
    "configs = {\n",
    "    'wd': 0.2,\n",
    "    'epochs': 128,\n",
    "    'd_input': d_input,\n",
    "    'bias': True,\n",
    "}"
   ]
  },
  {
   "cell_type": "markdown",
   "metadata": {},
   "source": [
    "### CIFAR adjusted training"
   ]
  },
  {
   "cell_type": "code",
   "execution_count": 48,
   "metadata": {},
   "outputs": [
    {
     "name": "stderr",
     "output_type": "stream",
     "text": [
      "  0%|          | 0/128 [00:00<?, ?it/s]"
     ]
    },
    {
     "name": "stderr",
     "output_type": "stream",
     "text": [
      "train/loss: 0.171, train/acc: 0.981, val/loss: 1.917, val/acc: 0.521: 100%|██████████| 128/128 [00:52<00:00,  2.42it/s]\n"
     ]
    }
   ],
   "source": [
    "relu_model = FFNModel.from_config(\n",
    "            #lr=1e-3,\n",
    "            wd=configs['wd'],\n",
    "            epochs=configs['epochs'],\n",
    "            batch_size=2048,\n",
    "            #d_hidden=256, # for cifar\n",
    "            d_input=configs['d_input'], # for cifar\n",
    "            #d_output=10,\n",
    "            bias=configs['bias']\n",
    ").to(device)\n",
    "#relu_metrics_reg_cifar = relu_model_reg_cifar.fit(train, test)\n",
    "relu_metrics = relu_model.fit(train, test, transform=t, test_transform=True, \n",
    "                              checkpoint_epochs=checkpoint_epochs)"
   ]
  },
  {
   "cell_type": "code",
   "execution_count": 49,
   "metadata": {},
   "outputs": [
    {
     "name": "stderr",
     "output_type": "stream",
     "text": [
      "/tmp/ipykernel_221924/957714051.py:13: FutureWarning:\n",
      "\n",
      "You are using `torch.load` with `weights_only=False` (the current default value), which uses the default pickle module implicitly. It is possible to construct malicious pickle data which will execute arbitrary code during unpickling (See https://github.com/pytorch/pytorch/blob/main/SECURITY.md#untrusted-models for more details). In a future release, the default value for `weights_only` will be flipped to `True`. This limits the functions that could be executed during unpickling. Arbitrary objects will no longer be allowed to be loaded via this mode unless they are explicitly allowlisted by the user via `torch.serialization.add_safe_globals`. We recommend you start setting `weights_only=True` for any use case where you don't have full control of the loaded file. Please open an issue on GitHub for any issues related to this experimental feature.\n",
      "\n"
     ]
    }
   ],
   "source": [
    "# Assuming checkpoints is the list containing tuple of (epoch, state_dict)\n",
    "# For example: [(0, state_dict0), (1, state_dict1), ...]\n",
    "\n",
    "def load_checkpoint(epoch, model_label='1l_cifar', mode='with_noise', config=configs):\n",
    "    # Find the checkpoint for the desired epoch\n",
    "    path = f'/mnt/ssd-1/mechinterp/alice/polyapprox/polyapprox/experiments/ckpts/{mode}/{model_label}/'\n",
    "    model_name = f'relu_model_epoch{str(epoch).zfill(4)}.pth'\n",
    "    model = FFNModel.from_config(\n",
    "            wd=config['wd'],\n",
    "            epochs=config['epochs'],\n",
    "            d_input=config['d_input'],\n",
    "            bias=config['bias'])\n",
    "    checkpoint = torch.load(path + model_name)#if epoch not in checkpoints:\n",
    "    #    raise ValueError(f\"No checkpoint found for epoch {epoch}\")\n",
    "\n",
    "    # Load the state_dict into the model\n",
    "    model.load_state_dict(checkpoint['model_state_dict'])\n",
    "\n",
    "    return model\n",
    "\n",
    "checkpoints = [load_checkpoint(epoch, '1l_cifar', 'without_noise') for epoch in checkpoint_epochs]"
   ]
  },
  {
   "cell_type": "code",
   "execution_count": 50,
   "metadata": {},
   "outputs": [
    {
     "name": "stdout",
     "output_type": "stream",
     "text": [
      "torch.Size([3, 32, 32])\n"
     ]
    },
    {
     "data": {
      "application/vnd.plotly.v1+json": {
       "config": {
        "plotlyServerURL": "https://plot.ly"
       },
       "data": [
        {
         "hovertemplate": "x: %{x}<br>y: %{y}<extra></extra>",
         "name": "0",
         "source": "data:image/png;base64,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",
         "type": "image",
         "xaxis": "x",
         "yaxis": "y"
        }
       ],
       "layout": {
        "margin": {
         "t": 60
        },
        "template": {
         "data": {
          "bar": [
           {
            "error_x": {
             "color": "#2a3f5f"
            },
            "error_y": {
             "color": "#2a3f5f"
            },
            "marker": {
             "line": {
              "color": "#E5ECF6",
              "width": 0.5
             },
             "pattern": {
              "fillmode": "overlay",
              "size": 10,
              "solidity": 0.2
             }
            },
            "type": "bar"
           }
          ],
          "barpolar": [
           {
            "marker": {
             "line": {
              "color": "#E5ECF6",
              "width": 0.5
             },
             "pattern": {
              "fillmode": "overlay",
              "size": 10,
              "solidity": 0.2
             }
            },
            "type": "barpolar"
           }
          ],
          "carpet": [
           {
            "aaxis": {
             "endlinecolor": "#2a3f5f",
             "gridcolor": "white",
             "linecolor": "white",
             "minorgridcolor": "white",
             "startlinecolor": "#2a3f5f"
            },
            "baxis": {
             "endlinecolor": "#2a3f5f",
             "gridcolor": "white",
             "linecolor": "white",
             "minorgridcolor": "white",
             "startlinecolor": "#2a3f5f"
            },
            "type": "carpet"
           }
          ],
          "choropleth": [
           {
            "colorbar": {
             "outlinewidth": 0,
             "ticks": ""
            },
            "type": "choropleth"
           }
          ],
          "contour": [
           {
            "colorbar": {
             "outlinewidth": 0,
             "ticks": ""
            },
            "colorscale": [
             [
              0,
              "#0d0887"
             ],
             [
              0.1111111111111111,
              "#46039f"
             ],
             [
              0.2222222222222222,
              "#7201a8"
             ],
             [
              0.3333333333333333,
              "#9c179e"
             ],
             [
              0.4444444444444444,
              "#bd3786"
             ],
             [
              0.5555555555555556,
              "#d8576b"
             ],
             [
              0.6666666666666666,
              "#ed7953"
             ],
             [
              0.7777777777777778,
              "#fb9f3a"
             ],
             [
              0.8888888888888888,
              "#fdca26"
             ],
             [
              1,
              "#f0f921"
             ]
            ],
            "type": "contour"
           }
          ],
          "contourcarpet": [
           {
            "colorbar": {
             "outlinewidth": 0,
             "ticks": ""
            },
            "type": "contourcarpet"
           }
          ],
          "heatmap": [
           {
            "colorbar": {
             "outlinewidth": 0,
             "ticks": ""
            },
            "colorscale": [
             [
              0,
              "#0d0887"
             ],
             [
              0.1111111111111111,
              "#46039f"
             ],
             [
              0.2222222222222222,
              "#7201a8"
             ],
             [
              0.3333333333333333,
              "#9c179e"
             ],
             [
              0.4444444444444444,
              "#bd3786"
             ],
             [
              0.5555555555555556,
              "#d8576b"
             ],
             [
              0.6666666666666666,
              "#ed7953"
             ],
             [
              0.7777777777777778,
              "#fb9f3a"
             ],
             [
              0.8888888888888888,
              "#fdca26"
             ],
             [
              1,
              "#f0f921"
             ]
            ],
            "type": "heatmap"
           }
          ],
          "heatmapgl": [
           {
            "colorbar": {
             "outlinewidth": 0,
             "ticks": ""
            },
            "colorscale": [
             [
              0,
              "#0d0887"
             ],
             [
              0.1111111111111111,
              "#46039f"
             ],
             [
              0.2222222222222222,
              "#7201a8"
             ],
             [
              0.3333333333333333,
              "#9c179e"
             ],
             [
              0.4444444444444444,
              "#bd3786"
             ],
             [
              0.5555555555555556,
              "#d8576b"
             ],
             [
              0.6666666666666666,
              "#ed7953"
             ],
             [
              0.7777777777777778,
              "#fb9f3a"
             ],
             [
              0.8888888888888888,
              "#fdca26"
             ],
             [
              1,
              "#f0f921"
             ]
            ],
            "type": "heatmapgl"
           }
          ],
          "histogram": [
           {
            "marker": {
             "pattern": {
              "fillmode": "overlay",
              "size": 10,
              "solidity": 0.2
             }
            },
            "type": "histogram"
           }
          ],
          "histogram2d": [
           {
            "colorbar": {
             "outlinewidth": 0,
             "ticks": ""
            },
            "colorscale": [
             [
              0,
              "#0d0887"
             ],
             [
              0.1111111111111111,
              "#46039f"
             ],
             [
              0.2222222222222222,
              "#7201a8"
             ],
             [
              0.3333333333333333,
              "#9c179e"
             ],
             [
              0.4444444444444444,
              "#bd3786"
             ],
             [
              0.5555555555555556,
              "#d8576b"
             ],
             [
              0.6666666666666666,
              "#ed7953"
             ],
             [
              0.7777777777777778,
              "#fb9f3a"
             ],
             [
              0.8888888888888888,
              "#fdca26"
             ],
             [
              1,
              "#f0f921"
             ]
            ],
            "type": "histogram2d"
           }
          ],
          "histogram2dcontour": [
           {
            "colorbar": {
             "outlinewidth": 0,
             "ticks": ""
            },
            "colorscale": [
             [
              0,
              "#0d0887"
             ],
             [
              0.1111111111111111,
              "#46039f"
             ],
             [
              0.2222222222222222,
              "#7201a8"
             ],
             [
              0.3333333333333333,
              "#9c179e"
             ],
             [
              0.4444444444444444,
              "#bd3786"
             ],
             [
              0.5555555555555556,
              "#d8576b"
             ],
             [
              0.6666666666666666,
              "#ed7953"
             ],
             [
              0.7777777777777778,
              "#fb9f3a"
             ],
             [
              0.8888888888888888,
              "#fdca26"
             ],
             [
              1,
              "#f0f921"
             ]
            ],
            "type": "histogram2dcontour"
           }
          ],
          "mesh3d": [
           {
            "colorbar": {
             "outlinewidth": 0,
             "ticks": ""
            },
            "type": "mesh3d"
           }
          ],
          "parcoords": [
           {
            "line": {
             "colorbar": {
              "outlinewidth": 0,
              "ticks": ""
             }
            },
            "type": "parcoords"
           }
          ],
          "pie": [
           {
            "automargin": true,
            "type": "pie"
           }
          ],
          "scatter": [
           {
            "fillpattern": {
             "fillmode": "overlay",
             "size": 10,
             "solidity": 0.2
            },
            "type": "scatter"
           }
          ],
          "scatter3d": [
           {
            "line": {
             "colorbar": {
              "outlinewidth": 0,
              "ticks": ""
             }
            },
            "marker": {
             "colorbar": {
              "outlinewidth": 0,
              "ticks": ""
             }
            },
            "type": "scatter3d"
           }
          ],
          "scattercarpet": [
           {
            "marker": {
             "colorbar": {
              "outlinewidth": 0,
              "ticks": ""
             }
            },
            "type": "scattercarpet"
           }
          ],
          "scattergeo": [
           {
            "marker": {
             "colorbar": {
              "outlinewidth": 0,
              "ticks": ""
             }
            },
            "type": "scattergeo"
           }
          ],
          "scattergl": [
           {
            "marker": {
             "colorbar": {
              "outlinewidth": 0,
              "ticks": ""
             }
            },
            "type": "scattergl"
           }
          ],
          "scattermapbox": [
           {
            "marker": {
             "colorbar": {
              "outlinewidth": 0,
              "ticks": ""
             }
            },
            "type": "scattermapbox"
           }
          ],
          "scatterpolar": [
           {
            "marker": {
             "colorbar": {
              "outlinewidth": 0,
              "ticks": ""
             }
            },
            "type": "scatterpolar"
           }
          ],
          "scatterpolargl": [
           {
            "marker": {
             "colorbar": {
              "outlinewidth": 0,
              "ticks": ""
             }
            },
            "type": "scatterpolargl"
           }
          ],
          "scatterternary": [
           {
            "marker": {
             "colorbar": {
              "outlinewidth": 0,
              "ticks": ""
             }
            },
            "type": "scatterternary"
           }
          ],
          "surface": [
           {
            "colorbar": {
             "outlinewidth": 0,
             "ticks": ""
            },
            "colorscale": [
             [
              0,
              "#0d0887"
             ],
             [
              0.1111111111111111,
              "#46039f"
             ],
             [
              0.2222222222222222,
              "#7201a8"
             ],
             [
              0.3333333333333333,
              "#9c179e"
             ],
             [
              0.4444444444444444,
              "#bd3786"
             ],
             [
              0.5555555555555556,
              "#d8576b"
             ],
             [
              0.6666666666666666,
              "#ed7953"
             ],
             [
              0.7777777777777778,
              "#fb9f3a"
             ],
             [
              0.8888888888888888,
              "#fdca26"
             ],
             [
              1,
              "#f0f921"
             ]
            ],
            "type": "surface"
           }
          ],
          "table": [
           {
            "cells": {
             "fill": {
              "color": "#EBF0F8"
             },
             "line": {
              "color": "white"
             }
            },
            "header": {
             "fill": {
              "color": "#C8D4E3"
             },
             "line": {
              "color": "white"
             }
            },
            "type": "table"
           }
          ]
         },
         "layout": {
          "annotationdefaults": {
           "arrowcolor": "#2a3f5f",
           "arrowhead": 0,
           "arrowwidth": 1
          },
          "autotypenumbers": "strict",
          "coloraxis": {
           "colorbar": {
            "outlinewidth": 0,
            "ticks": ""
           }
          },
          "colorscale": {
           "diverging": [
            [
             0,
             "#8e0152"
            ],
            [
             0.1,
             "#c51b7d"
            ],
            [
             0.2,
             "#de77ae"
            ],
            [
             0.3,
             "#f1b6da"
            ],
            [
             0.4,
             "#fde0ef"
            ],
            [
             0.5,
             "#f7f7f7"
            ],
            [
             0.6,
             "#e6f5d0"
            ],
            [
             0.7,
             "#b8e186"
            ],
            [
             0.8,
             "#7fbc41"
            ],
            [
             0.9,
             "#4d9221"
            ],
            [
             1,
             "#276419"
            ]
           ],
           "sequential": [
            [
             0,
             "#0d0887"
            ],
            [
             0.1111111111111111,
             "#46039f"
            ],
            [
             0.2222222222222222,
             "#7201a8"
            ],
            [
             0.3333333333333333,
             "#9c179e"
            ],
            [
             0.4444444444444444,
             "#bd3786"
            ],
            [
             0.5555555555555556,
             "#d8576b"
            ],
            [
             0.6666666666666666,
             "#ed7953"
            ],
            [
             0.7777777777777778,
             "#fb9f3a"
            ],
            [
             0.8888888888888888,
             "#fdca26"
            ],
            [
             1,
             "#f0f921"
            ]
           ],
           "sequentialminus": [
            [
             0,
             "#0d0887"
            ],
            [
             0.1111111111111111,
             "#46039f"
            ],
            [
             0.2222222222222222,
             "#7201a8"
            ],
            [
             0.3333333333333333,
             "#9c179e"
            ],
            [
             0.4444444444444444,
             "#bd3786"
            ],
            [
             0.5555555555555556,
             "#d8576b"
            ],
            [
             0.6666666666666666,
             "#ed7953"
            ],
            [
             0.7777777777777778,
             "#fb9f3a"
            ],
            [
             0.8888888888888888,
             "#fdca26"
            ],
            [
             1,
             "#f0f921"
            ]
           ]
          },
          "colorway": [
           "#636efa",
           "#EF553B",
           "#00cc96",
           "#ab63fa",
           "#FFA15A",
           "#19d3f3",
           "#FF6692",
           "#B6E880",
           "#FF97FF",
           "#FECB52"
          ],
          "font": {
           "color": "#2a3f5f"
          },
          "geo": {
           "bgcolor": "white",
           "lakecolor": "white",
           "landcolor": "#E5ECF6",
           "showlakes": true,
           "showland": true,
           "subunitcolor": "white"
          },
          "hoverlabel": {
           "align": "left"
          },
          "hovermode": "closest",
          "mapbox": {
           "style": "light"
          },
          "paper_bgcolor": "white",
          "plot_bgcolor": "#E5ECF6",
          "polar": {
           "angularaxis": {
            "gridcolor": "white",
            "linecolor": "white",
            "ticks": ""
           },
           "bgcolor": "#E5ECF6",
           "radialaxis": {
            "gridcolor": "white",
            "linecolor": "white",
            "ticks": ""
           }
          },
          "scene": {
           "xaxis": {
            "backgroundcolor": "#E5ECF6",
            "gridcolor": "white",
            "gridwidth": 2,
            "linecolor": "white",
            "showbackground": true,
            "ticks": "",
            "zerolinecolor": "white"
           },
           "yaxis": {
            "backgroundcolor": "#E5ECF6",
            "gridcolor": "white",
            "gridwidth": 2,
            "linecolor": "white",
            "showbackground": true,
            "ticks": "",
            "zerolinecolor": "white"
           },
           "zaxis": {
            "backgroundcolor": "#E5ECF6",
            "gridcolor": "white",
            "gridwidth": 2,
            "linecolor": "white",
            "showbackground": true,
            "ticks": "",
            "zerolinecolor": "white"
           }
          },
          "shapedefaults": {
           "line": {
            "color": "#2a3f5f"
           }
          },
          "ternary": {
           "aaxis": {
            "gridcolor": "white",
            "linecolor": "white",
            "ticks": ""
           },
           "baxis": {
            "gridcolor": "white",
            "linecolor": "white",
            "ticks": ""
           },
           "bgcolor": "#E5ECF6",
           "caxis": {
            "gridcolor": "white",
            "linecolor": "white",
            "ticks": ""
           }
          },
          "title": {
           "x": 0.05
          },
          "xaxis": {
           "automargin": true,
           "gridcolor": "white",
           "linecolor": "white",
           "ticks": "",
           "title": {
            "standoff": 15
           },
           "zerolinecolor": "white",
           "zerolinewidth": 2
          },
          "yaxis": {
           "automargin": true,
           "gridcolor": "white",
           "linecolor": "white",
           "ticks": "",
           "title": {
            "standoff": 15
           },
           "zerolinecolor": "white",
           "zerolinewidth": 2
          }
         }
        },
        "xaxis": {
         "anchor": "y",
         "domain": [
          0,
          1
         ]
        },
        "yaxis": {
         "anchor": "x",
         "domain": [
          0,
          1
         ]
        }
       }
      },
      "text/html": [
       "<div>                            <div id=\"4bb22198-80a1-42d2-9d58-90b111e53bda\" class=\"plotly-graph-div\" style=\"height:525px; width:100%;\"></div>            <script type=\"text/javascript\">                require([\"plotly\"], function(Plotly) {                    window.PLOTLYENV=window.PLOTLYENV || {};                                    if (document.getElementById(\"4bb22198-80a1-42d2-9d58-90b111e53bda\")) {                    Plotly.newPlot(                        \"4bb22198-80a1-42d2-9d58-90b111e53bda\",                        [{\"name\":\"0\",\"source\":\"data:image\\u002fpng;base64,iVBORw0KGgoAAAANSUhEUgAAACAAAAAgCAIAAAD8GO2jAAAIPElEQVR4Xn1WS4+cRxW999bjq+\\u002fZX3dP98zYM37FVuyMY8mRTMgCCQkJggQbIgUpvwAh4IewQOIPsED8ACRYoAhYwQrEIzLkgeXY4xmPZ6Z7pqenv2c9LgsrIYkjzqrq3HPrnCuVVIXHx8fOOUSEL8MXeQZgYAAmYGBiAgbAgBgYEIGY+bONzCyFEJ874vP4ogEABs8AQBgAgQUwIjFCAGD4UgNm\\u002fpR9EZ8tISIwAwdAYBYA1FknlQIfBD6XhU\\u002fFz8HMEhFfjPm89kUKABA8Mwd0IVjn\\u002f\\u002fPw4frGNPT9ZDQ0kQovtCAi\\u002ff8JXrBHoTQq3dgwW6wOZyfLqoqMISQEei5GRKT\\u002frSURcvjcBIwADPDcHxEAPGAIQQjqe3s8Xy6rtul8VXcUJVXTZwk7Bg3w2ST4yUZWdQOBpRAcWEghpEBkRqBAAECAgLjqWmaOpWytO5gvj06XAdA6rs9XR7OTvf2DV25ce+nKlmDPzMAECICADAQoF02XJSlJ5YMLBIAgEIgRiQAAmBHx2cH+aDSKje7aOon0xmSNAau6TbXu20ZQWHWdQ0SUzPw8PQIAAjNIWYw9kSUB6AG9D56YkZmBAYARCMH1HbKH4Mo8tZZBqCTLq7pFEaHAKFZI6JA4ACAQAgArgOf3VP7il7\\u002fCwEqqLDfXr166d+cVScCBmZkJAdEFNxyNdGQYUOtoPBQMQmqtpQRlWucWy9PF2dn52cLWDSCPx+WN69eUlsyAhLKp275plZTnZ5BI6W\\u002fdbLmnwJGOmcEzM+JgNCFEIOpDEFoDUgAIwI8eP9w\\u002fOjqZz5um8Z3rm77r6q3t9UvbW6mWAMyA8u3vvdXVTRrHCBxriQGWy2VwVkkjY8NSNLbnIIlISSWlUAqRmBEtcxtsWmTDsvS9NSJezM\\u002f29h9dv3pdkPTMApEZZLBBAAmATKexiZp2WVv\\u002f6OEjreNLVy9\\u002f\\u002fOTpb3\\u002f3B0vKRDoxURqbQVGUg\\u002fzu3TuTteFLWxcJhUDq206SbKajC5vlhYub3vu6tmkcI4H89W\\u002feDdYS9JlO8qK4cmNrMs7Gm5dGa1OTmsX7j++\\u002f\\u002f6RhlgIkcJ6a65cuv\\u002fGV18ZpngrJCH3vnO\\u002fqs4X1Nk5MWaaHzw5ns5M4jdc3pkkSyb\\u002f+\\u002fb5Ruu+WStPrX733eP\\u002fJ\\u002fABu7+zo2NRdr0x097U7bdNpJW9cu7pz6+ULa2WRxKHtnzw7Pjo9PZgdV6tqsVj0tlNa6sh4x9a6pMxvw85gkOPNe98dDYcXt6av3LmhIvHg\\u002fnvrxtze2Ummk7QYBEBmIqTBYLA2Hp+czJ8+eXy2WC7Pzs+X9aKqTpZnzlqllI4UCRoUg7IsszyPkuTylW3vrdz\\u002f6N\\u002fLIvvON3\\u002fw5pvf+P0f352W+TRJY4kGw\\u002fqgyAeFSYwD1pFxPjz7cH\\u002f36LC3LE2a56OpSWxvAUBpJQQJQXmeF0UuBK6q+vBw1rY1KrVx743Xf\\u002fbzn25uTvf294k4V1GRpUIbqWMmDtAfn86L4TgAVXW3qvqT02VeltYzMikSIYS2bVfVioOv69Xp4qRtalu33vskjfDlV7\\u002f1w5\\u002f86NW7O67tA6IpMgIE7yGA94gSAnTny6VQ5unRUdfZ0Lo0Seu2+Xh3F6UarY37rjs7O5vPZuw9UUAKaRyXJjUmAgzyrXfeGW5s\\u002ffP+Xt\\u002fbPgQPggMJQAT2PjAwEQCwdWE2P3SuoQBlUfZ9dzKvQIjZrO1s45rW973QMjE6EiSc6FsL4OPU4Le\\u002f\\u002f2MhJEIshJIqEtIAKCGE1GSMUUrpKCIdC1bgekJrhbfeud72bWvrrm6b3nVoLRB5LQU4Cl2i5WSQZaVJiwTzzVv1cqFVEic5gBQsGYiUkBpNZIyJtElkMjZ6oElJAjSIyLbru6a1tg8YAFkCAwmI1CBVg1QO87hMTZKpKDFyfVIcNMfeL4rRSKJazk7Pl5X1fXAdhwAAQErHU1aFQ0mSEh2nceKtg8AQEWo0WsYmGmXpVpZvba4lBrr2nLiVAssilmzrQarP29b61cs3d3hzdDybH81nq4Wv69p7F1ybysHNOy89XZ4fLxdNXzVtIwAjpVOlyjSelOXGhY3rF9enkVhVy5OTY6EpSYdZHo\\u002fHQzl\\u002fuudt2wDXT3ZHQq2ZVHV1TKERzOwAPCDXzexr93Z2br26u\\u002ft4vjjtuh4CSxIx8ZqJyjT14J\\u002fNdj+cHaDRxXQcF3mSp6O1cTYYyI3N0d7unuscoPv4ow\\u002fPdEIAVbCVs8E7ABaIXXv+tz+\\u002f+\\u002fU0u03UDPLgPDrX9u2Z747ms8cfHM6aZaswno6GG2VUJCLWyaCIkhSFlNs3tpfVstqbAWDr3YkLGmXPzrMHDgCAjIjw4L2\\u002fPDm3E4qZ2ROtKDzj9kFX77muTmS+vbl+9bIpCyAJgrIsS4qcVMRIshiOJuvTg70ZAgSGDrxl8Oz9J78oBgYE2zTV7JiiUnTtU\\u002fD\\u002fgO6BDFWm0q3h5MKF8WQ9SpMemDlEUggphBBCShJCxiaNTKQ0eRsYwSEDBGAARmAGgIDIiKsQPujrgY4\\u002faA\\u002f\\u002f5aqTIhltX928cqHcHEVpRgEtByG1UJHUGgm994hISNJ6VzXneWnaqvMheCTPAJ7RwyfvNrKQFbk\\u002f9WePa3eSkFzf3rg4uTpZGw\\u002fGlGYVcIsspTAmMkkqtTFxEhmjlAIAaX0nNA8nqc20s8EGsCGwZwqAgIjIiCCVlGhj3Q1G1wbT4ajICpklIjKydb4Hz0oJJQEREJXWQgqlpBCCgaVQWI6yLCHfs7PB+cCARBKBCJFIkCSpOJYiz9P1bJBFcapjHalewUpT451HMlJpIZXWJAQSMXPfW62tVuK\\u002fgAVtst50zdYAAAAASUVORK5CYII=\",\"type\":\"image\",\"xaxis\":\"x\",\"yaxis\":\"y\",\"hovertemplate\":\"x: %{x}\\u003cbr\\u003ey: %{y}\\u003cextra\\u003e\\u003c\\u002fextra\\u003e\"}],                        {\"template\":{\"data\":{\"histogram2dcontour\":[{\"type\":\"histogram2dcontour\",\"colorbar\":{\"outlinewidth\":0,\"ticks\":\"\"},\"colorscale\":[[0.0,\"#0d0887\"],[0.1111111111111111,\"#46039f\"],[0.2222222222222222,\"#7201a8\"],[0.3333333333333333,\"#9c179e\"],[0.4444444444444444,\"#bd3786\"],[0.5555555555555556,\"#d8576b\"],[0.6666666666666666,\"#ed7953\"],[0.7777777777777778,\"#fb9f3a\"],[0.8888888888888888,\"#fdca26\"],[1.0,\"#f0f921\"]]}],\"choropleth\":[{\"type\":\"choropleth\",\"colorbar\":{\"outlinewidth\":0,\"ticks\":\"\"}}],\"histogram2d\":[{\"type\":\"histogram2d\",\"colorbar\":{\"outlinewidth\":0,\"ticks\":\"\"},\"colorscale\":[[0.0,\"#0d0887\"],[0.1111111111111111,\"#46039f\"],[0.2222222222222222,\"#7201a8\"],[0.3333333333333333,\"#9c179e\"],[0.4444444444444444,\"#bd3786\"],[0.5555555555555556,\"#d8576b\"],[0.6666666666666666,\"#ed7953\"],[0.7777777777777778,\"#fb9f3a\"],[0.8888888888888888,\"#fdca26\"],[1.0,\"#f0f921\"]]}],\"heatmap\":[{\"type\":\"heatmap\",\"colorbar\":{\"outlinewidth\":0,\"ticks\":\"\"},\"colorscale\":[[0.0,\"#0d0887\"],[0.1111111111111111,\"#46039f\"],[0.2222222222222222,\"#7201a8\"],[0.3333333333333333,\"#9c179e\"],[0.4444444444444444,\"#bd3786\"],[0.5555555555555556,\"#d8576b\"],[0.6666666666666666,\"#ed7953\"],[0.7777777777777778,\"#fb9f3a\"],[0.8888888888888888,\"#fdca26\"],[1.0,\"#f0f921\"]]}],\"heatmapgl\":[{\"type\":\"heatmapgl\",\"colorbar\":{\"outlinewidth\":0,\"ticks\":\"\"},\"colorscale\":[[0.0,\"#0d0887\"],[0.1111111111111111,\"#46039f\"],[0.2222222222222222,\"#7201a8\"],[0.3333333333333333,\"#9c179e\"],[0.4444444444444444,\"#bd3786\"],[0.5555555555555556,\"#d8576b\"],[0.6666666666666666,\"#ed7953\"],[0.7777777777777778,\"#fb9f3a\"],[0.8888888888888888,\"#fdca26\"],[1.0,\"#f0f921\"]]}],\"contourcarpet\":[{\"type\":\"contourcarpet\",\"colorbar\":{\"outlinewidth\":0,\"ticks\":\"\"}}],\"contour\":[{\"type\":\"contour\",\"colorbar\":{\"outlinewidth\":0,\"ticks\":\"\"},\"colorscale\":[[0.0,\"#0d0887\"],[0.1111111111111111,\"#46039f\"],[0.2222222222222222,\"#7201a8\"],[0.3333333333333333,\"#9c179e\"],[0.4444444444444444,\"#bd3786\"],[0.5555555555555556,\"#d8576b\"],[0.6666666666666666,\"#ed7953\"],[0.7777777777777778,\"#fb9f3a\"],[0.8888888888888888,\"#fdca26\"],[1.0,\"#f0f921\"]]}],\"surface\":[{\"type\":\"surface\",\"colorbar\":{\"outlinewidth\":0,\"ticks\":\"\"},\"colorscale\":[[0.0,\"#0d0887\"],[0.1111111111111111,\"#46039f\"],[0.2222222222222222,\"#7201a8\"],[0.3333333333333333,\"#9c179e\"],[0.4444444444444444,\"#bd3786\"],[0.5555555555555556,\"#d8576b\"],[0.6666666666666666,\"#ed7953\"],[0.7777777777777778,\"#fb9f3a\"],[0.8888888888888888,\"#fdca26\"],[1.0,\"#f0f921\"]]}],\"mesh3d\":[{\"type\":\"mesh3d\",\"colorbar\":{\"outlinewidth\":0,\"ticks\":\"\"}}],\"scatter\":[{\"fillpattern\":{\"fillmode\":\"overlay\",\"size\":10,\"solidity\":0.2},\"type\":\"scatter\"}],\"parcoords\":[{\"type\":\"parcoords\",\"line\":{\"colorbar\":{\"outlinewidth\":0,\"ticks\":\"\"}}}],\"scatterpolargl\":[{\"type\":\"scatterpolargl\",\"marker\":{\"colorbar\":{\"outlinewidth\":0,\"ticks\":\"\"}}}],\"bar\":[{\"error_x\":{\"color\":\"#2a3f5f\"},\"error_y\":{\"color\":\"#2a3f5f\"},\"marker\":{\"line\":{\"color\":\"#E5ECF6\",\"width\":0.5},\"pattern\":{\"fillmode\":\"overlay\",\"size\":10,\"solidity\":0.2}},\"type\":\"bar\"}],\"scattergeo\":[{\"type\":\"scattergeo\",\"marker\":{\"colorbar\":{\"outlinewidth\":0,\"ticks\":\"\"}}}],\"scatterpolar\":[{\"type\":\"scatterpolar\",\"marker\":{\"colorbar\":{\"outlinewidth\":0,\"ticks\":\"\"}}}],\"histogram\":[{\"marker\":{\"pattern\":{\"fillmode\":\"overlay\",\"size\":10,\"solidity\":0.2}},\"type\":\"histogram\"}],\"scattergl\":[{\"type\":\"scattergl\",\"marker\":{\"colorbar\":{\"outlinewidth\":0,\"ticks\":\"\"}}}],\"scatter3d\":[{\"type\":\"scatter3d\",\"line\":{\"colorbar\":{\"outlinewidth\":0,\"ticks\":\"\"}},\"marker\":{\"colorbar\":{\"outlinewidth\":0,\"ticks\":\"\"}}}],\"scattermapbox\":[{\"type\":\"scattermapbox\",\"marker\":{\"colorbar\":{\"outlinewidth\":0,\"ticks\":\"\"}}}],\"scatterternary\":[{\"type\":\"scatterternary\",\"marker\":{\"colorbar\":{\"outlinewidth\":0,\"ticks\":\"\"}}}],\"scattercarpet\":[{\"type\":\"scattercarpet\",\"marker\":{\"colorbar\":{\"outlinewidth\":0,\"ticks\":\"\"}}}],\"carpet\":[{\"aaxis\":{\"endlinecolor\":\"#2a3f5f\",\"gridcolor\":\"white\",\"linecolor\":\"white\",\"minorgridcolor\":\"white\",\"startlinecolor\":\"#2a3f5f\"},\"baxis\":{\"endlinecolor\":\"#2a3f5f\",\"gridcolor\":\"white\",\"linecolor\":\"white\",\"minorgridcolor\":\"white\",\"startlinecolor\":\"#2a3f5f\"},\"type\":\"carpet\"}],\"table\":[{\"cells\":{\"fill\":{\"color\":\"#EBF0F8\"},\"line\":{\"color\":\"white\"}},\"header\":{\"fill\":{\"color\":\"#C8D4E3\"},\"line\":{\"color\":\"white\"}},\"type\":\"table\"}],\"barpolar\":[{\"marker\":{\"line\":{\"color\":\"#E5ECF6\",\"width\":0.5},\"pattern\":{\"fillmode\":\"overlay\",\"size\":10,\"solidity\":0.2}},\"type\":\"barpolar\"}],\"pie\":[{\"automargin\":true,\"type\":\"pie\"}]},\"layout\":{\"autotypenumbers\":\"strict\",\"colorway\":[\"#636efa\",\"#EF553B\",\"#00cc96\",\"#ab63fa\",\"#FFA15A\",\"#19d3f3\",\"#FF6692\",\"#B6E880\",\"#FF97FF\",\"#FECB52\"],\"font\":{\"color\":\"#2a3f5f\"},\"hovermode\":\"closest\",\"hoverlabel\":{\"align\":\"left\"},\"paper_bgcolor\":\"white\",\"plot_bgcolor\":\"#E5ECF6\",\"polar\":{\"bgcolor\":\"#E5ECF6\",\"angularaxis\":{\"gridcolor\":\"white\",\"linecolor\":\"white\",\"ticks\":\"\"},\"radialaxis\":{\"gridcolor\":\"white\",\"linecolor\":\"white\",\"ticks\":\"\"}},\"ternary\":{\"bgcolor\":\"#E5ECF6\",\"aaxis\":{\"gridcolor\":\"white\",\"linecolor\":\"white\",\"ticks\":\"\"},\"baxis\":{\"gridcolor\":\"white\",\"linecolor\":\"white\",\"ticks\":\"\"},\"caxis\":{\"gridcolor\":\"white\",\"linecolor\":\"white\",\"ticks\":\"\"}},\"coloraxis\":{\"colorbar\":{\"outlinewidth\":0,\"ticks\":\"\"}},\"colorscale\":{\"sequential\":[[0.0,\"#0d0887\"],[0.1111111111111111,\"#46039f\"],[0.2222222222222222,\"#7201a8\"],[0.3333333333333333,\"#9c179e\"],[0.4444444444444444,\"#bd3786\"],[0.5555555555555556,\"#d8576b\"],[0.6666666666666666,\"#ed7953\"],[0.7777777777777778,\"#fb9f3a\"],[0.8888888888888888,\"#fdca26\"],[1.0,\"#f0f921\"]],\"sequentialminus\":[[0.0,\"#0d0887\"],[0.1111111111111111,\"#46039f\"],[0.2222222222222222,\"#7201a8\"],[0.3333333333333333,\"#9c179e\"],[0.4444444444444444,\"#bd3786\"],[0.5555555555555556,\"#d8576b\"],[0.6666666666666666,\"#ed7953\"],[0.7777777777777778,\"#fb9f3a\"],[0.8888888888888888,\"#fdca26\"],[1.0,\"#f0f921\"]],\"diverging\":[[0,\"#8e0152\"],[0.1,\"#c51b7d\"],[0.2,\"#de77ae\"],[0.3,\"#f1b6da\"],[0.4,\"#fde0ef\"],[0.5,\"#f7f7f7\"],[0.6,\"#e6f5d0\"],[0.7,\"#b8e186\"],[0.8,\"#7fbc41\"],[0.9,\"#4d9221\"],[1,\"#276419\"]]},\"xaxis\":{\"gridcolor\":\"white\",\"linecolor\":\"white\",\"ticks\":\"\",\"title\":{\"standoff\":15},\"zerolinecolor\":\"white\",\"automargin\":true,\"zerolinewidth\":2},\"yaxis\":{\"gridcolor\":\"white\",\"linecolor\":\"white\",\"ticks\":\"\",\"title\":{\"standoff\":15},\"zerolinecolor\":\"white\",\"automargin\":true,\"zerolinewidth\":2},\"scene\":{\"xaxis\":{\"backgroundcolor\":\"#E5ECF6\",\"gridcolor\":\"white\",\"linecolor\":\"white\",\"showbackground\":true,\"ticks\":\"\",\"zerolinecolor\":\"white\",\"gridwidth\":2},\"yaxis\":{\"backgroundcolor\":\"#E5ECF6\",\"gridcolor\":\"white\",\"linecolor\":\"white\",\"showbackground\":true,\"ticks\":\"\",\"zerolinecolor\":\"white\",\"gridwidth\":2},\"zaxis\":{\"backgroundcolor\":\"#E5ECF6\",\"gridcolor\":\"white\",\"linecolor\":\"white\",\"showbackground\":true,\"ticks\":\"\",\"zerolinecolor\":\"white\",\"gridwidth\":2}},\"shapedefaults\":{\"line\":{\"color\":\"#2a3f5f\"}},\"annotationdefaults\":{\"arrowcolor\":\"#2a3f5f\",\"arrowhead\":0,\"arrowwidth\":1},\"geo\":{\"bgcolor\":\"white\",\"landcolor\":\"#E5ECF6\",\"subunitcolor\":\"white\",\"showland\":true,\"showlakes\":true,\"lakecolor\":\"white\"},\"title\":{\"x\":0.05},\"mapbox\":{\"style\":\"light\"}}},\"xaxis\":{\"anchor\":\"y\",\"domain\":[0.0,1.0]},\"yaxis\":{\"anchor\":\"x\",\"domain\":[0.0,1.0]},\"margin\":{\"t\":60}},                        {\"responsive\": true}                    ).then(function(){\n",
       "                            \n",
       "var gd = document.getElementById('4bb22198-80a1-42d2-9d58-90b111e53bda');\n",
       "var x = new MutationObserver(function (mutations, observer) {{\n",
       "        var display = window.getComputedStyle(gd).display;\n",
       "        if (!display || display === 'none') {{\n",
       "            console.log([gd, 'removed!']);\n",
       "            Plotly.purge(gd);\n",
       "            observer.disconnect();\n",
       "        }}\n",
       "}});\n",
       "\n",
       "// Listen for the removal of the full notebook cells\n",
       "var notebookContainer = gd.closest('#notebook-container');\n",
       "if (notebookContainer) {{\n",
       "    x.observe(notebookContainer, {childList: true});\n",
       "}}\n",
       "\n",
       "// Listen for the clearing of the current output cell\n",
       "var outputEl = gd.closest('.output');\n",
       "if (outputEl) {{\n",
       "    x.observe(outputEl, {childList: true});\n",
       "}}\n",
       "\n",
       "                        })                };                });            </script>        </div>"
      ]
     },
     "metadata": {},
     "output_type": "display_data"
    }
   ],
   "source": [
    "# visualize sample image.\n",
    "sample_img = test.x[1].squeeze().cpu()\n",
    "print(sample_img.shape)\n",
    "#px.imshow(sample_img)\n",
    "px.imshow(sample_img.permute(1,2,0))"
   ]
  },
  {
   "cell_type": "markdown",
   "metadata": {},
   "source": [
    "### Normal training, ignore CIFAR for now"
   ]
  },
  {
   "cell_type": "code",
   "execution_count": null,
   "metadata": {},
   "outputs": [
    {
     "name": "stderr",
     "output_type": "stream",
     "text": [
      "train/loss: 0.971, train/acc: 0.687, val/loss: 1.334, val/acc: 0.533: 100%|██████████| 20/20 [00:18<00:00,  1.07it/s]\n"
     ]
    }
   ],
   "source": [
    "relu_model_u = FFNModel.from_config(\n",
    "            wd=wd,\n",
    "            epochs=epochs,\n",
    "            d_input=d_input, # for cifar\n",
    "            bias=True\n",
    ").to(device)\n",
    "\n",
    "relu_metrics_u = relu_model_u.fit(train, test, transform=ut, test_transform=True)"
   ]
  },
  {
   "cell_type": "code",
   "execution_count": 32,
   "metadata": {},
   "outputs": [
    {
     "name": "stderr",
     "output_type": "stream",
     "text": [
      "train/loss: 0.076, train/acc: 0.979, val/loss: 0.066, val/acc: 0.980: 100%|██████████| 100/100 [01:13<00:00,  1.36it/s]\n",
      "train/loss: 0.029, train/acc: 0.995, val/loss: 0.068, val/acc: 0.979: 100%|██████████| 100/100 [00:50<00:00,  1.97it/s]\n"
     ]
    }
   ],
   "source": [
    "\n",
    "# bilinear baseline model. Decompose using tdooms/michael methods\n",
    "if train_bilinear:\n",
    "    bilinear_model = Model.from_config(epochs=epochs, wd=wd, d_input=d_input, bias=True).to(device)\n",
    "    bilinear_metrics = bilinear_model.fit(train, test, RandomGaussianNoise(std=noise_std))\n",
    "\n",
    "# relu mnist model to approximate and decompose\n",
    "relu_model = FFNModel.from_config(\n",
    "            lr=1e-3,\n",
    "            wd=0.5,\n",
    "            epochs=epochs,\n",
    "            batch_size=2048,\n",
    "            d_hidden=256, # for cifar\n",
    "            d_input=d_input, # for cifar\n",
    "            d_output=10,\n",
    "            bias=True\n",
    ").to(device)\n",
    "\n",
    "relu_metrics = relu_model.fit(train, test, RandomGaussianNoise(std=noise_std))\n",
    "# unregularized\n",
    "if train_unreg:\n",
    "    relu_model_unreg = FFNModel.from_config(\n",
    "                lr=1e-3,\n",
    "                wd=0.5,\n",
    "                epochs=epochs,\n",
    "                batch_size=2048,\n",
    "                d_hidden=256, # for cifar\n",
    "                d_input=d_input, # for cifar\n",
    "                d_output=10,\n",
    "                bias=True\n",
    "    ).to(device)\n",
    "\n",
    "    relu_metrics_unreg = relu_model_unreg.fit(train, test)"
   ]
  },
  {
   "cell_type": "code",
   "execution_count": 8,
   "metadata": {},
   "outputs": [
    {
     "name": "stdout",
     "output_type": "stream",
     "text": [
      "1\n",
      "2\n",
      "4\n",
      "8\n",
      "16\n",
      "32\n",
      "64\n",
      "128\n"
     ]
    }
   ],
   "source": [
    "for i in ckpts:\n",
    "    print(i['epoch'])"
   ]
  },
  {
   "cell_type": "code",
   "execution_count": 51,
   "metadata": {},
   "outputs": [
    {
     "name": "stderr",
     "output_type": "stream",
     "text": [
      " 25%|██▌       | 2/8 [00:00<00:00, 12.93it/s]"
     ]
    },
    {
     "name": "stdout",
     "output_type": "stream",
     "text": [
      "<class 'torch.Tensor'> <class 'torch.Tensor'>\n",
      "torch.Size([256])\n",
      "torch.Size([256])\n",
      "<class 'torch.Tensor'> <class 'torch.Tensor'>\n",
      "torch.Size([256])\n",
      "torch.Size([256])\n",
      "<class 'torch.Tensor'> <class 'torch.Tensor'>\n",
      "torch.Size([256])\n",
      "torch.Size([256])\n"
     ]
    },
    {
     "name": "stderr",
     "output_type": "stream",
     "text": [
      " 50%|█████     | 4/8 [00:00<00:00, 11.96it/s]"
     ]
    },
    {
     "name": "stdout",
     "output_type": "stream",
     "text": [
      "<class 'torch.Tensor'> <class 'torch.Tensor'>\n",
      "torch.Size([256])\n",
      "torch.Size([256])\n",
      "<class 'torch.Tensor'> <class 'torch.Tensor'>\n",
      "torch.Size([256])\n",
      "torch.Size([256])\n",
      "<class 'torch.Tensor'> <class 'torch.Tensor'>\n",
      "torch.Size([256])\n",
      "torch.Size([256])\n"
     ]
    },
    {
     "name": "stderr",
     "output_type": "stream",
     "text": [
      "100%|██████████| 8/8 [00:00<00:00, 11.88it/s]\n"
     ]
    },
    {
     "name": "stdout",
     "output_type": "stream",
     "text": [
      "<class 'torch.Tensor'> <class 'torch.Tensor'>\n",
      "torch.Size([256])\n",
      "torch.Size([256])\n",
      "<class 'torch.Tensor'> <class 'torch.Tensor'>\n",
      "torch.Size([256])\n",
      "torch.Size([256])\n"
     ]
    },
    {
     "name": "stderr",
     "output_type": "stream",
     "text": [
      "  0%|          | 0/8 [00:00<?, ?it/s]"
     ]
    },
    {
     "name": "stdout",
     "output_type": "stream",
     "text": [
      "<class 'torch.Tensor'> <class 'torch.Tensor'>\n",
      "torch.Size([256])\n",
      "torch.Size([256])\n"
     ]
    },
    {
     "name": "stderr",
     "output_type": "stream",
     "text": [
      " 12%|█▎        | 1/8 [00:31<03:41, 31.58s/it]"
     ]
    },
    {
     "name": "stdout",
     "output_type": "stream",
     "text": [
      "<class 'torch.Tensor'> <class 'torch.Tensor'>\n",
      "torch.Size([256])\n",
      "torch.Size([256])\n"
     ]
    },
    {
     "name": "stderr",
     "output_type": "stream",
     "text": [
      " 25%|██▌       | 2/8 [01:07<03:26, 34.34s/it]"
     ]
    },
    {
     "name": "stdout",
     "output_type": "stream",
     "text": [
      "<class 'torch.Tensor'> <class 'torch.Tensor'>\n",
      "torch.Size([256])\n",
      "torch.Size([256])\n"
     ]
    },
    {
     "name": "stderr",
     "output_type": "stream",
     "text": [
      " 38%|███▊      | 3/8 [01:43<02:53, 34.74s/it]"
     ]
    },
    {
     "name": "stdout",
     "output_type": "stream",
     "text": [
      "<class 'torch.Tensor'> <class 'torch.Tensor'>\n",
      "torch.Size([256])\n",
      "torch.Size([256])\n"
     ]
    },
    {
     "name": "stderr",
     "output_type": "stream",
     "text": [
      " 50%|█████     | 4/8 [02:17<02:19, 34.81s/it]"
     ]
    },
    {
     "name": "stdout",
     "output_type": "stream",
     "text": [
      "<class 'torch.Tensor'> <class 'torch.Tensor'>\n",
      "torch.Size([256])\n",
      "torch.Size([256])\n"
     ]
    },
    {
     "name": "stderr",
     "output_type": "stream",
     "text": [
      " 62%|██████▎   | 5/8 [02:49<01:40, 33.44s/it]"
     ]
    },
    {
     "name": "stdout",
     "output_type": "stream",
     "text": [
      "<class 'torch.Tensor'> <class 'torch.Tensor'>\n",
      "torch.Size([256])\n",
      "torch.Size([256])\n"
     ]
    },
    {
     "name": "stderr",
     "output_type": "stream",
     "text": [
      " 75%|███████▌  | 6/8 [03:21<01:05, 32.97s/it]"
     ]
    },
    {
     "name": "stdout",
     "output_type": "stream",
     "text": [
      "<class 'torch.Tensor'> <class 'torch.Tensor'>\n",
      "torch.Size([256])\n",
      "torch.Size([256])\n"
     ]
    },
    {
     "name": "stderr",
     "output_type": "stream",
     "text": [
      " 88%|████████▊ | 7/8 [03:56<00:33, 33.62s/it]"
     ]
    },
    {
     "name": "stdout",
     "output_type": "stream",
     "text": [
      "<class 'torch.Tensor'> <class 'torch.Tensor'>\n",
      "torch.Size([256])\n",
      "torch.Size([256])\n"
     ]
    },
    {
     "name": "stderr",
     "output_type": "stream",
     "text": [
      "100%|██████████| 8/8 [04:30<00:00, 33.84s/it]\n"
     ]
    }
   ],
   "source": [
    "# analytic fit approximations ~ 2s for mnist\n",
    "from extra.ipynb_utils import fit_approxs, gamma_to_B, test_inner, test_outer, \\\n",
    "    adv_svd, test_svd_perf, show_results, plot_svd_results, test_model_acc\n",
    "from tqdm import tqdm\n",
    "\n",
    "def approx_fit(model, order='linear'):\n",
    "    W1 = model.w_e.detach()\n",
    "    W2 = model.w_u.detach()\n",
    "    b1 = model.embed.bias.detach()#.cpu().data.numpy()\n",
    "    b2 = model.head.bias.detach()\n",
    "    return ols(W1, b1, W2, b2, act='relu', order=order)\n",
    "\n",
    "def lin_fit_checkpoints(checkpoints=checkpoints):\n",
    "    lin_fits = []\n",
    "    for idx in tqdm(range(len(checkpoints))):\n",
    "        ckpt_model=checkpoints[idx]\n",
    "        lin_fits.append(approx_fit(ckpt_model))\n",
    "    return lin_fits\n",
    "\n",
    "def quad_fit_checkpoints(checkpoints=checkpoints):\n",
    "    quad_fits = []\n",
    "    for idx in tqdm(range(len(checkpoints))):\n",
    "        ckpt_model = checkpoints[idx]\n",
    "        quad_fits.append(approx_fit(ckpt_model, order='quadratic'))\n",
    "    return quad_fits\n",
    "\n",
    "\n",
    "ckpt_lin_fits = lin_fit_checkpoints()\n",
    "ckpt_quad_fits = quad_fit_checkpoints()"
   ]
  },
  {
   "cell_type": "code",
   "execution_count": 58,
   "metadata": {},
   "outputs": [
    {
     "name": "stdout",
     "output_type": "stream",
     "text": [
      "Files already downloaded and verified\n"
     ]
    },
    {
     "name": "stderr",
     "output_type": "stream",
     "text": [
      "100%|██████████| 8/8 [00:01<00:00,  6.31it/s]\n",
      "100%|██████████| 8/8 [00:00<00:00, 10.44it/s]\n",
      "100%|██████████| 8/8 [00:25<00:00,  3.18s/it]\n"
     ]
    }
   ],
   "source": [
    "#for idx in tqdm(checkpoint_epochs):\n",
    "#    ckpt_model = load_checkpoint(ckpts, idx, config=configs)\n",
    "test=_CIFAR10(train=True, device='cpu')\n",
    "#ut = None # use if f/mnist; comment if cifar\n",
    "ut = transforms.Normalize(mean=cifar10_mean, std=cifar10_std)\n",
    "relu_accs = [test_model_acc(mod, test_set=test, transform=ut) for mod in tqdm(checkpoints)]\n",
    "linr_accs = [test_model_acc(fit, test_set=test, transform=ut) for fit in tqdm(ckpt_lin_fits)]\n",
    "quadr_accs = [test_model_acc(fit, test_set=test, transform=ut) for fit in tqdm(ckpt_quad_fits)]"
   ]
  },
  {
   "cell_type": "code",
   "execution_count": 59,
   "metadata": {},
   "outputs": [
    {
     "data": {
      "image/png": "[encoded data removed]",
      "text/plain": [
       "<Figure size 1000x600 with 1 Axes>"
      ]
     },
     "metadata": {},
     "output_type": "display_data"
    }
   ],
   "source": [
    "data = {'x': checkpoint_epochs, 'Relu': relu_accs,\n",
    "        'Linear': linr_accs, 'Quadratic': quadr_accs}\n",
    "df = pd.DataFrame(data)\n",
    "plt.figure(figsize=(10, 6))\n",
    "plt.plot(df['x'], df['Relu'], marker='o', color='blue', label='Relu Accuracies')\n",
    "plt.plot(df['x'], df['Linear'], marker='o', color='green', label='Linear Accuracies')\n",
    "plt.plot(df['x'], df['Quadratic'], marker='o', color='red', label='Quadratic Accuracies')\n",
    "\n",
    "# Set x-axis to log scale\n",
    "plt.xscale('log')\n",
    "\n",
    "# Add labels and title\n",
    "plt.xlabel('X Axis (Log Scale)')\n",
    "plt.ylabel('Accuracies')\n",
    "plt.title('Accuracies vs X-Axis with Log Scale, CIFAR10, No Noise, Train Set')\n",
    "plt.legend()\n",
    "\n",
    "# Show the plot\n",
    "plt.grid(True, which=\"both\", ls=\"--\", linewidth=0.5)\n",
    "plt.tight_layout()\n",
    "plt.show()"
   ]
  },
  {
   "cell_type": "code",
   "execution_count": 16,
   "metadata": {},
   "outputs": [
    {
     "data": {
      "text/plain": [
       "[FFNModel(\n",
       "   (embed): Linear(\n",
       "     in_features=3072, out_features=256, bias=True\n",
       "     (gate): Identity()\n",
       "   )\n",
       "   (activation): ReLU()\n",
       "   (head): Linear(\n",
       "     in_features=256, out_features=10, bias=True\n",
       "     (gate): Identity()\n",
       "   )\n",
       "   (criterion): CrossEntropyLoss()\n",
       " ),\n",
       " FFNModel(\n",
       "   (embed): Linear(\n",
       "     in_features=3072, out_features=256, bias=True\n",
       "     (gate): Identity()\n",
       "   )\n",
       "   (activation): ReLU()\n",
       "   (head): Linear(\n",
       "     in_features=256, out_features=10, bias=True\n",
       "     (gate): Identity()\n",
       "   )\n",
       "   (criterion): CrossEntropyLoss()\n",
       " ),\n",
       " FFNModel(\n",
       "   (embed): Linear(\n",
       "     in_features=3072, out_features=256, bias=True\n",
       "     (gate): Identity()\n",
       "   )\n",
       "   (activation): ReLU()\n",
       "   (head): Linear(\n",
       "     in_features=256, out_features=10, bias=True\n",
       "     (gate): Identity()\n",
       "   )\n",
       "   (criterion): CrossEntropyLoss()\n",
       " ),\n",
       " FFNModel(\n",
       "   (embed): Linear(\n",
       "     in_features=3072, out_features=256, bias=True\n",
       "     (gate): Identity()\n",
       "   )\n",
       "   (activation): ReLU()\n",
       "   (head): Linear(\n",
       "     in_features=256, out_features=10, bias=True\n",
       "     (gate): Identity()\n",
       "   )\n",
       "   (criterion): CrossEntropyLoss()\n",
       " ),\n",
       " FFNModel(\n",
       "   (embed): Linear(\n",
       "     in_features=3072, out_features=256, bias=True\n",
       "     (gate): Identity()\n",
       "   )\n",
       "   (activation): ReLU()\n",
       "   (head): Linear(\n",
       "     in_features=256, out_features=10, bias=True\n",
       "     (gate): Identity()\n",
       "   )\n",
       "   (criterion): CrossEntropyLoss()\n",
       " ),\n",
       " FFNModel(\n",
       "   (embed): Linear(\n",
       "     in_features=3072, out_features=256, bias=True\n",
       "     (gate): Identity()\n",
       "   )\n",
       "   (activation): ReLU()\n",
       "   (head): Linear(\n",
       "     in_features=256, out_features=10, bias=True\n",
       "     (gate): Identity()\n",
       "   )\n",
       "   (criterion): CrossEntropyLoss()\n",
       " ),\n",
       " FFNModel(\n",
       "   (embed): Linear(\n",
       "     in_features=3072, out_features=256, bias=True\n",
       "     (gate): Identity()\n",
       "   )\n",
       "   (activation): ReLU()\n",
       "   (head): Linear(\n",
       "     in_features=256, out_features=10, bias=True\n",
       "     (gate): Identity()\n",
       "   )\n",
       "   (criterion): CrossEntropyLoss()\n",
       " ),\n",
       " FFNModel(\n",
       "   (embed): Linear(\n",
       "     in_features=3072, out_features=256, bias=True\n",
       "     (gate): Identity()\n",
       "   )\n",
       "   (activation): ReLU()\n",
       "   (head): Linear(\n",
       "     in_features=256, out_features=10, bias=True\n",
       "     (gate): Identity()\n",
       "   )\n",
       "   (criterion): CrossEntropyLoss()\n",
       " )]"
      ]
     },
     "execution_count": 16,
     "metadata": {},
     "output_type": "execute_result"
    }
   ],
   "source": [
    "all_relu_models = [load_checkpoint(ckpts, idx) for idx in checkpoint_epochs]\n",
    "#relu_accs = [test_model_acc(load_checkpoint(ckpts, idx), test_set=test, transform=t)\n",
    "#             for idx in tqdm(checkpoint_epochs)]\n",
    "all_relu_models"
   ]
  },
  {
   "cell_type": "code",
   "execution_count": 17,
   "metadata": {},
   "outputs": [
    {
     "name": "stdout",
     "output_type": "stream",
     "text": [
      "4720128\n",
      "torch.Size([10, 3072, 3072]) torch.Size([100, 3072])\n",
      "torch.Size([100, 4720128]) torch.Size([10, 4720128])\n"
     ]
    },
    {
     "data": {
      "text/plain": [
       "False"
      ]
     },
     "execution_count": 17,
     "metadata": {},
     "output_type": "execute_result"
    }
   ],
   "source": [
    "if train_bilinear:\n",
    "    bvals, bvecs = bilinear_model.decompose()\n",
    "    if plotting:\n",
    "        px.imshow(bvecs[0, -1].view(-1, 28).cpu(), color_continuous_midpoint=0, color_continuous_scale=\"RdBu\")\n",
    "\n",
    "x = test.x.flatten(start_dim=1)[:100,:]\n",
    "torch.allclose(test_inner(x), test_outer(x), atol=1e-5)"
   ]
  },
  {
   "cell_type": "markdown",
   "metadata": {},
   "source": [
    "~~Up to 460G ram used lol, VIRT 576~~ Fixed, uses low ram."
   ]
  },
  {
   "cell_type": "code",
   "execution_count": 8,
   "metadata": {},
   "outputs": [
    {
     "name": "stdout",
     "output_type": "stream",
     "text": [
      "regularized 0.4: 0.4347, 0.2988, 0.3504\n",
      "unregularized  : 0.5333, 0.3415, 0.4478\n"
     ]
    }
   ],
   "source": [
    "# error uh oh: testing on unmodified input dataset.\n",
    "\n",
    "linr_acc = test_model_acc(lin_01r, test_set=test, transform=t)\n",
    "relur_acc = test_model_acc(relu_model, test_set=test, transform=t)\n",
    "quadr_acc = test_model_acc(quad01r, test_set=test, transform=t)\n",
    "linu_acc = test_model_acc(lin_01u, test_set=test, transform=ut)\n",
    "reluu_acc = test_model_acc(relu_model_u, test_set=test, transform=ut)\n",
    "quadu_acc = test_model_acc(quad01u, test_set=test, transform=ut)\n",
    "print(f'regularized 0.4: {relur_acc:.4f}, {linr_acc:.4f}, {quadr_acc:.4f}')\n",
    "print(f'unregularized  : {reluu_acc:.4f}, {linu_acc:.4f}, {quadu_acc:.4f}')\n",
    "if train_bilinear:\n",
    "    bili_acc = test_model_acc(bilinear_model)\n",
    "    print(f'{bili_acc:.4f}')"
   ]
  },
  {
   "cell_type": "code",
   "execution_count": 37,
   "metadata": {},
   "outputs": [],
   "source": [
    "# SVD section\n",
    "import plotly.express as px\n",
    "\n",
    "ur, sr, vr = torch.svd(quad01r.beta)\n",
    "assert torch.allclose(quad01r.beta, ur @ (torch.diag(sr) @ vr.T), atol=1e-6)\n",
    "\n",
    "#px.imshow(u[:10].reshape((-1,28)).T, color_continuous_midpoint=0, color_continuous_scale=\"RdBu\")\n",
    "#px.imshow(u.T.reshape((280,28)).T, color_continuous_midpoint=0, color_continuous_scale=\"RdBu\")"
   ]
  },
  {
   "cell_type": "code",
   "execution_count": null,
   "metadata": {},
   "outputs": [
    {
     "name": "stdout",
     "output_type": "stream",
     "text": [
      "<class 'torch.Tensor'> <class 'torch.Tensor'>\n",
      "torch.Size([256])\n",
      "torch.Size([256])\n",
      "<class 'torch.Tensor'> <class 'torch.Tensor'>\n",
      "torch.Size([256])\n",
      "torch.Size([256])\n",
      "torch.Size([10000, 3072])\n",
      "torch.Size([10000, 3072])\n",
      "torch.Size([10000, 3072])\n",
      "torch.Size([10000, 3072])\n",
      "torch.Size([10000, 3072])\n",
      "torch.Size([10000, 3072])\n",
      "torch.Size([10000, 3072])\n",
      "torch.Size([10000, 3072])\n",
      "torch.Size([10000, 3072])\n",
      "torch.Size([10000, 3072])\n",
      "torch.Size([10000, 3072])\n",
      "torch.Size([10000, 3072])\n",
      "torch.Size([10000, 3072])\n",
      "torch.Size([10000, 3072])\n",
      "torch.Size([10000, 3072])\n",
      "torch.Size([10000, 3072])\n",
      "torch.Size([10000, 3072])\n",
      "torch.Size([10000, 3072])\n",
      "torch.Size([10000, 3072])\n",
      "torch.Size([10000, 3072])\n",
      "torch.Size([10000, 3072])\n",
      "torch.Size([10000, 3072])\n",
      "torch.Size([10000, 3072])\n",
      "torch.Size([10000, 3072])\n",
      "torch.Size([10000, 3072])\n",
      "torch.Size([10000, 3072])\n",
      "torch.Size([10000, 3072])\n",
      "torch.Size([10000, 3072])\n",
      "torch.Size([10000, 3072])\n",
      "torch.Size([10000, 3072])\n",
      "torch.Size([10000, 3072])\n",
      "torch.Size([10000, 3072])\n",
      "torch.Size([10000, 3072])\n",
      "<class 'torch.Tensor'> <class 'torch.Tensor'>\n",
      "torch.Size([256])\n",
      "torch.Size([256])\n",
      "<class 'torch.Tensor'> <class 'torch.Tensor'>\n",
      "torch.Size([256])\n",
      "torch.Size([256])\n",
      "torch.Size([10000, 3072])\n",
      "torch.Size([10000, 3072])\n",
      "torch.Size([10000, 3072])\n",
      "torch.Size([10000, 3072])\n",
      "torch.Size([10000, 3072])\n",
      "torch.Size([10000, 3072])\n",
      "torch.Size([10000, 3072])\n",
      "torch.Size([10000, 3072])\n",
      "torch.Size([10000, 3072])\n",
      "torch.Size([10000, 3072])\n",
      "torch.Size([10000, 3072])\n",
      "torch.Size([10000, 3072])\n",
      "torch.Size([10000, 3072])\n",
      "torch.Size([10000, 3072])\n",
      "torch.Size([10000, 3072])\n",
      "torch.Size([10000, 3072])\n",
      "torch.Size([10000, 3072])\n",
      "torch.Size([10000, 3072])\n",
      "torch.Size([10000, 3072])\n",
      "torch.Size([10000, 3072])\n",
      "torch.Size([10000, 3072])\n",
      "torch.Size([10000, 3072])\n",
      "torch.Size([10000, 3072])\n",
      "torch.Size([10000, 3072])\n",
      "torch.Size([10000, 3072])\n",
      "torch.Size([10000, 3072])\n",
      "torch.Size([10000, 3072])\n",
      "torch.Size([10000, 3072])\n",
      "torch.Size([10000, 3072])\n",
      "torch.Size([10000, 3072])\n",
      "torch.Size([10000, 3072])\n",
      "torch.Size([10000, 3072])\n",
      "torch.Size([10000, 3072])\n"
     ]
    },
    {
     "data": {
      "image/png": "[encoded data removed]",
      "text/plain": [
       "<Figure size 1200x600 with 1 Axes>"
      ]
     },
     "metadata": {},
     "output_type": "display_data"
    }
   ],
   "source": [
    "acc_loss = lambda y_hat, y: (y_hat.argmax(dim=-1) == y).float().mean()\n",
    "model_pair = (relu_model, relu_model_u)\n",
    "transform_pair = (t,ut)\n",
    "\n",
    "df4 = show_results(model_pair, transform_pair=transform_pair, loss=acc_loss)\n",
    "plot_svd_results(df4)"
   ]
  },
  {
   "cell_type": "code",
   "execution_count": 63,
   "metadata": {},
   "outputs": [
    {
     "name": "stdout",
     "output_type": "stream",
     "text": [
      "<class 'torch.Tensor'> <class 'torch.Tensor'>\n",
      "torch.Size([256])\n",
      "torch.Size([256])\n",
      "<class 'torch.Tensor'> <class 'torch.Tensor'>\n",
      "torch.Size([256])\n",
      "torch.Size([256])\n",
      "torch.Size([10000, 3072])\n",
      "torch.Size([10000, 3072])\n",
      "torch.Size([10000, 3072])\n",
      "torch.Size([10000, 3072])\n",
      "torch.Size([10000, 3072])\n",
      "torch.Size([10000, 3072])\n",
      "torch.Size([10000, 3072])\n",
      "torch.Size([10000, 3072])\n",
      "torch.Size([10000, 3072])\n",
      "torch.Size([10000, 3072])\n",
      "torch.Size([10000, 3072])\n",
      "torch.Size([10000, 3072])\n",
      "torch.Size([10000, 3072])\n",
      "torch.Size([10000, 3072])\n",
      "torch.Size([10000, 3072])\n",
      "torch.Size([10000, 3072])\n",
      "torch.Size([10000, 3072])\n",
      "torch.Size([10000, 3072])\n",
      "torch.Size([10000, 3072])\n",
      "torch.Size([10000, 3072])\n",
      "torch.Size([10000, 3072])\n",
      "torch.Size([10000, 3072])\n",
      "torch.Size([10000, 3072])\n",
      "torch.Size([10000, 3072])\n",
      "torch.Size([10000, 3072])\n",
      "torch.Size([10000, 3072])\n",
      "torch.Size([10000, 3072])\n",
      "torch.Size([10000, 3072])\n",
      "torch.Size([10000, 3072])\n",
      "torch.Size([10000, 3072])\n",
      "torch.Size([10000, 3072])\n",
      "torch.Size([10000, 3072])\n",
      "torch.Size([10000, 3072])\n",
      "<class 'torch.Tensor'> <class 'torch.Tensor'>\n",
      "torch.Size([256])\n",
      "torch.Size([256])\n",
      "<class 'torch.Tensor'> <class 'torch.Tensor'>\n",
      "torch.Size([256])\n",
      "torch.Size([256])\n",
      "torch.Size([10000, 3072])\n",
      "torch.Size([10000, 3072])\n",
      "torch.Size([10000, 3072])\n",
      "torch.Size([10000, 3072])\n",
      "torch.Size([10000, 3072])\n",
      "torch.Size([10000, 3072])\n",
      "torch.Size([10000, 3072])\n",
      "torch.Size([10000, 3072])\n",
      "torch.Size([10000, 3072])\n",
      "torch.Size([10000, 3072])\n",
      "torch.Size([10000, 3072])\n",
      "torch.Size([10000, 3072])\n",
      "torch.Size([10000, 3072])\n",
      "torch.Size([10000, 3072])\n",
      "torch.Size([10000, 3072])\n",
      "torch.Size([10000, 3072])\n",
      "torch.Size([10000, 3072])\n",
      "torch.Size([10000, 3072])\n",
      "torch.Size([10000, 3072])\n",
      "torch.Size([10000, 3072])\n",
      "torch.Size([10000, 3072])\n",
      "torch.Size([10000, 3072])\n",
      "torch.Size([10000, 3072])\n",
      "torch.Size([10000, 3072])\n",
      "torch.Size([10000, 3072])\n",
      "torch.Size([10000, 3072])\n",
      "torch.Size([10000, 3072])\n",
      "torch.Size([10000, 3072])\n",
      "torch.Size([10000, 3072])\n",
      "torch.Size([10000, 3072])\n",
      "torch.Size([10000, 3072])\n",
      "torch.Size([10000, 3072])\n",
      "torch.Size([10000, 3072])\n"
     ]
    },
    {
     "data": {
      "image/png": "[encoded data removed]",
      "text/plain": [
       "<Figure size 1200x600 with 1 Axes>"
      ]
     },
     "metadata": {},
     "output_type": "display_data"
    }
   ],
   "source": [
    "model_pair = (relu_model_reg_cifar, relu_model_unreg_cifar)\n",
    "transform_pair = (t,ut)\n",
    "\n",
    "df3 = show_results(model_pair, transform_pair=transform_pair)\n",
    "plot_svd_results(df3)"
   ]
  },
  {
   "cell_type": "code",
   "execution_count": null,
   "metadata": {},
   "outputs": [
    {
     "name": "stdout",
     "output_type": "stream",
     "text": [
      "<class 'torch.Tensor'> <class 'torch.Tensor'>\n",
      "torch.Size([256])\n",
      "torch.Size([256])\n",
      "<class 'torch.Tensor'> <class 'torch.Tensor'>\n",
      "torch.Size([256])\n",
      "torch.Size([256])\n",
      "torch.Size([10000, 3072])\n",
      "torch.Size([10000, 3072])\n",
      "torch.Size([10000, 3072])\n",
      "torch.Size([10000, 3072])\n",
      "torch.Size([10000, 3072])\n",
      "torch.Size([10000, 3072])\n",
      "torch.Size([10000, 3072])\n",
      "torch.Size([10000, 3072])\n",
      "torch.Size([10000, 3072])\n",
      "torch.Size([10000, 3072])\n",
      "torch.Size([10000, 3072])\n",
      "torch.Size([10000, 3072])\n",
      "torch.Size([10000, 3072])\n",
      "torch.Size([10000, 3072])\n",
      "torch.Size([10000, 3072])\n",
      "torch.Size([10000, 3072])\n",
      "torch.Size([10000, 3072])\n",
      "torch.Size([10000, 3072])\n",
      "torch.Size([10000, 3072])\n",
      "torch.Size([10000, 3072])\n",
      "torch.Size([10000, 3072])\n",
      "torch.Size([10000, 3072])\n",
      "torch.Size([10000, 3072])\n",
      "torch.Size([10000, 3072])\n",
      "torch.Size([10000, 3072])\n",
      "torch.Size([10000, 3072])\n",
      "torch.Size([10000, 3072])\n",
      "torch.Size([10000, 3072])\n",
      "torch.Size([10000, 3072])\n",
      "torch.Size([10000, 3072])\n",
      "torch.Size([10000, 3072])\n",
      "torch.Size([10000, 3072])\n",
      "torch.Size([10000, 3072])\n",
      "<class 'torch.Tensor'> <class 'torch.Tensor'>\n",
      "torch.Size([256])\n",
      "torch.Size([256])\n",
      "<class 'torch.Tensor'> <class 'torch.Tensor'>\n",
      "torch.Size([256])\n",
      "torch.Size([256])\n",
      "torch.Size([10000, 3072])\n",
      "torch.Size([10000, 3072])\n",
      "torch.Size([10000, 3072])\n",
      "torch.Size([10000, 3072])\n",
      "torch.Size([10000, 3072])\n",
      "torch.Size([10000, 3072])\n",
      "torch.Size([10000, 3072])\n",
      "torch.Size([10000, 3072])\n",
      "torch.Size([10000, 3072])\n",
      "torch.Size([10000, 3072])\n",
      "torch.Size([10000, 3072])\n",
      "torch.Size([10000, 3072])\n",
      "torch.Size([10000, 3072])\n",
      "torch.Size([10000, 3072])\n",
      "torch.Size([10000, 3072])\n",
      "torch.Size([10000, 3072])\n",
      "torch.Size([10000, 3072])\n",
      "torch.Size([10000, 3072])\n",
      "torch.Size([10000, 3072])\n",
      "torch.Size([10000, 3072])\n",
      "torch.Size([10000, 3072])\n",
      "torch.Size([10000, 3072])\n",
      "torch.Size([10000, 3072])\n",
      "torch.Size([10000, 3072])\n",
      "torch.Size([10000, 3072])\n",
      "torch.Size([10000, 3072])\n",
      "torch.Size([10000, 3072])\n",
      "torch.Size([10000, 3072])\n",
      "torch.Size([10000, 3072])\n",
      "torch.Size([10000, 3072])\n",
      "torch.Size([10000, 3072])\n",
      "torch.Size([10000, 3072])\n",
      "torch.Size([10000, 3072])\n"
     ]
    },
    {
     "data": {
      "image/png": "[encoded data removed]",
      "text/plain": [
       "<Figure size 1200x600 with 1 Axes>"
      ]
     },
     "metadata": {},
     "output_type": "display_data"
    }
   ],
   "source": [
    "model_pair = (relu_model, relu_model_u)\n",
    "transform_pair = (t,ut)\n",
    "\n",
    "# default: transformer_pair(None,None)\n",
    "#df = show_results(model_pair, transform_pair=transform_pair)\n",
    "df2 = show_results(model_pair, transform_pair=transform_pair, loss=nn.CrossEntropyLoss())\n",
    "plot_svd_results(df2)"
   ]
  },
  {
   "cell_type": "code",
   "execution_count": null,
   "metadata": {},
   "outputs": [
    {
     "name": "stdout",
     "output_type": "stream",
     "text": [
      "<class 'torch.Tensor'> <class 'torch.Tensor'>\n",
      "torch.Size([256])\n",
      "torch.Size([256])\n",
      "<class 'torch.Tensor'> <class 'torch.Tensor'>\n",
      "torch.Size([256])\n",
      "torch.Size([256])\n",
      "torch.Size([10000, 3072])\n",
      "torch.Size([10000, 3072])\n",
      "torch.Size([10000, 3072])\n",
      "torch.Size([10000, 3072])\n",
      "torch.Size([10000, 3072])\n",
      "torch.Size([10000, 3072])\n",
      "torch.Size([10000, 3072])\n",
      "torch.Size([10000, 3072])\n",
      "torch.Size([10000, 3072])\n",
      "torch.Size([10000, 3072])\n",
      "torch.Size([10000, 3072])\n",
      "torch.Size([10000, 3072])\n",
      "torch.Size([10000, 3072])\n",
      "torch.Size([10000, 3072])\n",
      "torch.Size([10000, 3072])\n",
      "torch.Size([10000, 3072])\n",
      "torch.Size([10000, 3072])\n",
      "torch.Size([10000, 3072])\n",
      "torch.Size([10000, 3072])\n",
      "torch.Size([10000, 3072])\n",
      "torch.Size([10000, 3072])\n",
      "torch.Size([10000, 3072])\n",
      "torch.Size([10000, 3072])\n",
      "torch.Size([10000, 3072])\n",
      "torch.Size([10000, 3072])\n",
      "torch.Size([10000, 3072])\n",
      "torch.Size([10000, 3072])\n",
      "torch.Size([10000, 3072])\n",
      "torch.Size([10000, 3072])\n",
      "torch.Size([10000, 3072])\n",
      "torch.Size([10000, 3072])\n",
      "torch.Size([10000, 3072])\n",
      "torch.Size([10000, 3072])\n"
     ]
    },
    {
     "data": {
      "text/plain": [
       "[0.4675999879837036,\n",
       " 0.47099998593330383,\n",
       " 0.40720000863075256,\n",
       " 0.3921000063419342,\n",
       " 0.3806000053882599,\n",
       " 0.3571000099182129,\n",
       " 0.3547999858856201,\n",
       " 0.34040001034736633,\n",
       " 0.3377000093460083,\n",
       " 0.334199994802475,\n",
       " 0.3319000005722046]"
      ]
     },
     "execution_count": 53,
     "metadata": {},
     "output_type": "execute_result"
    }
   ],
   "source": [
    "reg_base_accs, reg_line_accs, reg_quad_accs = test_svd_perf(model_pair[0], transform=transform_pair[0], loss=None)\n",
    "unr_base_accs, unr_line_accs, unr_quad_accs = test_svd_perf(model_pair[1], transform=transform_pair[1], loss=None)\n",
    "rows = []\n",
    "#reg_base_accs, reg_line_accs, reg_quad_accs = test_svd_perf(model_pair[0], transform=transform_pair[0], loss=loss)\n",
    "#print(reg_base_accs)\n",
    "#unr_base_accs, unr_line_accs, unr_quad_accs = test_svd_perf(model_pair[1], transform=transform_pair[1], loss=loss)\n",
    "#print(unr_base_accs)\n",
    "for i in range(11):\n",
    "    rows.append((i, reg_base_accs[i], reg_line_accs[i], reg_quad_accs[i],\n",
    "                    unr_base_accs[i], unr_line_accs[i], unr_quad_accs[i]))\n",
    "\n",
    "df = pd.DataFrame(rows, columns=['TopK', 'regRelu', 'regLinear', 'regQuadratic',\n",
    "                                    'unregRelu', 'unregLinear', 'unregQuadratic'])\n",
    "\n",
    "plot_svd_results(df)"
   ]
  },
  {
   "cell_type": "code",
   "execution_count": 57,
   "metadata": {},
   "outputs": [
    {
     "data": {
      "image/png": "[encoded data removed]",
      "text/plain": [
       "<Figure size 1200x600 with 1 Axes>"
      ]
     },
     "metadata": {},
     "output_type": "display_data"
    }
   ],
   "source": [
    "rows = []\n",
    "#reg_base_accs, reg_line_accs, reg_quad_accs = test_svd_perf(model_pair[0], transform=transform_pair[0], loss=loss)\n",
    "#print(reg_base_accs)\n",
    "#unr_base_accs, unr_line_accs, unr_quad_accs = test_svd_perf(model_pair[1], transform=transform_pair[1], loss=loss)\n",
    "#print(unr_base_accs)\n",
    "for i in range(11):\n",
    "    rows.append((i, reg_base_accs[i], reg_line_accs[i], reg_quad_accs[i],\n",
    "                    unr_base_accs[i], unr_line_accs[i], unr_quad_accs[i]))\n",
    "\n",
    "df = pd.DataFrame(rows, columns=['TopK', 'regRelu', 'regLinear', 'regQuadratic',\n",
    "                                    'unregRelu', 'unregLinear', 'unregQuadratic'])\n",
    "\n",
    "plot_svd_results(df)"
   ]
  },
  {
   "cell_type": "code",
   "execution_count": null,
   "metadata": {},
   "outputs": [
    {
     "name": "stdout",
     "output_type": "stream",
     "text": [
      "<class 'torch.Tensor'> <class 'torch.Tensor'>\n",
      "torch.Size([256])\n",
      "torch.Size([256])\n",
      "<class 'torch.Tensor'> <class 'torch.Tensor'>\n",
      "torch.Size([256])\n",
      "torch.Size([256])\n",
      "<class 'torch.Tensor'> <class 'torch.Tensor'>\n",
      "torch.Size([256])\n",
      "torch.Size([256])\n",
      "<class 'torch.Tensor'> <class 'torch.Tensor'>\n",
      "torch.Size([256])\n",
      "torch.Size([256])\n"
     ]
    },
    {
     "data": {
      "image/png": "[encoded data removed]",
      "text/plain": [
       "<Figure size 1200x600 with 1 Axes>"
      ]
     },
     "metadata": {},
     "output_type": "display_data"
    }
   ],
   "source": [
    "def plot_svd_results(df):\n",
    "    plt.figure(figsize=(12, 6))\n",
    "\n",
    "    # Plot for regulated models\n",
    "    plt.plot(df['TopK'], df['regRelu'], color='b', label='Reg ReLU', linestyle='-')\n",
    "    plt.plot(df['TopK'], df['regLinear'], color='b', label='Reg Linear', linestyle='--')\n",
    "    plt.plot(df['TopK'], df['regQuadratic'], color='b', label='Reg Quadratic', linestyle=':')\n",
    "\n",
    "    # Plot for unregulated models\n",
    "    plt.plot(df['TopK'], df['unregRelu'], color='r', label='Unreg ReLU', linestyle='-')\n",
    "    plt.plot(df['TopK'], df['unregLinear'], color='r', label='Unreg Linear', linestyle='--')\n",
    "    plt.plot(df['TopK'], df['unregQuadratic'], color='r', label='Unreg Quadratic', linestyle=':')\n",
    "\n",
    "    # Adding a title and labels\n",
    "    plt.title('SVD Performance Across Different Models and TopK')\n",
    "    plt.xlabel('TopK')\n",
    "    plt.ylabel('Accuracy')\n",
    "    \n",
    "    # Add grid\n",
    "    plt.grid()\n",
    "\n",
    "    # Show the legend\n",
    "    plt.legend()\n",
    "    \n",
    "    # Show the plot\n",
    "    plt.show()\n",
    "\n",
    "# Call the plotting function\n",
    "plot_svd_results(df)"
   ]
  },
  {
   "cell_type": "code",
   "execution_count": 20,
   "metadata": {},
   "outputs": [
    {
     "data": {
      "text/html": [
       "<div>\n",
       "<style scoped>\n",
       "    .dataframe tbody tr th:only-of-type {\n",
       "        vertical-align: middle;\n",
       "    }\n",
       "\n",
       "    .dataframe tbody tr th {\n",
       "        vertical-align: top;\n",
       "    }\n",
       "\n",
       "    .dataframe thead th {\n",
       "        text-align: right;\n",
       "    }\n",
       "</style>\n",
       "<table border=\"1\" class=\"dataframe\">\n",
       "  <thead>\n",
       "    <tr style=\"text-align: right;\">\n",
       "      <th></th>\n",
       "      <th>TopK</th>\n",
       "      <th>Regularization</th>\n",
       "      <th>lin</th>\n",
       "      <th>quad</th>\n",
       "      <th>relu</th>\n",
       "    </tr>\n",
       "  </thead>\n",
       "  <tbody>\n",
       "    <tr>\n",
       "      <th>0</th>\n",
       "      <td>1</td>\n",
       "      <td>regularized</td>\n",
       "      <td>0.7000</td>\n",
       "      <td>0.8595</td>\n",
       "      <td>0.8808</td>\n",
       "    </tr>\n",
       "    <tr>\n",
       "      <th>1</th>\n",
       "      <td>1</td>\n",
       "      <td>unregularized</td>\n",
       "      <td>0.6978</td>\n",
       "      <td>0.8226</td>\n",
       "      <td>0.8645</td>\n",
       "    </tr>\n",
       "    <tr>\n",
       "      <th>2</th>\n",
       "      <td>2</td>\n",
       "      <td>regularized</td>\n",
       "      <td>0.5398</td>\n",
       "      <td>0.6497</td>\n",
       "      <td>0.7117</td>\n",
       "    </tr>\n",
       "    <tr>\n",
       "      <th>3</th>\n",
       "      <td>2</td>\n",
       "      <td>unregularized</td>\n",
       "      <td>0.4957</td>\n",
       "      <td>0.6630</td>\n",
       "      <td>0.7268</td>\n",
       "    </tr>\n",
       "    <tr>\n",
       "      <th>4</th>\n",
       "      <td>3</td>\n",
       "      <td>regularized</td>\n",
       "      <td>0.3617</td>\n",
       "      <td>0.4771</td>\n",
       "      <td>0.5760</td>\n",
       "    </tr>\n",
       "    <tr>\n",
       "      <th>5</th>\n",
       "      <td>3</td>\n",
       "      <td>unregularized</td>\n",
       "      <td>0.4222</td>\n",
       "      <td>0.5606</td>\n",
       "      <td>0.6575</td>\n",
       "    </tr>\n",
       "    <tr>\n",
       "      <th>6</th>\n",
       "      <td>4</td>\n",
       "      <td>regularized</td>\n",
       "      <td>0.2972</td>\n",
       "      <td>0.4112</td>\n",
       "      <td>0.5383</td>\n",
       "    </tr>\n",
       "    <tr>\n",
       "      <th>7</th>\n",
       "      <td>4</td>\n",
       "      <td>unregularized</td>\n",
       "      <td>0.3940</td>\n",
       "      <td>0.4963</td>\n",
       "      <td>0.5778</td>\n",
       "    </tr>\n",
       "    <tr>\n",
       "      <th>8</th>\n",
       "      <td>5</td>\n",
       "      <td>regularized</td>\n",
       "      <td>0.2915</td>\n",
       "      <td>0.4796</td>\n",
       "      <td>0.4646</td>\n",
       "    </tr>\n",
       "    <tr>\n",
       "      <th>9</th>\n",
       "      <td>5</td>\n",
       "      <td>unregularized</td>\n",
       "      <td>0.4097</td>\n",
       "      <td>0.5364</td>\n",
       "      <td>0.5358</td>\n",
       "    </tr>\n",
       "    <tr>\n",
       "      <th>10</th>\n",
       "      <td>6</td>\n",
       "      <td>regularized</td>\n",
       "      <td>0.2096</td>\n",
       "      <td>0.3776</td>\n",
       "      <td>0.3842</td>\n",
       "    </tr>\n",
       "    <tr>\n",
       "      <th>11</th>\n",
       "      <td>6</td>\n",
       "      <td>unregularized</td>\n",
       "      <td>0.1978</td>\n",
       "      <td>0.3651</td>\n",
       "      <td>0.4035</td>\n",
       "    </tr>\n",
       "    <tr>\n",
       "      <th>12</th>\n",
       "      <td>7</td>\n",
       "      <td>regularized</td>\n",
       "      <td>0.1218</td>\n",
       "      <td>0.2760</td>\n",
       "      <td>0.2684</td>\n",
       "    </tr>\n",
       "    <tr>\n",
       "      <th>13</th>\n",
       "      <td>7</td>\n",
       "      <td>unregularized</td>\n",
       "      <td>0.1292</td>\n",
       "      <td>0.3459</td>\n",
       "      <td>0.2706</td>\n",
       "    </tr>\n",
       "    <tr>\n",
       "      <th>14</th>\n",
       "      <td>8</td>\n",
       "      <td>regularized</td>\n",
       "      <td>0.1195</td>\n",
       "      <td>0.1756</td>\n",
       "      <td>0.1831</td>\n",
       "    </tr>\n",
       "    <tr>\n",
       "      <th>15</th>\n",
       "      <td>8</td>\n",
       "      <td>unregularized</td>\n",
       "      <td>0.1564</td>\n",
       "      <td>0.2510</td>\n",
       "      <td>0.2223</td>\n",
       "    </tr>\n",
       "    <tr>\n",
       "      <th>16</th>\n",
       "      <td>9</td>\n",
       "      <td>regularized</td>\n",
       "      <td>0.0892</td>\n",
       "      <td>0.2157</td>\n",
       "      <td>0.2057</td>\n",
       "    </tr>\n",
       "    <tr>\n",
       "      <th>17</th>\n",
       "      <td>9</td>\n",
       "      <td>unregularized</td>\n",
       "      <td>0.0895</td>\n",
       "      <td>0.1439</td>\n",
       "      <td>0.1552</td>\n",
       "    </tr>\n",
       "    <tr>\n",
       "      <th>18</th>\n",
       "      <td>10</td>\n",
       "      <td>regularized</td>\n",
       "      <td>0.0892</td>\n",
       "      <td>0.2110</td>\n",
       "      <td>0.1972</td>\n",
       "    </tr>\n",
       "    <tr>\n",
       "      <th>19</th>\n",
       "      <td>10</td>\n",
       "      <td>unregularized</td>\n",
       "      <td>0.0892</td>\n",
       "      <td>0.1616</td>\n",
       "      <td>0.1464</td>\n",
       "    </tr>\n",
       "  </tbody>\n",
       "</table>\n",
       "</div>"
      ],
      "text/plain": [
       "    TopK Regularization     lin    quad    relu\n",
       "0      1    regularized  0.7000  0.8595  0.8808\n",
       "1      1  unregularized  0.6978  0.8226  0.8645\n",
       "2      2    regularized  0.5398  0.6497  0.7117\n",
       "3      2  unregularized  0.4957  0.6630  0.7268\n",
       "4      3    regularized  0.3617  0.4771  0.5760\n",
       "5      3  unregularized  0.4222  0.5606  0.6575\n",
       "6      4    regularized  0.2972  0.4112  0.5383\n",
       "7      4  unregularized  0.3940  0.4963  0.5778\n",
       "8      5    regularized  0.2915  0.4796  0.4646\n",
       "9      5  unregularized  0.4097  0.5364  0.5358\n",
       "10     6    regularized  0.2096  0.3776  0.3842\n",
       "11     6  unregularized  0.1978  0.3651  0.4035\n",
       "12     7    regularized  0.1218  0.2760  0.2684\n",
       "13     7  unregularized  0.1292  0.3459  0.2706\n",
       "14     8    regularized  0.1195  0.1756  0.1831\n",
       "15     8  unregularized  0.1564  0.2510  0.2223\n",
       "16     9    regularized  0.0892  0.2157  0.2057\n",
       "17     9  unregularized  0.0895  0.1439  0.1552\n",
       "18    10    regularized  0.0892  0.2110  0.1972\n",
       "19    10  unregularized  0.0892  0.1616  0.1464"
      ]
     },
     "execution_count": 20,
     "metadata": {},
     "output_type": "execute_result"
    }
   ],
   "source": [
    "import pandas as pd\n",
    "\n",
    "def show_results(topk=1):\n",
    "    # Define models and transformations to test, paired with descriptor strings\n",
    "    models_transforms = []\n",
    "    for i in range(1, topk + 1):\n",
    "        models_transforms.append(('relu', 'regularized', relu_model, i, adv_svd(ur, topk=i)))\n",
    "        models_transforms.append(('lin', 'regularized', lin_01r, i, adv_svd(ur, topk=i)))\n",
    "        models_transforms.append(('quad', 'regularized', quad01r, i, adv_svd(ur, topk=i)))\n",
    "        models_transforms.append(('relu', 'unregularized', relu_model_unreg, i, adv_svd(uu, topk=i)))\n",
    "        models_transforms.append(('lin', 'unregularized', lin_01u, i, adv_svd(uu, topk=i)))\n",
    "        models_transforms.append(('quad', 'unregularized', quad01u, i, adv_svd(uu, topk=i)))\n",
    "\n",
    "    # Collect results\n",
    "    results = []\n",
    "    for name, mode, model, i, transform in models_transforms:\n",
    "        svd_acc = test_model_acc(model, transform=transform)\n",
    "        results.append((i, name, mode, svd_acc))\n",
    "\n",
    "    # Create a DataFrame with separate columns for model types\n",
    "    df = pd.DataFrame(results, columns=['TopK', 'Model', 'Regularization', 'SVD Atk'])\n",
    "\n",
    "    # Pivot the DataFrame to have separate columns for each model type\n",
    "    pivot_table = df.pivot_table(index=['TopK', 'Regularization'], \n",
    "                                  columns='Model', \n",
    "                                  values='SVD Atk', \n",
    "                                  aggfunc='first')\n",
    "\n",
    "    # Flatten the multi-index columns\n",
    "    pivot_table.columns.name = None  # remove the categories name\n",
    "    pivot_table.reset_index(inplace=True)\n",
    "\n",
    "    # Print the dataframe\n",
    "    return pivot_table\n",
    "\n",
    "show_results(topk=10)"
   ]
  },
  {
   "cell_type": "markdown",
   "metadata": {},
   "source": [
    "### Viz images"
   ]
  },
  {
   "cell_type": "code",
   "execution_count": 17,
   "metadata": {},
   "outputs": [],
   "source": [
    "def test_model_acc(model, test_set=test, num_samples=10000, transform = None):\n",
    "    assert 0 <= num_samples <= test_set.y.size(0), 'num_samples too large!!'\n",
    "    accuracy = lambda y_hat, y: (y_hat.argmax(dim=-1) == y).float().mean()\n",
    "    if transform is not None:\n",
    "        inp = torch.einsum('ij,bj->bi', transform, test.x.flatten(start_dim=1))\n",
    "    else:\n",
    "        inp = test.x.flatten(start_dim=1)\n",
    "    fwd = model(inp[:num_samples])\n",
    "    return accuracy(fwd, test_set.y[:num_samples]).item()\n",
    "\n",
    "transform = adv_svd(uu)\n",
    "images = test.x.flatten(start_dim=1)\n",
    "images_u = torch.einsum('ij,bj->bi', adv_svd(uu, topk=1), images)\n",
    "images_r = torch.einsum('ij,bj->bi', adv_svd(ur, topk=1), images)"
   ]
  },
  {
   "cell_type": "code",
   "execution_count": 71,
   "metadata": {},
   "outputs": [
    {
     "data": {
      "application/vnd.plotly.v1+json": {
       "config": {
        "plotlyServerURL": "https://plot.ly"
       },
       "data": [
        {
         "coloraxis": "coloraxis",
         "hovertemplate": "x: %{x}<br>y: %{y}<br>color: %{z}<extra></extra>",
         "name": "0",
         "type": "heatmap",
         "xaxis": "x",
         "yaxis": "y",
         "z": [
          [
           0,
           0,
           0,
           0,
           0,
           0,
           0,
           0,
           0,
           0,
           0,
           0,
           0,
           0,
           0,
           0,
           0,
           0,
           0,
           0,
           0,
           0,
           0,
           0,
           0,
           0,
           0,
           0
          ],
          [
           0,
           0,
           0,
           0,
           0,
           0,
           0,
           0,
           0,
           0,
           0,
           0,
           0,
           0,
           0,
           0,
           0,
           0,
           0,
           0,
           0,
           0,
           0,
           0,
           0,
           0,
           0,
           0
          ],
          [
           0,
           0,
           0,
           0,
           0,
           0,
           0,
           0,
           0,
           0,
           0,
           0,
           0,
           0,
           0,
           0,
           0,
           0,
           0,
           0,
           0,
           0,
           0,
           0,
           0,
           0,
           0,
           0
          ],
          [
           0,
           0,
           0,
           0,
           0,
           0,
           0,
           0,
           0,
           0,
           0,
           0,
           0,
           0,
           0,
           0,
           0,
           0,
           0,
           0,
           0,
           0,
           0,
           0,
           0,
           0,
           0,
           0
          ],
          [
           0,
           0,
           0,
           0,
           0,
           0,
           0,
           0,
           0,
           0,
           0,
           0,
           0,
           0,
           0,
           0,
           0,
           0,
           0,
           0,
           0,
           0,
           0,
           0,
           0,
           0,
           0,
           0
          ],
          [
           0,
           0,
           0,
           0,
           0,
           0,
           0,
           0,
           0,
           0,
           0,
           0,
           0,
           0,
           0,
           0,
           0,
           0,
           0,
           0,
           0,
           0,
           0,
           0,
           0,
           0,
           0,
           0
          ],
          [
           0,
           0,
           0,
           0,
           0,
           0,
           0,
           0,
           0,
           0,
           0,
           0,
           0,
           0,
           0,
           0,
           0,
           0,
           0,
           0,
           0,
           0,
           0,
           0,
           0,
           0,
           0,
           0
          ],
          [
           0,
           0,
           0,
           0,
           0,
           0,
           0.3294117748737335,
           0.7254902124404907,
           0.6235294342041016,
           0.5921568870544434,
           0.23529411852359772,
           0.1411764770746231,
           0,
           0,
           0,
           0,
           0,
           0,
           0,
           0,
           0,
           0,
           0,
           0,
           0,
           0,
           0,
           0
          ],
          [
           0,
           0,
           0,
           0,
           0,
           0,
           0.8705882430076599,
           0.9960784316062927,
           0.9960784316062927,
           0.9960784316062927,
           0.9960784316062927,
           0.9450980424880981,
           0.7764706015586853,
           0.7764706015586853,
           0.7764706015586853,
           0.7764706015586853,
           0.7764706015586853,
           0.7764706015586853,
           0.7764706015586853,
           0.7764706015586853,
           0.6666666865348816,
           0.20392157137393951,
           0,
           0,
           0,
           0,
           0,
           0
          ],
          [
           0,
           0,
           0,
           0,
           0,
           0,
           0.26274511218070984,
           0.4470588266849518,
           0.2823529541492462,
           0.4470588266849518,
           0.6392157077789307,
           0.8901960849761963,
           0.9960784316062927,
           0.8823529481887817,
           0.9960784316062927,
           0.9960784316062927,
           0.9960784316062927,
           0.9803921580314636,
           0.8980392217636108,
           0.9960784316062927,
           0.9960784316062927,
           0.5490196347236633,
           0,
           0,
           0,
           0,
           0,
           0
          ],
          [
           0,
           0,
           0,
           0,
           0,
           0,
           0,
           0,
           0,
           0,
           0,
           0.06666667014360428,
           0.25882354378700256,
           0.054901961237192154,
           0.26274511218070984,
           0.26274511218070984,
           0.26274511218070984,
           0.23137255012989044,
           0.08235294371843338,
           0.9254902005195618,
           0.9960784316062927,
           0.4156862795352936,
           0,
           0,
           0,
           0,
           0,
           0
          ],
          [
           0,
           0,
           0,
           0,
           0,
           0,
           0,
           0,
           0,
           0,
           0,
           0,
           0,
           0,
           0,
           0,
           0,
           0,
           0.32549020648002625,
           0.9921568632125854,
           0.8196078538894653,
           0.07058823853731155,
           0,
           0,
           0,
           0,
           0,
           0
          ],
          [
           0,
           0,
           0,
           0,
           0,
           0,
           0,
           0,
           0,
           0,
           0,
           0,
           0,
           0,
           0,
           0,
           0,
           0.08627451211214066,
           0.9137254953384399,
           1,
           0.32549020648002625,
           0,
           0,
           0,
           0,
           0,
           0,
           0
          ],
          [
           0,
           0,
           0,
           0,
           0,
           0,
           0,
           0,
           0,
           0,
           0,
           0,
           0,
           0,
           0,
           0,
           0,
           0.5058823823928833,
           0.9960784316062927,
           0.9333333373069763,
           0.1725490242242813,
           0,
           0,
           0,
           0,
           0,
           0,
           0
          ],
          [
           0,
           0,
           0,
           0,
           0,
           0,
           0,
           0,
           0,
           0,
           0,
           0,
           0,
           0,
           0,
           0,
           0.23137255012989044,
           0.9764705896377563,
           0.9960784316062927,
           0.24313725531101227,
           0,
           0,
           0,
           0,
           0,
           0,
           0,
           0
          ],
          [
           0,
           0,
           0,
           0,
           0,
           0,
           0,
           0,
           0,
           0,
           0,
           0,
           0,
           0,
           0,
           0,
           0.5215686559677124,
           0.9960784316062927,
           0.7333333492279053,
           0.019607843831181526,
           0,
           0,
           0,
           0,
           0,
           0,
           0,
           0
          ],
          [
           0,
           0,
           0,
           0,
           0,
           0,
           0,
           0,
           0,
           0,
           0,
           0,
           0,
           0,
           0,
           0.03529411926865578,
           0.8039215803146362,
           0.9725490212440491,
           0.22745098173618317,
           0,
           0,
           0,
           0,
           0,
           0,
           0,
           0,
           0
          ],
          [
           0,
           0,
           0,
           0,
           0,
           0,
           0,
           0,
           0,
           0,
           0,
           0,
           0,
           0,
           0,
           0.4941176474094391,
           0.9960784316062927,
           0.7137255072593689,
           0,
           0,
           0,
           0,
           0,
           0,
           0,
           0,
           0,
           0
          ],
          [
           0,
           0,
           0,
           0,
           0,
           0,
           0,
           0,
           0,
           0,
           0,
           0,
           0,
           0,
           0.29411765933036804,
           0.9843137264251709,
           0.9411764740943909,
           0.2235294133424759,
           0,
           0,
           0,
           0,
           0,
           0,
           0,
           0,
           0,
           0
          ],
          [
           0,
           0,
           0,
           0,
           0,
           0,
           0,
           0,
           0,
           0,
           0,
           0,
           0,
           0.07450980693101883,
           0.8666666746139526,
           0.9960784316062927,
           0.6509804129600525,
           0,
           0,
           0,
           0,
           0,
           0,
           0,
           0,
           0,
           0,
           0
          ],
          [
           0,
           0,
           0,
           0,
           0,
           0,
           0,
           0,
           0,
           0,
           0,
           0,
           0.0117647061124444,
           0.7960784435272217,
           0.9960784316062927,
           0.8588235378265381,
           0.13725490868091583,
           0,
           0,
           0,
           0,
           0,
           0,
           0,
           0,
           0,
           0,
           0
          ],
          [
           0,
           0,
           0,
           0,
           0,
           0,
           0,
           0,
           0,
           0,
           0,
           0,
           0.14901961386203766,
           0.9960784316062927,
           0.9960784316062927,
           0.3019607961177826,
           0,
           0,
           0,
           0,
           0,
           0,
           0,
           0,
           0,
           0,
           0,
           0
          ],
          [
           0,
           0,
           0,
           0,
           0,
           0,
           0,
           0,
           0,
           0,
           0,
           0.12156862765550613,
           0.8784313797950745,
           0.9960784316062927,
           0.45098039507865906,
           0.003921568859368563,
           0,
           0,
           0,
           0,
           0,
           0,
           0,
           0,
           0,
           0,
           0,
           0
          ],
          [
           0,
           0,
           0,
           0,
           0,
           0,
           0,
           0,
           0,
           0,
           0,
           0.5215686559677124,
           0.9960784316062927,
           0.9960784316062927,
           0.20392157137393951,
           0,
           0,
           0,
           0,
           0,
           0,
           0,
           0,
           0,
           0,
           0,
           0,
           0
          ],
          [
           0,
           0,
           0,
           0,
           0,
           0,
           0,
           0,
           0,
           0,
           0.239215686917305,
           0.9490196108818054,
           0.9960784316062927,
           0.9960784316062927,
           0.20392157137393951,
           0,
           0,
           0,
           0,
           0,
           0,
           0,
           0,
           0,
           0,
           0,
           0,
           0
          ],
          [
           0,
           0,
           0,
           0,
           0,
           0,
           0,
           0,
           0,
           0,
           0.4745098054409027,
           0.9960784316062927,
           0.9960784316062927,
           0.8588235378265381,
           0.1568627506494522,
           0,
           0,
           0,
           0,
           0,
           0,
           0,
           0,
           0,
           0,
           0,
           0,
           0
          ],
          [
           0,
           0,
           0,
           0,
           0,
           0,
           0,
           0,
           0,
           0,
           0.4745098054409027,
           0.9960784316062927,
           0.8117647171020508,
           0.07058823853731155,
           0,
           0,
           0,
           0,
           0,
           0,
           0,
           0,
           0,
           0,
           0,
           0,
           0,
           0
          ],
          [
           0,
           0,
           0,
           0,
           0,
           0,
           0,
           0,
           0,
           0,
           0,
           0,
           0,
           0,
           0,
           0,
           0,
           0,
           0,
           0,
           0,
           0,
           0,
           0,
           0,
           0,
           0,
           0
          ]
         ]
        }
       ],
       "layout": {
        "coloraxis": {
         "colorscale": [
          [
           0,
           "#0d0887"
          ],
          [
           0.1111111111111111,
           "#46039f"
          ],
          [
           0.2222222222222222,
           "#7201a8"
          ],
          [
           0.3333333333333333,
           "#9c179e"
          ],
          [
           0.4444444444444444,
           "#bd3786"
          ],
          [
           0.5555555555555556,
           "#d8576b"
          ],
          [
           0.6666666666666666,
           "#ed7953"
          ],
          [
           0.7777777777777778,
           "#fb9f3a"
          ],
          [
           0.8888888888888888,
           "#fdca26"
          ],
          [
           1,
           "#f0f921"
          ]
         ]
        },
        "margin": {
         "t": 60
        },
        "template": {
         "data": {
          "bar": [
           {
            "error_x": {
             "color": "#2a3f5f"
            },
            "error_y": {
             "color": "#2a3f5f"
            },
            "marker": {
             "line": {
              "color": "#E5ECF6",
              "width": 0.5
             },
             "pattern": {
              "fillmode": "overlay",
              "size": 10,
              "solidity": 0.2
             }
            },
            "type": "bar"
           }
          ],
          "barpolar": [
           {
            "marker": {
             "line": {
              "color": "#E5ECF6",
              "width": 0.5
             },
             "pattern": {
              "fillmode": "overlay",
              "size": 10,
              "solidity": 0.2
             }
            },
            "type": "barpolar"
           }
          ],
          "carpet": [
           {
            "aaxis": {
             "endlinecolor": "#2a3f5f",
             "gridcolor": "white",
             "linecolor": "white",
             "minorgridcolor": "white",
             "startlinecolor": "#2a3f5f"
            },
            "baxis": {
             "endlinecolor": "#2a3f5f",
             "gridcolor": "white",
             "linecolor": "white",
             "minorgridcolor": "white",
             "startlinecolor": "#2a3f5f"
            },
            "type": "carpet"
           }
          ],
          "choropleth": [
           {
            "colorbar": {
             "outlinewidth": 0,
             "ticks": ""
            },
            "type": "choropleth"
           }
          ],
          "contour": [
           {
            "colorbar": {
             "outlinewidth": 0,
             "ticks": ""
            },
            "colorscale": [
             [
              0,
              "#0d0887"
             ],
             [
              0.1111111111111111,
              "#46039f"
             ],
             [
              0.2222222222222222,
              "#7201a8"
             ],
             [
              0.3333333333333333,
              "#9c179e"
             ],
             [
              0.4444444444444444,
              "#bd3786"
             ],
             [
              0.5555555555555556,
              "#d8576b"
             ],
             [
              0.6666666666666666,
              "#ed7953"
             ],
             [
              0.7777777777777778,
              "#fb9f3a"
             ],
             [
              0.8888888888888888,
              "#fdca26"
             ],
             [
              1,
              "#f0f921"
             ]
            ],
            "type": "contour"
           }
          ],
          "contourcarpet": [
           {
            "colorbar": {
             "outlinewidth": 0,
             "ticks": ""
            },
            "type": "contourcarpet"
           }
          ],
          "heatmap": [
           {
            "colorbar": {
             "outlinewidth": 0,
             "ticks": ""
            },
            "colorscale": [
             [
              0,
              "#0d0887"
             ],
             [
              0.1111111111111111,
              "#46039f"
             ],
             [
              0.2222222222222222,
              "#7201a8"
             ],
             [
              0.3333333333333333,
              "#9c179e"
             ],
             [
              0.4444444444444444,
              "#bd3786"
             ],
             [
              0.5555555555555556,
              "#d8576b"
             ],
             [
              0.6666666666666666,
              "#ed7953"
             ],
             [
              0.7777777777777778,
              "#fb9f3a"
             ],
             [
              0.8888888888888888,
              "#fdca26"
             ],
             [
              1,
              "#f0f921"
             ]
            ],
            "type": "heatmap"
           }
          ],
          "heatmapgl": [
           {
            "colorbar": {
             "outlinewidth": 0,
             "ticks": ""
            },
            "colorscale": [
             [
              0,
              "#0d0887"
             ],
             [
              0.1111111111111111,
              "#46039f"
             ],
             [
              0.2222222222222222,
              "#7201a8"
             ],
             [
              0.3333333333333333,
              "#9c179e"
             ],
             [
              0.4444444444444444,
              "#bd3786"
             ],
             [
              0.5555555555555556,
              "#d8576b"
             ],
             [
              0.6666666666666666,
              "#ed7953"
             ],
             [
              0.7777777777777778,
              "#fb9f3a"
             ],
             [
              0.8888888888888888,
              "#fdca26"
             ],
             [
              1,
              "#f0f921"
             ]
            ],
            "type": "heatmapgl"
           }
          ],
          "histogram": [
           {
            "marker": {
             "pattern": {
              "fillmode": "overlay",
              "size": 10,
              "solidity": 0.2
             }
            },
            "type": "histogram"
           }
          ],
          "histogram2d": [
           {
            "colorbar": {
             "outlinewidth": 0,
             "ticks": ""
            },
            "colorscale": [
             [
              0,
              "#0d0887"
             ],
             [
              0.1111111111111111,
              "#46039f"
             ],
             [
              0.2222222222222222,
              "#7201a8"
             ],
             [
              0.3333333333333333,
              "#9c179e"
             ],
             [
              0.4444444444444444,
              "#bd3786"
             ],
             [
              0.5555555555555556,
              "#d8576b"
             ],
             [
              0.6666666666666666,
              "#ed7953"
             ],
             [
              0.7777777777777778,
              "#fb9f3a"
             ],
             [
              0.8888888888888888,
              "#fdca26"
             ],
             [
              1,
              "#f0f921"
             ]
            ],
            "type": "histogram2d"
           }
          ],
          "histogram2dcontour": [
           {
            "colorbar": {
             "outlinewidth": 0,
             "ticks": ""
            },
            "colorscale": [
             [
              0,
              "#0d0887"
             ],
             [
              0.1111111111111111,
              "#46039f"
             ],
             [
              0.2222222222222222,
              "#7201a8"
             ],
             [
              0.3333333333333333,
              "#9c179e"
             ],
             [
              0.4444444444444444,
              "#bd3786"
             ],
             [
              0.5555555555555556,
              "#d8576b"
             ],
             [
              0.6666666666666666,
              "#ed7953"
             ],
             [
              0.7777777777777778,
              "#fb9f3a"
             ],
             [
              0.8888888888888888,
              "#fdca26"
             ],
             [
              1,
              "#f0f921"
             ]
            ],
            "type": "histogram2dcontour"
           }
          ],
          "mesh3d": [
           {
            "colorbar": {
             "outlinewidth": 0,
             "ticks": ""
            },
            "type": "mesh3d"
           }
          ],
          "parcoords": [
           {
            "line": {
             "colorbar": {
              "outlinewidth": 0,
              "ticks": ""
             }
            },
            "type": "parcoords"
           }
          ],
          "pie": [
           {
            "automargin": true,
            "type": "pie"
           }
          ],
          "scatter": [
           {
            "fillpattern": {
             "fillmode": "overlay",
             "size": 10,
             "solidity": 0.2
            },
            "type": "scatter"
           }
          ],
          "scatter3d": [
           {
            "line": {
             "colorbar": {
              "outlinewidth": 0,
              "ticks": ""
             }
            },
            "marker": {
             "colorbar": {
              "outlinewidth": 0,
              "ticks": ""
             }
            },
            "type": "scatter3d"
           }
          ],
          "scattercarpet": [
           {
            "marker": {
             "colorbar": {
              "outlinewidth": 0,
              "ticks": ""
             }
            },
            "type": "scattercarpet"
           }
          ],
          "scattergeo": [
           {
            "marker": {
             "colorbar": {
              "outlinewidth": 0,
              "ticks": ""
             }
            },
            "type": "scattergeo"
           }
          ],
          "scattergl": [
           {
            "marker": {
             "colorbar": {
              "outlinewidth": 0,
              "ticks": ""
             }
            },
            "type": "scattergl"
           }
          ],
          "scattermapbox": [
           {
            "marker": {
             "colorbar": {
              "outlinewidth": 0,
              "ticks": ""
             }
            },
            "type": "scattermapbox"
           }
          ],
          "scatterpolar": [
           {
            "marker": {
             "colorbar": {
              "outlinewidth": 0,
              "ticks": ""
             }
            },
            "type": "scatterpolar"
           }
          ],
          "scatterpolargl": [
           {
            "marker": {
             "colorbar": {
              "outlinewidth": 0,
              "ticks": ""
             }
            },
            "type": "scatterpolargl"
           }
          ],
          "scatterternary": [
           {
            "marker": {
             "colorbar": {
              "outlinewidth": 0,
              "ticks": ""
             }
            },
            "type": "scatterternary"
           }
          ],
          "surface": [
           {
            "colorbar": {
             "outlinewidth": 0,
             "ticks": ""
            },
            "colorscale": [
             [
              0,
              "#0d0887"
             ],
             [
              0.1111111111111111,
              "#46039f"
             ],
             [
              0.2222222222222222,
              "#7201a8"
             ],
             [
              0.3333333333333333,
              "#9c179e"
             ],
             [
              0.4444444444444444,
              "#bd3786"
             ],
             [
              0.5555555555555556,
              "#d8576b"
             ],
             [
              0.6666666666666666,
              "#ed7953"
             ],
             [
              0.7777777777777778,
              "#fb9f3a"
             ],
             [
              0.8888888888888888,
              "#fdca26"
             ],
             [
              1,
              "#f0f921"
             ]
            ],
            "type": "surface"
           }
          ],
          "table": [
           {
            "cells": {
             "fill": {
              "color": "#EBF0F8"
             },
             "line": {
              "color": "white"
             }
            },
            "header": {
             "fill": {
              "color": "#C8D4E3"
             },
             "line": {
              "color": "white"
             }
            },
            "type": "table"
           }
          ]
         },
         "layout": {
          "annotationdefaults": {
           "arrowcolor": "#2a3f5f",
           "arrowhead": 0,
           "arrowwidth": 1
          },
          "autotypenumbers": "strict",
          "coloraxis": {
           "colorbar": {
            "outlinewidth": 0,
            "ticks": ""
           }
          },
          "colorscale": {
           "diverging": [
            [
             0,
             "#8e0152"
            ],
            [
             0.1,
             "#c51b7d"
            ],
            [
             0.2,
             "#de77ae"
            ],
            [
             0.3,
             "#f1b6da"
            ],
            [
             0.4,
             "#fde0ef"
            ],
            [
             0.5,
             "#f7f7f7"
            ],
            [
             0.6,
             "#e6f5d0"
            ],
            [
             0.7,
             "#b8e186"
            ],
            [
             0.8,
             "#7fbc41"
            ],
            [
             0.9,
             "#4d9221"
            ],
            [
             1,
             "#276419"
            ]
           ],
           "sequential": [
            [
             0,
             "#0d0887"
            ],
            [
             0.1111111111111111,
             "#46039f"
            ],
            [
             0.2222222222222222,
             "#7201a8"
            ],
            [
             0.3333333333333333,
             "#9c179e"
            ],
            [
             0.4444444444444444,
             "#bd3786"
            ],
            [
             0.5555555555555556,
             "#d8576b"
            ],
            [
             0.6666666666666666,
             "#ed7953"
            ],
            [
             0.7777777777777778,
             "#fb9f3a"
            ],
            [
             0.8888888888888888,
             "#fdca26"
            ],
            [
             1,
             "#f0f921"
            ]
           ],
           "sequentialminus": [
            [
             0,
             "#0d0887"
            ],
            [
             0.1111111111111111,
             "#46039f"
            ],
            [
             0.2222222222222222,
             "#7201a8"
            ],
            [
             0.3333333333333333,
             "#9c179e"
            ],
            [
             0.4444444444444444,
             "#bd3786"
            ],
            [
             0.5555555555555556,
             "#d8576b"
            ],
            [
             0.6666666666666666,
             "#ed7953"
            ],
            [
             0.7777777777777778,
             "#fb9f3a"
            ],
            [
             0.8888888888888888,
             "#fdca26"
            ],
            [
             1,
             "#f0f921"
            ]
           ]
          },
          "colorway": [
           "#636efa",
           "#EF553B",
           "#00cc96",
           "#ab63fa",
           "#FFA15A",
           "#19d3f3",
           "#FF6692",
           "#B6E880",
           "#FF97FF",
           "#FECB52"
          ],
          "font": {
           "color": "#2a3f5f"
          },
          "geo": {
           "bgcolor": "white",
           "lakecolor": "white",
           "landcolor": "#E5ECF6",
           "showlakes": true,
           "showland": true,
           "subunitcolor": "white"
          },
          "hoverlabel": {
           "align": "left"
          },
          "hovermode": "closest",
          "mapbox": {
           "style": "light"
          },
          "paper_bgcolor": "white",
          "plot_bgcolor": "#E5ECF6",
          "polar": {
           "angularaxis": {
            "gridcolor": "white",
            "linecolor": "white",
            "ticks": ""
           },
           "bgcolor": "#E5ECF6",
           "radialaxis": {
            "gridcolor": "white",
            "linecolor": "white",
            "ticks": ""
           }
          },
          "scene": {
           "xaxis": {
            "backgroundcolor": "#E5ECF6",
            "gridcolor": "white",
            "gridwidth": 2,
            "linecolor": "white",
            "showbackground": true,
            "ticks": "",
            "zerolinecolor": "white"
           },
           "yaxis": {
            "backgroundcolor": "#E5ECF6",
            "gridcolor": "white",
            "gridwidth": 2,
            "linecolor": "white",
            "showbackground": true,
            "ticks": "",
            "zerolinecolor": "white"
           },
           "zaxis": {
            "backgroundcolor": "#E5ECF6",
            "gridcolor": "white",
            "gridwidth": 2,
            "linecolor": "white",
            "showbackground": true,
            "ticks": "",
            "zerolinecolor": "white"
           }
          },
          "shapedefaults": {
           "line": {
            "color": "#2a3f5f"
           }
          },
          "ternary": {
           "aaxis": {
            "gridcolor": "white",
            "linecolor": "white",
            "ticks": ""
           },
           "baxis": {
            "gridcolor": "white",
            "linecolor": "white",
            "ticks": ""
           },
           "bgcolor": "#E5ECF6",
           "caxis": {
            "gridcolor": "white",
            "linecolor": "white",
            "ticks": ""
           }
          },
          "title": {
           "x": 0.05
          },
          "xaxis": {
           "automargin": true,
           "gridcolor": "white",
           "linecolor": "white",
           "ticks": "",
           "title": {
            "standoff": 15
           },
           "zerolinecolor": "white",
           "zerolinewidth": 2
          },
          "yaxis": {
           "automargin": true,
           "gridcolor": "white",
           "linecolor": "white",
           "ticks": "",
           "title": {
            "standoff": 15
           },
           "zerolinecolor": "white",
           "zerolinewidth": 2
          }
         }
        },
        "xaxis": {
         "anchor": "y",
         "constrain": "domain",
         "domain": [
          0,
          1
         ],
         "scaleanchor": "y"
        },
        "yaxis": {
         "anchor": "x",
         "autorange": "reversed",
         "constrain": "domain",
         "domain": [
          0,
          1
         ]
        }
       }
      },
      "text/html": [
       "<div>                            <div id=\"e8dcca88-52fb-46a9-8f42-cd018008e4e2\" class=\"plotly-graph-div\" style=\"height:525px; width:100%;\"></div>            <script type=\"text/javascript\">                require([\"plotly\"], function(Plotly) {                    window.PLOTLYENV=window.PLOTLYENV || {};                                    if (document.getElementById(\"e8dcca88-52fb-46a9-8f42-cd018008e4e2\")) {                    Plotly.newPlot(                        \"e8dcca88-52fb-46a9-8f42-cd018008e4e2\",                        [{\"coloraxis\":\"coloraxis\",\"name\":\"0\",\"z\":[[0.0,0.0,0.0,0.0,0.0,0.0,0.0,0.0,0.0,0.0,0.0,0.0,0.0,0.0,0.0,0.0,0.0,0.0,0.0,0.0,0.0,0.0,0.0,0.0,0.0,0.0,0.0,0.0],[0.0,0.0,0.0,0.0,0.0,0.0,0.0,0.0,0.0,0.0,0.0,0.0,0.0,0.0,0.0,0.0,0.0,0.0,0.0,0.0,0.0,0.0,0.0,0.0,0.0,0.0,0.0,0.0],[0.0,0.0,0.0,0.0,0.0,0.0,0.0,0.0,0.0,0.0,0.0,0.0,0.0,0.0,0.0,0.0,0.0,0.0,0.0,0.0,0.0,0.0,0.0,0.0,0.0,0.0,0.0,0.0],[0.0,0.0,0.0,0.0,0.0,0.0,0.0,0.0,0.0,0.0,0.0,0.0,0.0,0.0,0.0,0.0,0.0,0.0,0.0,0.0,0.0,0.0,0.0,0.0,0.0,0.0,0.0,0.0],[0.0,0.0,0.0,0.0,0.0,0.0,0.0,0.0,0.0,0.0,0.0,0.0,0.0,0.0,0.0,0.0,0.0,0.0,0.0,0.0,0.0,0.0,0.0,0.0,0.0,0.0,0.0,0.0],[0.0,0.0,0.0,0.0,0.0,0.0,0.0,0.0,0.0,0.0,0.0,0.0,0.0,0.0,0.0,0.0,0.0,0.0,0.0,0.0,0.0,0.0,0.0,0.0,0.0,0.0,0.0,0.0],[0.0,0.0,0.0,0.0,0.0,0.0,0.0,0.0,0.0,0.0,0.0,0.0,0.0,0.0,0.0,0.0,0.0,0.0,0.0,0.0,0.0,0.0,0.0,0.0,0.0,0.0,0.0,0.0],[0.0,0.0,0.0,0.0,0.0,0.0,0.3294117748737335,0.7254902124404907,0.6235294342041016,0.5921568870544434,0.23529411852359772,0.1411764770746231,0.0,0.0,0.0,0.0,0.0,0.0,0.0,0.0,0.0,0.0,0.0,0.0,0.0,0.0,0.0,0.0],[0.0,0.0,0.0,0.0,0.0,0.0,0.8705882430076599,0.9960784316062927,0.9960784316062927,0.9960784316062927,0.9960784316062927,0.9450980424880981,0.7764706015586853,0.7764706015586853,0.7764706015586853,0.7764706015586853,0.7764706015586853,0.7764706015586853,0.7764706015586853,0.7764706015586853,0.6666666865348816,0.20392157137393951,0.0,0.0,0.0,0.0,0.0,0.0],[0.0,0.0,0.0,0.0,0.0,0.0,0.26274511218070984,0.4470588266849518,0.2823529541492462,0.4470588266849518,0.6392157077789307,0.8901960849761963,0.9960784316062927,0.8823529481887817,0.9960784316062927,0.9960784316062927,0.9960784316062927,0.9803921580314636,0.8980392217636108,0.9960784316062927,0.9960784316062927,0.5490196347236633,0.0,0.0,0.0,0.0,0.0,0.0],[0.0,0.0,0.0,0.0,0.0,0.0,0.0,0.0,0.0,0.0,0.0,0.06666667014360428,0.25882354378700256,0.054901961237192154,0.26274511218070984,0.26274511218070984,0.26274511218070984,0.23137255012989044,0.08235294371843338,0.9254902005195618,0.9960784316062927,0.4156862795352936,0.0,0.0,0.0,0.0,0.0,0.0],[0.0,0.0,0.0,0.0,0.0,0.0,0.0,0.0,0.0,0.0,0.0,0.0,0.0,0.0,0.0,0.0,0.0,0.0,0.32549020648002625,0.9921568632125854,0.8196078538894653,0.07058823853731155,0.0,0.0,0.0,0.0,0.0,0.0],[0.0,0.0,0.0,0.0,0.0,0.0,0.0,0.0,0.0,0.0,0.0,0.0,0.0,0.0,0.0,0.0,0.0,0.08627451211214066,0.9137254953384399,1.0,0.32549020648002625,0.0,0.0,0.0,0.0,0.0,0.0,0.0],[0.0,0.0,0.0,0.0,0.0,0.0,0.0,0.0,0.0,0.0,0.0,0.0,0.0,0.0,0.0,0.0,0.0,0.5058823823928833,0.9960784316062927,0.9333333373069763,0.1725490242242813,0.0,0.0,0.0,0.0,0.0,0.0,0.0],[0.0,0.0,0.0,0.0,0.0,0.0,0.0,0.0,0.0,0.0,0.0,0.0,0.0,0.0,0.0,0.0,0.23137255012989044,0.9764705896377563,0.9960784316062927,0.24313725531101227,0.0,0.0,0.0,0.0,0.0,0.0,0.0,0.0],[0.0,0.0,0.0,0.0,0.0,0.0,0.0,0.0,0.0,0.0,0.0,0.0,0.0,0.0,0.0,0.0,0.5215686559677124,0.9960784316062927,0.7333333492279053,0.019607843831181526,0.0,0.0,0.0,0.0,0.0,0.0,0.0,0.0],[0.0,0.0,0.0,0.0,0.0,0.0,0.0,0.0,0.0,0.0,0.0,0.0,0.0,0.0,0.0,0.03529411926865578,0.8039215803146362,0.9725490212440491,0.22745098173618317,0.0,0.0,0.0,0.0,0.0,0.0,0.0,0.0,0.0],[0.0,0.0,0.0,0.0,0.0,0.0,0.0,0.0,0.0,0.0,0.0,0.0,0.0,0.0,0.0,0.4941176474094391,0.9960784316062927,0.7137255072593689,0.0,0.0,0.0,0.0,0.0,0.0,0.0,0.0,0.0,0.0],[0.0,0.0,0.0,0.0,0.0,0.0,0.0,0.0,0.0,0.0,0.0,0.0,0.0,0.0,0.29411765933036804,0.9843137264251709,0.9411764740943909,0.2235294133424759,0.0,0.0,0.0,0.0,0.0,0.0,0.0,0.0,0.0,0.0],[0.0,0.0,0.0,0.0,0.0,0.0,0.0,0.0,0.0,0.0,0.0,0.0,0.0,0.07450980693101883,0.8666666746139526,0.9960784316062927,0.6509804129600525,0.0,0.0,0.0,0.0,0.0,0.0,0.0,0.0,0.0,0.0,0.0],[0.0,0.0,0.0,0.0,0.0,0.0,0.0,0.0,0.0,0.0,0.0,0.0,0.0117647061124444,0.7960784435272217,0.9960784316062927,0.8588235378265381,0.13725490868091583,0.0,0.0,0.0,0.0,0.0,0.0,0.0,0.0,0.0,0.0,0.0],[0.0,0.0,0.0,0.0,0.0,0.0,0.0,0.0,0.0,0.0,0.0,0.0,0.14901961386203766,0.9960784316062927,0.9960784316062927,0.3019607961177826,0.0,0.0,0.0,0.0,0.0,0.0,0.0,0.0,0.0,0.0,0.0,0.0],[0.0,0.0,0.0,0.0,0.0,0.0,0.0,0.0,0.0,0.0,0.0,0.12156862765550613,0.8784313797950745,0.9960784316062927,0.45098039507865906,0.003921568859368563,0.0,0.0,0.0,0.0,0.0,0.0,0.0,0.0,0.0,0.0,0.0,0.0],[0.0,0.0,0.0,0.0,0.0,0.0,0.0,0.0,0.0,0.0,0.0,0.5215686559677124,0.9960784316062927,0.9960784316062927,0.20392157137393951,0.0,0.0,0.0,0.0,0.0,0.0,0.0,0.0,0.0,0.0,0.0,0.0,0.0],[0.0,0.0,0.0,0.0,0.0,0.0,0.0,0.0,0.0,0.0,0.239215686917305,0.9490196108818054,0.9960784316062927,0.9960784316062927,0.20392157137393951,0.0,0.0,0.0,0.0,0.0,0.0,0.0,0.0,0.0,0.0,0.0,0.0,0.0],[0.0,0.0,0.0,0.0,0.0,0.0,0.0,0.0,0.0,0.0,0.4745098054409027,0.9960784316062927,0.9960784316062927,0.8588235378265381,0.1568627506494522,0.0,0.0,0.0,0.0,0.0,0.0,0.0,0.0,0.0,0.0,0.0,0.0,0.0],[0.0,0.0,0.0,0.0,0.0,0.0,0.0,0.0,0.0,0.0,0.4745098054409027,0.9960784316062927,0.8117647171020508,0.07058823853731155,0.0,0.0,0.0,0.0,0.0,0.0,0.0,0.0,0.0,0.0,0.0,0.0,0.0,0.0],[0.0,0.0,0.0,0.0,0.0,0.0,0.0,0.0,0.0,0.0,0.0,0.0,0.0,0.0,0.0,0.0,0.0,0.0,0.0,0.0,0.0,0.0,0.0,0.0,0.0,0.0,0.0,0.0]],\"type\":\"heatmap\",\"xaxis\":\"x\",\"yaxis\":\"y\",\"hovertemplate\":\"x: %{x}\\u003cbr\\u003ey: %{y}\\u003cbr\\u003ecolor: %{z}\\u003cextra\\u003e\\u003c\\u002fextra\\u003e\"}],                        {\"template\":{\"data\":{\"histogram2dcontour\":[{\"type\":\"histogram2dcontour\",\"colorbar\":{\"outlinewidth\":0,\"ticks\":\"\"},\"colorscale\":[[0.0,\"#0d0887\"],[0.1111111111111111,\"#46039f\"],[0.2222222222222222,\"#7201a8\"],[0.3333333333333333,\"#9c179e\"],[0.4444444444444444,\"#bd3786\"],[0.5555555555555556,\"#d8576b\"],[0.6666666666666666,\"#ed7953\"],[0.7777777777777778,\"#fb9f3a\"],[0.8888888888888888,\"#fdca26\"],[1.0,\"#f0f921\"]]}],\"choropleth\":[{\"type\":\"choropleth\",\"colorbar\":{\"outlinewidth\":0,\"ticks\":\"\"}}],\"histogram2d\":[{\"type\":\"histogram2d\",\"colorbar\":{\"outlinewidth\":0,\"ticks\":\"\"},\"colorscale\":[[0.0,\"#0d0887\"],[0.1111111111111111,\"#46039f\"],[0.2222222222222222,\"#7201a8\"],[0.3333333333333333,\"#9c179e\"],[0.4444444444444444,\"#bd3786\"],[0.5555555555555556,\"#d8576b\"],[0.6666666666666666,\"#ed7953\"],[0.7777777777777778,\"#fb9f3a\"],[0.8888888888888888,\"#fdca26\"],[1.0,\"#f0f921\"]]}],\"heatmap\":[{\"type\":\"heatmap\",\"colorbar\":{\"outlinewidth\":0,\"ticks\":\"\"},\"colorscale\":[[0.0,\"#0d0887\"],[0.1111111111111111,\"#46039f\"],[0.2222222222222222,\"#7201a8\"],[0.3333333333333333,\"#9c179e\"],[0.4444444444444444,\"#bd3786\"],[0.5555555555555556,\"#d8576b\"],[0.6666666666666666,\"#ed7953\"],[0.7777777777777778,\"#fb9f3a\"],[0.8888888888888888,\"#fdca26\"],[1.0,\"#f0f921\"]]}],\"heatmapgl\":[{\"type\":\"heatmapgl\",\"colorbar\":{\"outlinewidth\":0,\"ticks\":\"\"},\"colorscale\":[[0.0,\"#0d0887\"],[0.1111111111111111,\"#46039f\"],[0.2222222222222222,\"#7201a8\"],[0.3333333333333333,\"#9c179e\"],[0.4444444444444444,\"#bd3786\"],[0.5555555555555556,\"#d8576b\"],[0.6666666666666666,\"#ed7953\"],[0.7777777777777778,\"#fb9f3a\"],[0.8888888888888888,\"#fdca26\"],[1.0,\"#f0f921\"]]}],\"contourcarpet\":[{\"type\":\"contourcarpet\",\"colorbar\":{\"outlinewidth\":0,\"ticks\":\"\"}}],\"contour\":[{\"type\":\"contour\",\"colorbar\":{\"outlinewidth\":0,\"ticks\":\"\"},\"colorscale\":[[0.0,\"#0d0887\"],[0.1111111111111111,\"#46039f\"],[0.2222222222222222,\"#7201a8\"],[0.3333333333333333,\"#9c179e\"],[0.4444444444444444,\"#bd3786\"],[0.5555555555555556,\"#d8576b\"],[0.6666666666666666,\"#ed7953\"],[0.7777777777777778,\"#fb9f3a\"],[0.8888888888888888,\"#fdca26\"],[1.0,\"#f0f921\"]]}],\"surface\":[{\"type\":\"surface\",\"colorbar\":{\"outlinewidth\":0,\"ticks\":\"\"},\"colorscale\":[[0.0,\"#0d0887\"],[0.1111111111111111,\"#46039f\"],[0.2222222222222222,\"#7201a8\"],[0.3333333333333333,\"#9c179e\"],[0.4444444444444444,\"#bd3786\"],[0.5555555555555556,\"#d8576b\"],[0.6666666666666666,\"#ed7953\"],[0.7777777777777778,\"#fb9f3a\"],[0.8888888888888888,\"#fdca26\"],[1.0,\"#f0f921\"]]}],\"mesh3d\":[{\"type\":\"mesh3d\",\"colorbar\":{\"outlinewidth\":0,\"ticks\":\"\"}}],\"scatter\":[{\"fillpattern\":{\"fillmode\":\"overlay\",\"size\":10,\"solidity\":0.2},\"type\":\"scatter\"}],\"parcoords\":[{\"type\":\"parcoords\",\"line\":{\"colorbar\":{\"outlinewidth\":0,\"ticks\":\"\"}}}],\"scatterpolargl\":[{\"type\":\"scatterpolargl\",\"marker\":{\"colorbar\":{\"outlinewidth\":0,\"ticks\":\"\"}}}],\"bar\":[{\"error_x\":{\"color\":\"#2a3f5f\"},\"error_y\":{\"color\":\"#2a3f5f\"},\"marker\":{\"line\":{\"color\":\"#E5ECF6\",\"width\":0.5},\"pattern\":{\"fillmode\":\"overlay\",\"size\":10,\"solidity\":0.2}},\"type\":\"bar\"}],\"scattergeo\":[{\"type\":\"scattergeo\",\"marker\":{\"colorbar\":{\"outlinewidth\":0,\"ticks\":\"\"}}}],\"scatterpolar\":[{\"type\":\"scatterpolar\",\"marker\":{\"colorbar\":{\"outlinewidth\":0,\"ticks\":\"\"}}}],\"histogram\":[{\"marker\":{\"pattern\":{\"fillmode\":\"overlay\",\"size\":10,\"solidity\":0.2}},\"type\":\"histogram\"}],\"scattergl\":[{\"type\":\"scattergl\",\"marker\":{\"colorbar\":{\"outlinewidth\":0,\"ticks\":\"\"}}}],\"scatter3d\":[{\"type\":\"scatter3d\",\"line\":{\"colorbar\":{\"outlinewidth\":0,\"ticks\":\"\"}},\"marker\":{\"colorbar\":{\"outlinewidth\":0,\"ticks\":\"\"}}}],\"scattermapbox\":[{\"type\":\"scattermapbox\",\"marker\":{\"colorbar\":{\"outlinewidth\":0,\"ticks\":\"\"}}}],\"scatterternary\":[{\"type\":\"scatterternary\",\"marker\":{\"colorbar\":{\"outlinewidth\":0,\"ticks\":\"\"}}}],\"scattercarpet\":[{\"type\":\"scattercarpet\",\"marker\":{\"colorbar\":{\"outlinewidth\":0,\"ticks\":\"\"}}}],\"carpet\":[{\"aaxis\":{\"endlinecolor\":\"#2a3f5f\",\"gridcolor\":\"white\",\"linecolor\":\"white\",\"minorgridcolor\":\"white\",\"startlinecolor\":\"#2a3f5f\"},\"baxis\":{\"endlinecolor\":\"#2a3f5f\",\"gridcolor\":\"white\",\"linecolor\":\"white\",\"minorgridcolor\":\"white\",\"startlinecolor\":\"#2a3f5f\"},\"type\":\"carpet\"}],\"table\":[{\"cells\":{\"fill\":{\"color\":\"#EBF0F8\"},\"line\":{\"color\":\"white\"}},\"header\":{\"fill\":{\"color\":\"#C8D4E3\"},\"line\":{\"color\":\"white\"}},\"type\":\"table\"}],\"barpolar\":[{\"marker\":{\"line\":{\"color\":\"#E5ECF6\",\"width\":0.5},\"pattern\":{\"fillmode\":\"overlay\",\"size\":10,\"solidity\":0.2}},\"type\":\"barpolar\"}],\"pie\":[{\"automargin\":true,\"type\":\"pie\"}]},\"layout\":{\"autotypenumbers\":\"strict\",\"colorway\":[\"#636efa\",\"#EF553B\",\"#00cc96\",\"#ab63fa\",\"#FFA15A\",\"#19d3f3\",\"#FF6692\",\"#B6E880\",\"#FF97FF\",\"#FECB52\"],\"font\":{\"color\":\"#2a3f5f\"},\"hovermode\":\"closest\",\"hoverlabel\":{\"align\":\"left\"},\"paper_bgcolor\":\"white\",\"plot_bgcolor\":\"#E5ECF6\",\"polar\":{\"bgcolor\":\"#E5ECF6\",\"angularaxis\":{\"gridcolor\":\"white\",\"linecolor\":\"white\",\"ticks\":\"\"},\"radialaxis\":{\"gridcolor\":\"white\",\"linecolor\":\"white\",\"ticks\":\"\"}},\"ternary\":{\"bgcolor\":\"#E5ECF6\",\"aaxis\":{\"gridcolor\":\"white\",\"linecolor\":\"white\",\"ticks\":\"\"},\"baxis\":{\"gridcolor\":\"white\",\"linecolor\":\"white\",\"ticks\":\"\"},\"caxis\":{\"gridcolor\":\"white\",\"linecolor\":\"white\",\"ticks\":\"\"}},\"coloraxis\":{\"colorbar\":{\"outlinewidth\":0,\"ticks\":\"\"}},\"colorscale\":{\"sequential\":[[0.0,\"#0d0887\"],[0.1111111111111111,\"#46039f\"],[0.2222222222222222,\"#7201a8\"],[0.3333333333333333,\"#9c179e\"],[0.4444444444444444,\"#bd3786\"],[0.5555555555555556,\"#d8576b\"],[0.6666666666666666,\"#ed7953\"],[0.7777777777777778,\"#fb9f3a\"],[0.8888888888888888,\"#fdca26\"],[1.0,\"#f0f921\"]],\"sequentialminus\":[[0.0,\"#0d0887\"],[0.1111111111111111,\"#46039f\"],[0.2222222222222222,\"#7201a8\"],[0.3333333333333333,\"#9c179e\"],[0.4444444444444444,\"#bd3786\"],[0.5555555555555556,\"#d8576b\"],[0.6666666666666666,\"#ed7953\"],[0.7777777777777778,\"#fb9f3a\"],[0.8888888888888888,\"#fdca26\"],[1.0,\"#f0f921\"]],\"diverging\":[[0,\"#8e0152\"],[0.1,\"#c51b7d\"],[0.2,\"#de77ae\"],[0.3,\"#f1b6da\"],[0.4,\"#fde0ef\"],[0.5,\"#f7f7f7\"],[0.6,\"#e6f5d0\"],[0.7,\"#b8e186\"],[0.8,\"#7fbc41\"],[0.9,\"#4d9221\"],[1,\"#276419\"]]},\"xaxis\":{\"gridcolor\":\"white\",\"linecolor\":\"white\",\"ticks\":\"\",\"title\":{\"standoff\":15},\"zerolinecolor\":\"white\",\"automargin\":true,\"zerolinewidth\":2},\"yaxis\":{\"gridcolor\":\"white\",\"linecolor\":\"white\",\"ticks\":\"\",\"title\":{\"standoff\":15},\"zerolinecolor\":\"white\",\"automargin\":true,\"zerolinewidth\":2},\"scene\":{\"xaxis\":{\"backgroundcolor\":\"#E5ECF6\",\"gridcolor\":\"white\",\"linecolor\":\"white\",\"showbackground\":true,\"ticks\":\"\",\"zerolinecolor\":\"white\",\"gridwidth\":2},\"yaxis\":{\"backgroundcolor\":\"#E5ECF6\",\"gridcolor\":\"white\",\"linecolor\":\"white\",\"showbackground\":true,\"ticks\":\"\",\"zerolinecolor\":\"white\",\"gridwidth\":2},\"zaxis\":{\"backgroundcolor\":\"#E5ECF6\",\"gridcolor\":\"white\",\"linecolor\":\"white\",\"showbackground\":true,\"ticks\":\"\",\"zerolinecolor\":\"white\",\"gridwidth\":2}},\"shapedefaults\":{\"line\":{\"color\":\"#2a3f5f\"}},\"annotationdefaults\":{\"arrowcolor\":\"#2a3f5f\",\"arrowhead\":0,\"arrowwidth\":1},\"geo\":{\"bgcolor\":\"white\",\"landcolor\":\"#E5ECF6\",\"subunitcolor\":\"white\",\"showland\":true,\"showlakes\":true,\"lakecolor\":\"white\"},\"title\":{\"x\":0.05},\"mapbox\":{\"style\":\"light\"}}},\"xaxis\":{\"anchor\":\"y\",\"domain\":[0.0,1.0],\"scaleanchor\":\"y\",\"constrain\":\"domain\"},\"yaxis\":{\"anchor\":\"x\",\"domain\":[0.0,1.0],\"autorange\":\"reversed\",\"constrain\":\"domain\"},\"coloraxis\":{\"colorscale\":[[0.0,\"#0d0887\"],[0.1111111111111111,\"#46039f\"],[0.2222222222222222,\"#7201a8\"],[0.3333333333333333,\"#9c179e\"],[0.4444444444444444,\"#bd3786\"],[0.5555555555555556,\"#d8576b\"],[0.6666666666666666,\"#ed7953\"],[0.7777777777777778,\"#fb9f3a\"],[0.8888888888888888,\"#fdca26\"],[1.0,\"#f0f921\"]]},\"margin\":{\"t\":60}},                        {\"responsive\": true}                    ).then(function(){\n",
       "                            \n",
       "var gd = document.getElementById('e8dcca88-52fb-46a9-8f42-cd018008e4e2');\n",
       "var x = new MutationObserver(function (mutations, observer) {{\n",
       "        var display = window.getComputedStyle(gd).display;\n",
       "        if (!display || display === 'none') {{\n",
       "            console.log([gd, 'removed!']);\n",
       "            Plotly.purge(gd);\n",
       "            observer.disconnect();\n",
       "        }}\n",
       "}});\n",
       "\n",
       "// Listen for the removal of the full notebook cells\n",
       "var notebookContainer = gd.closest('#notebook-container');\n",
       "if (notebookContainer) {{\n",
       "    x.observe(notebookContainer, {childList: true});\n",
       "}}\n",
       "\n",
       "// Listen for the clearing of the current output cell\n",
       "var outputEl = gd.closest('.output');\n",
       "if (outputEl) {{\n",
       "    x.observe(outputEl, {childList: true});\n",
       "}}\n",
       "\n",
       "                        })                };                });            </script>        </div>"
      ]
     },
     "metadata": {},
     "output_type": "display_data"
    }
   ],
   "source": [
    "#data = test.x.flatten(start_dim=1)\n",
    "px.imshow(images[0].numpy().reshape(28,28))"
   ]
  },
  {
   "cell_type": "code",
   "execution_count": 18,
   "metadata": {},
   "outputs": [
    {
     "data": {
      "application/vnd.plotly.v1+json": {
       "config": {
        "plotlyServerURL": "https://plot.ly"
       },
       "data": [
        {
         "coloraxis": "coloraxis",
         "hovertemplate": "x: %{x}<br>y: %{y}<br>color: %{z}<extra></extra>",
         "name": "0",
         "type": "heatmap",
         "xaxis": "x",
         "yaxis": "y",
         "z": [
          [
           0.006205825135111809,
           -0.0010327479103580117,
           -0.002328907372429967,
           -0.002848111093044281,
           0.0038044701796025038,
           0.0051255295984447,
           -0.011037470772862434,
           -0.002395311137661338,
           -0.0032525588758289814,
           -0.0010550811421126127,
           -0.0049732946790754795,
           -4.092523226972844e-7,
           0.020159078761935234,
           0.01616813987493515,
           -0.011341482400894165,
           -0.000893830438144505,
           -0.002687811153009534,
           0.0006903420435264707,
           0.0007091519655659795,
           0.0005887045990675688,
           -0.0076731108129024506,
           0.0019786914344877005,
           0.0066543989814817905,
           0.008832402527332306,
           0.0038509140722453594,
           -0.003413877449929714,
           -0.00048738918849267066,
           0.0006217705667950213
          ],
          [
           0.008703445084393024,
           0.007742962334305048,
           -0.0009278786019422114,
           -0.004101775586605072,
           0.010789204388856888,
           0.011333184316754341,
           0.037618570029735565,
           0.05399690195918083,
           0.05440541356801987,
           0.05313422903418541,
           0.0757761150598526,
           0.07737058401107788,
           0.08497938513755798,
           0.07247541099786758,
           0.007024816237390041,
           0.0019680096302181482,
           -0.022438636049628258,
           0.02981674298644066,
           0.08727522939443588,
           0.10141386091709137,
           0.09554173797369003,
           0.06254836171865463,
           0.03909927234053612,
           0.026857499033212662,
           0.007132239639759064,
           0.00000490737147629261,
           -0.0025855761487036943,
           0.00421311566606164
          ],
          [
           0.01162167638540268,
           0.0016086972318589687,
           0.00420644786208868,
           -0.004765721969306469,
           0.036879077553749084,
           0.03992167487740517,
           0.0675092488527298,
           0.08602353930473328,
           0.06631620228290558,
           0.042282022535800934,
           0.0663692057132721,
           0.05042023956775665,
           0.0361565425992012,
           0.031615521758794785,
           0.031500257551670074,
           0.028419848531484604,
           0.0242165457457304,
           0.05319476127624512,
           0.07405222207307816,
           0.0915268212556839,
           0.0780344307422638,
           0.07638391107320786,
           0.09639818221330643,
           0.058796003460884094,
           -0.017128190025687218,
           -0.033288612961769104,
           0.003615862689912319,
           0.00006349111936287954
          ],
          [
           -0.0009502304019406438,
           -0.005704605486243963,
           -0.021779043599963188,
           0.026852788403630257,
           0.08756199479103088,
           -0.022243475541472435,
           0.025351012125611305,
           0.011887202970683575,
           -0.00952138938009739,
           -0.00007446182280546054,
           0.006562137510627508,
           -0.007248638663440943,
           -0.044808708131313324,
           -0.027161717414855957,
           -0.01357110496610403,
           -0.00394364632666111,
           -0.0012023969320580363,
           0.0286195557564497,
           0.053787752985954285,
           0.0657157450914383,
           0.06085473299026489,
           0.09475092589855194,
           0.1231350377202034,
           0.10750802606344223,
           0.05935703217983246,
           -0.011762427166104317,
           0.04421008378267288,
           -0.002430788241326809
          ],
          [
           0.0029596928507089615,
           -0.006925204768776894,
           -0.06324880570173264,
           -0.07623293995857239,
           -0.01435099821537733,
           -0.05621747300028801,
           -0.05587917938828468,
           -0.02415548637509346,
           -0.016313713043928146,
           -0.019312556833028793,
           -0.014417891390621662,
           -0.017942292615771294,
           -0.022005446255207062,
           -0.014717135578393936,
           -0.0019163708202540874,
           0.011284565553069115,
           0.029135143384337425,
           0.04940290004014969,
           0.045308083295822144,
           0.06017586961388588,
           0.08198502659797668,
           0.09376210719347,
           0.10605749487876892,
           0.13536450266838074,
           0.1105918139219284,
           0.06528279930353165,
           0.03299042209982872,
           0.05722380056977272
          ],
          [
           -0.007997659966349602,
           0.001582523575052619,
           -0.005246755667030811,
           -0.0807826817035675,
           -0.07416347414255142,
           -0.11851780861616135,
           -0.08033908903598785,
           -0.04803496599197388,
           -0.028821419924497604,
           -0.022467026486992836,
           -0.019578834995627403,
           -0.013783148489892483,
           -0.008475016802549362,
           -0.009656092151999474,
           0.0034930172841995955,
           -0.005635297857224941,
           0.01866484433412552,
           0.04371959716081619,
           0.04450291767716408,
           0.07088607549667358,
           0.09235190600156784,
           0.07827754318714142,
           0.07979696989059448,
           0.10341406613588333,
           0.11209458112716675,
           0.10611376911401749,
           0.08945098519325256,
           0.08194310963153839
          ],
          [
           0.0009589750552549958,
           -0.039852481335401535,
           -0.04723283648490906,
           -0.16228684782981873,
           -0.07289811223745346,
           -0.06585178524255753,
           -0.08156964182853699,
           -0.0323578342795372,
           -0.042458370327949524,
           -0.04484451189637184,
           -0.05834297090768814,
           -0.040851328521966934,
           -0.027273789048194885,
           -0.02652512677013874,
           -0.03516235947608948,
           -0.02253996580839157,
           -0.04092719778418541,
           -0.018695957958698273,
           -0.017591075971722603,
           0.02829369157552719,
           0.0404178649187088,
           0.027684776112437248,
           0.06713563203811646,
           0.10260945558547974,
           0.11695512384176254,
           0.12305057793855667,
           0.08946965634822845,
           0.06807924062013626
          ],
          [
           -0.007857276126742363,
           -0.09510752558708191,
           -0.09083034098148346,
           -0.1651252955198288,
           -0.08614795655012131,
           -0.055153738707304,
           0.2529422342777252,
           0.6865648031234741,
           0.5936880111694336,
           0.5373880863189697,
           0.1876811385154724,
           0.1027279943227768,
           -0.05038899928331375,
           -0.05478515103459358,
           -0.0493764653801918,
           -0.042373206466436386,
           -0.048898182809352875,
           -0.05267323926091194,
           -0.04888508841395378,
           -0.022430915385484695,
           -0.014105292968451977,
           0.01975351572036743,
           0.027503052726387978,
           0.07835821807384491,
           0.12239282578229904,
           0.11783880740404129,
           0.08404980599880219,
           0.06145808845758438
          ],
          [
           0.023426590487360954,
           -0.12335491925477982,
           -0.06291953474283218,
           -0.09307253360748291,
           -0.1053093746304512,
           -0.061043307185173035,
           0.8184133172035217,
           0.9328454732894897,
           0.9503163695335388,
           0.9636769890785217,
           0.9588139057159424,
           0.9129946231842041,
           0.7437222599983215,
           0.7379321455955505,
           0.700802743434906,
           0.6876509785652161,
           0.7001302242279053,
           0.7036623358726501,
           0.7090978622436523,
           0.7319389581680298,
           0.6507704257965088,
           0.21217118203639984,
           0.0020646611228585243,
           0.04964912682771683,
           0.11799310147762299,
           0.12082798779010773,
           0.07932821661233902,
           0.037132132798433304
          ],
          [
           -0.04140961915254593,
           -0.1139221265912056,
           -0.07208045572042465,
           -0.10436036437749863,
           -0.10605568438768387,
           -0.08797965943813324,
           0.19637121260166168,
           0.4038086235523224,
           0.25491806864738464,
           0.4315090775489807,
           0.6429219841957092,
           0.9080095291137695,
           0.988978922367096,
           0.8526487946510315,
           0.9074702262878418,
           0.8734782338142395,
           0.8916201591491699,
           0.8807676434516907,
           0.8283331394195557,
           0.9441021084785461,
           0.9657539129257202,
           0.540374755859375,
           -0.016738444566726685,
           0.046871818602085114,
           0.11004958301782608,
           0.1004268154501915,
           0.06782472133636475,
           -0.045736685395240784
          ],
          [
           -0.04056107625365257,
           -0.06624583899974823,
           -0.10819784551858902,
           -0.13290128111839294,
           -0.07352632284164429,
           -0.0801347866654396,
           -0.043763402849435806,
           -0.004818969871848822,
           0.025904584676027298,
           0.03547496348619461,
           0.03721720352768898,
           0.10818958282470703,
           0.30969852209091187,
           0.04917741194367409,
           0.19796229898929596,
           0.17336998879909515,
           0.16323082149028778,
           0.13647755980491638,
           0.0172838494181633,
           0.8808929324150085,
           0.9456441402435303,
           0.3888000547885895,
           -0.009882709011435509,
           0.06621760874986649,
           0.13478721678256989,
           0.07411399483680725,
           0.048704974353313446,
           -0.04879697039723396
          ],
          [
           -0.033111583441495895,
           -0.08243042975664139,
           -0.13534611463546753,
           -0.12488310039043427,
           -0.0723797157406807,
           -0.014299985021352768,
           0.015767106786370277,
           0.04474784433841705,
           0.05157545208930969,
           0.05294252559542656,
           0.047573138028383255,
           0.04081026092171669,
           0.06222233176231384,
           0.04138801246881485,
           -0.01955357752740383,
           -0.047144901007413864,
           -0.047025300562381744,
           -0.06477568298578262,
           0.2588217854499817,
           0.9423904418945312,
           0.7692988514900208,
           0.055119335651397705,
           -0.00017864230903796852,
           0.077158622443676,
           0.14059284329414368,
           0.07885430753231049,
           0.04659730941057205,
           -0.018997786566615105
          ],
          [
           -0.016658537089824677,
           -0.09003487974405289,
           -0.11839354783296585,
           -0.07913756370544434,
           -0.045514222234487534,
           0.025128422304987907,
           0.07189241051673889,
           0.06413214653730392,
           0.045572079718112946,
           0.05931868031620979,
           0.05193324014544487,
           0.07844739407300949,
           0.10894753038883209,
           0.09123582392930984,
           0.011408564634621143,
           -0.01255128439515829,
           -0.022658836096525192,
           0.04834238439798355,
           0.8673369884490967,
           0.976402997970581,
           0.32161879539489746,
           0.020640769973397255,
           0.036377258598804474,
           0.06226809322834015,
           0.06833922117948532,
           -0.012008478865027428,
           -0.03893228992819786,
           -0.09558611363172531
          ],
          [
           0.01047467440366745,
           -0.05042797327041626,
           -0.12512832880020142,
           -0.05593215674161911,
           -0.00600029993802309,
           0.0688641220331192,
           0.0705781877040863,
           0.05999379977583885,
           0.05032683163881302,
           0.056301094591617584,
           0.05723913758993149,
           0.10261759161949158,
           0.12694460153579712,
           0.07088834047317505,
           0.012318386696279049,
           0.01866665855050087,
           -0.008139368146657944,
           0.4780285954475403,
           0.9655184149742126,
           0.9417885541915894,
           0.1864383965730667,
           0.026161331683397293,
           0.0612952746450901,
           0.062099579721689224,
           0.011409487575292587,
           -0.048530079424381256,
           -0.0780230313539505,
           -0.03751053288578987
          ],
          [
           0.05403190478682518,
           -0.043560877442359924,
           -0.11619137227535248,
           -0.046567682176828384,
           -0.005130202509462833,
           0.06298401206731796,
           0.05988188832998276,
           0.044330332428216934,
           0.04191726818680763,
           0.050608549267053604,
           0.07184944301843643,
           0.10819119215011597,
           0.09405016154050827,
           0.05040693283081055,
           0.011906765401363373,
           0.002631648676469922,
           0.23016467690467834,
           0.9489810466766357,
           0.9573724269866943,
           0.21065524220466614,
           -0.017622077837586403,
           -0.0034049826208502054,
           0.014200547710061073,
           0.0010419971076771617,
           -0.0021725459955632687,
           -0.036413442343473434,
           -0.09323903173208237,
           -0.031688813120126724
          ],
          [
           0.032556790858507156,
           -0.02089991793036461,
           -0.03766713663935661,
           -0.031883902847766876,
           -0.024347275495529175,
           0.013286998495459557,
           0.02133282460272312,
           0.03304281830787659,
           0.04925337806344032,
           0.05603649467229843,
           0.057302072644233704,
           0.08809620887041092,
           0.0682535469532013,
           0.029452543705701828,
           0.010871228761970997,
           -0.0029247612692415714,
           0.5169024467468262,
           0.9669544100761414,
           0.711766242980957,
           0.0001481347717344761,
           -0.04119487479329109,
           -0.03395424038171768,
           -0.02987971529364586,
           -0.016865361481904984,
           -0.03467932343482971,
           0.015589175745844841,
           -0.07949931174516678,
           -0.057673703879117966
          ],
          [
           -0.039667557924985886,
           -0.0344659686088562,
           -0.06891003251075745,
           -0.029751665890216827,
           -0.07764365524053574,
           0.0038285914342850447,
           0.010512172244489193,
           0.01797700859606266,
           0.03633756935596466,
           0.03808094561100006,
           0.04121975600719452,
           0.07342124730348587,
           0.038914792239665985,
           0.021411102265119553,
           0.014851479791104794,
           0.04454018920660019,
           0.800530195236206,
           0.9574174880981445,
           0.2158014476299286,
           -0.022455526515841484,
           -0.01730733923614025,
           -0.020288370549678802,
           -0.031821392476558685,
           -0.014846830628812313,
           -0.02530597895383835,
           0.007967320270836353,
           -0.08862099796533585,
           -0.07038994878530502
          ],
          [
           0.007088981568813324,
           -0.042901549488306046,
           -0.056166134774684906,
           -0.05140186846256256,
           -0.06784752011299133,
           -0.0017453825566917658,
           0.026188677176833153,
           0.030873602256178856,
           0.03647340089082718,
           0.048854321241378784,
           0.06958898156881332,
           0.07246460765600204,
           0.039421822875738144,
           0.014314800500869751,
           0.008016897365450859,
           0.48974743485450745,
           1.0056668519973755,
           0.7151753306388855,
           0.0075243557803332806,
           -0.0049126241356134415,
           0.0022106876131147146,
           -0.015006381087005138,
           -0.025845810770988464,
           -0.005050609819591045,
           -0.01289449818432331,
           -0.05112776905298233,
           -0.11387905478477478,
           -0.059016164392232895
          ],
          [
           -0.10728853195905685,
           -0.031028592959046364,
           -0.06618117541074753,
           -0.061138592660427094,
           -0.03969159722328186,
           -0.0023918449878692627,
           0.04281601682305336,
           0.04765024036169052,
           0.04565449059009552,
           0.04331313073635101,
           0.05630841851234436,
           0.06295671314001083,
           0.05705556645989418,
           0.02576453983783722,
           0.29237350821495056,
           0.9728583097457886,
           0.9423496127128601,
           0.22630926966667175,
           0.012447314336895943,
           0.0007342167082242668,
           0.004213069565594196,
           -0.02266717329621315,
           -0.023727092891931534,
           0.003492578864097595,
           0.010458145290613174,
           -0.04652515426278114,
           -0.09488113969564438,
           -0.0700235366821289
          ],
          [
           -0.003462528344243765,
           -0.10781414061784744,
           -0.016525354236364365,
           -0.03611238673329353,
           -0.033847056329250336,
           -0.002256631851196289,
           0.03231634944677353,
           0.028736189007759094,
           0.02909366600215435,
           0.03385698422789574,
           0.050805676728487015,
           0.05702986568212509,
           0.05054133012890816,
           0.07931022346019745,
           0.857848584651947,
           1.0013678073883057,
           0.6645463109016418,
           0.0023798728361725807,
           0.023926064372062683,
           0.001781735452823341,
           0.007969903759658337,
           0.006891160737723112,
           0.015670295804739,
           0.01613776758313179,
           0.004699461627751589,
           -0.055484503507614136,
           -0.07615760713815689,
           -0.03971412777900696
          ],
          [
           0.0022052908316254616,
           -0.017971977591514587,
           0.016686666756868362,
           -0.03949975222349167,
           -0.023495035246014595,
           -0.006402675528079271,
           -0.0022736727260053158,
           0.0022282323334366083,
           0.007322876714169979,
           0.023700617253780365,
           0.03882933408021927,
           0.02385849319398403,
           0.04462720826268196,
           0.8015868067741394,
           0.9919586181640625,
           0.8784146904945374,
           0.15784181654453278,
           0.027047086507081985,
           0.03132569417357445,
           0.018472319468855858,
           0.016795139759778976,
           0.018910560756921768,
           0.04189371317625046,
           0.012345611117780209,
           -0.027953099459409714,
           -0.029675845056772232,
           -0.05500501021742821,
           0.0020326259545981884
          ],
          [
           0.0028569011483341455,
           -0.022089429199695587,
           -0.03966198489069939,
           -0.0355864092707634,
           -0.006201906595379114,
           -0.013055280782282352,
           -0.01236042007803917,
           0.00944579392671585,
           0.012073510326445103,
           0.020506760105490685,
           0.018350742757320404,
           0.0275845006108284,
           0.17047327756881714,
           1.0315601825714111,
           1.0257631540298462,
           0.3254982829093933,
           0.009340398013591766,
           0.0347854383289814,
           0.02102532796561718,
           0.009831555187702179,
           0.029078397899866104,
           0.03082207962870598,
           0.04465721547603607,
           0.02959824539721012,
           -0.0222817100584507,
           -0.03375009447336197,
           0.011901097372174263,
           -0.00466895429417491
          ],
          [
           0.005067497491836548,
           -0.003341339062899351,
           -0.03446678817272186,
           -0.02680397592484951,
           -0.0103223891928792,
           -0.0297374427318573,
           -0.03718379884958267,
           -0.029627442359924316,
           -0.015412955544888973,
           -0.011661198921501637,
           -0.0033301115036010742,
           0.1280118227005005,
           0.9005693793296814,
           1.0325075387954712,
           0.46792590618133545,
           0.012509902939200401,
           0.017421625554561615,
           0.01779107376933098,
           0.01589217595756054,
           0.01613815501332283,
           0.022652260959148407,
           0.04139169305562973,
           0.025269679725170135,
           0.029157865792512894,
           -0.023271244019269943,
           -0.013381432741880417,
           0.05751579999923706,
           -0.006398399360477924
          ],
          [
           0.005881770048290491,
           -0.0023134055081754923,
           -0.015157965943217278,
           -0.015317538753151894,
           -0.038184087723493576,
           -0.047587208449840546,
           -0.06536643952131271,
           -0.07786877453327179,
           -0.00859365426003933,
           -0.0118798753246665,
           -0.0227954238653183,
           0.5116292238235474,
           0.9994454383850098,
           1.003114104270935,
           0.21613430976867676,
           0.0013909037224948406,
           0.02288714237511158,
           0.012782381847500801,
           -0.001216147094964981,
           0.01572728157043457,
           0.04389454424381256,
           0.03895115852355957,
           0.014128494076430798,
           0.04658132791519165,
           -0.012187478132545948,
           0.014531404711306095,
           0.01215548999607563,
           -0.0017572726355865598
          ],
          [
           0.005072437226772308,
           -0.007034146226942539,
           -0.03549787029623985,
           -0.0760459452867508,
           -0.13616277277469635,
           -0.11899183690547943,
           -0.09880802780389786,
           -0.08357065916061401,
           -0.04354122653603554,
           -0.0042692204006016254,
           0.220694899559021,
           0.931057333946228,
           0.9739801287651062,
           0.9739580154418945,
           0.18451817333698273,
           -0.011169316247105598,
           -0.0013810333330184221,
           -0.0327669195830822,
           0.020053038373589516,
           0.02927234396338463,
           0.01758608967065811,
           -0.009215517900884151,
           0.02587309293448925,
           0.04445851966738701,
           -0.010416112840175629,
           -0.018724756315350533,
           -0.026485180482268333,
           -0.000037117726606084034
          ],
          [
           0.005870917346328497,
           -0.0000296187681669835,
           0.04860108718276024,
           -0.010896764695644379,
           -0.10677792876958847,
           -0.12298896908760071,
           -0.09105363488197327,
           -0.10600674897432327,
           -0.1305505335330963,
           -0.09450442343950272,
           0.41316112875938416,
           0.9139647483825684,
           0.9096717834472656,
           0.789120614528656,
           0.1031828448176384,
           -0.03129478543996811,
           -0.03830612823367119,
           -0.03462693840265274,
           -0.0336039736866951,
           -0.051351480185985565,
           -0.03450378403067589,
           -0.009587893262505531,
           0.02668769843876362,
           0.0654824897646904,
           0.026230866089463234,
           -0.010705014690756798,
           -0.014261865057051182,
           0.005225227680057287
          ],
          [
           -0.0002038239617832005,
           0.0061544873751699924,
           0.004394893534481525,
           0.01175864040851593,
           0.03238469362258911,
           -0.012656327337026596,
           -0.04392033442854881,
           -0.08927569538354874,
           -0.09670739620923996,
           -0.09338074177503586,
           0.39202937483787537,
           0.9464902877807617,
           0.7688204050064087,
           -0.006302583962678909,
           -0.09595053642988205,
           -0.1091613620519638,
           -0.09736666828393936,
           -0.09976163506507874,
           -0.11966601014137268,
           -0.14472711086273193,
           -0.06802932918071747,
           -0.06408515572547913,
           -0.07109224051237106,
           0.011784388683736324,
           -0.020190313458442688,
           -0.015440908260643482,
           -0.003988767974078655,
           -0.0015233702724799514
          ],
          [
           -0.003257479052990675,
           0.0005762803484685719,
           0.005499068647623062,
           0.000392958871088922,
           -0.033144231885671616,
           -0.038701314479112625,
           -0.0660979375243187,
           -0.07308690249919891,
           -0.09816891700029373,
           -0.08659425377845764,
           -0.09401470422744751,
           -0.02056708373129368,
           -0.03156587854027748,
           -0.09571509063243866,
           -0.10131865739822388,
           -0.08938778936862946,
           -0.07871484756469727,
           -0.09893304109573364,
           -0.0969030037522316,
           -0.1105743795633316,
           -0.04343795403838158,
           -0.08564763516187668,
           -0.0811987817287445,
           -0.08051052689552307,
           -0.0016731931827962399,
           -0.000056511093134758994,
           0.00347514683380723,
           0.00018768866721075028
          ]
         ]
        }
       ],
       "layout": {
        "coloraxis": {
         "colorscale": [
          [
           0,
           "#0d0887"
          ],
          [
           0.1111111111111111,
           "#46039f"
          ],
          [
           0.2222222222222222,
           "#7201a8"
          ],
          [
           0.3333333333333333,
           "#9c179e"
          ],
          [
           0.4444444444444444,
           "#bd3786"
          ],
          [
           0.5555555555555556,
           "#d8576b"
          ],
          [
           0.6666666666666666,
           "#ed7953"
          ],
          [
           0.7777777777777778,
           "#fb9f3a"
          ],
          [
           0.8888888888888888,
           "#fdca26"
          ],
          [
           1,
           "#f0f921"
          ]
         ]
        },
        "margin": {
         "t": 60
        },
        "template": {
         "data": {
          "bar": [
           {
            "error_x": {
             "color": "#2a3f5f"
            },
            "error_y": {
             "color": "#2a3f5f"
            },
            "marker": {
             "line": {
              "color": "#E5ECF6",
              "width": 0.5
             },
             "pattern": {
              "fillmode": "overlay",
              "size": 10,
              "solidity": 0.2
             }
            },
            "type": "bar"
           }
          ],
          "barpolar": [
           {
            "marker": {
             "line": {
              "color": "#E5ECF6",
              "width": 0.5
             },
             "pattern": {
              "fillmode": "overlay",
              "size": 10,
              "solidity": 0.2
             }
            },
            "type": "barpolar"
           }
          ],
          "carpet": [
           {
            "aaxis": {
             "endlinecolor": "#2a3f5f",
             "gridcolor": "white",
             "linecolor": "white",
             "minorgridcolor": "white",
             "startlinecolor": "#2a3f5f"
            },
            "baxis": {
             "endlinecolor": "#2a3f5f",
             "gridcolor": "white",
             "linecolor": "white",
             "minorgridcolor": "white",
             "startlinecolor": "#2a3f5f"
            },
            "type": "carpet"
           }
          ],
          "choropleth": [
           {
            "colorbar": {
             "outlinewidth": 0,
             "ticks": ""
            },
            "type": "choropleth"
           }
          ],
          "contour": [
           {
            "colorbar": {
             "outlinewidth": 0,
             "ticks": ""
            },
            "colorscale": [
             [
              0,
              "#0d0887"
             ],
             [
              0.1111111111111111,
              "#46039f"
             ],
             [
              0.2222222222222222,
              "#7201a8"
             ],
             [
              0.3333333333333333,
              "#9c179e"
             ],
             [
              0.4444444444444444,
              "#bd3786"
             ],
             [
              0.5555555555555556,
              "#d8576b"
             ],
             [
              0.6666666666666666,
              "#ed7953"
             ],
             [
              0.7777777777777778,
              "#fb9f3a"
             ],
             [
              0.8888888888888888,
              "#fdca26"
             ],
             [
              1,
              "#f0f921"
             ]
            ],
            "type": "contour"
           }
          ],
          "contourcarpet": [
           {
            "colorbar": {
             "outlinewidth": 0,
             "ticks": ""
            },
            "type": "contourcarpet"
           }
          ],
          "heatmap": [
           {
            "colorbar": {
             "outlinewidth": 0,
             "ticks": ""
            },
            "colorscale": [
             [
              0,
              "#0d0887"
             ],
             [
              0.1111111111111111,
              "#46039f"
             ],
             [
              0.2222222222222222,
              "#7201a8"
             ],
             [
              0.3333333333333333,
              "#9c179e"
             ],
             [
              0.4444444444444444,
              "#bd3786"
             ],
             [
              0.5555555555555556,
              "#d8576b"
             ],
             [
              0.6666666666666666,
              "#ed7953"
             ],
             [
              0.7777777777777778,
              "#fb9f3a"
             ],
             [
              0.8888888888888888,
              "#fdca26"
             ],
             [
              1,
              "#f0f921"
             ]
            ],
            "type": "heatmap"
           }
          ],
          "heatmapgl": [
           {
            "colorbar": {
             "outlinewidth": 0,
             "ticks": ""
            },
            "colorscale": [
             [
              0,
              "#0d0887"
             ],
             [
              0.1111111111111111,
              "#46039f"
             ],
             [
              0.2222222222222222,
              "#7201a8"
             ],
             [
              0.3333333333333333,
              "#9c179e"
             ],
             [
              0.4444444444444444,
              "#bd3786"
             ],
             [
              0.5555555555555556,
              "#d8576b"
             ],
             [
              0.6666666666666666,
              "#ed7953"
             ],
             [
              0.7777777777777778,
              "#fb9f3a"
             ],
             [
              0.8888888888888888,
              "#fdca26"
             ],
             [
              1,
              "#f0f921"
             ]
            ],
            "type": "heatmapgl"
           }
          ],
          "histogram": [
           {
            "marker": {
             "pattern": {
              "fillmode": "overlay",
              "size": 10,
              "solidity": 0.2
             }
            },
            "type": "histogram"
           }
          ],
          "histogram2d": [
           {
            "colorbar": {
             "outlinewidth": 0,
             "ticks": ""
            },
            "colorscale": [
             [
              0,
              "#0d0887"
             ],
             [
              0.1111111111111111,
              "#46039f"
             ],
             [
              0.2222222222222222,
              "#7201a8"
             ],
             [
              0.3333333333333333,
              "#9c179e"
             ],
             [
              0.4444444444444444,
              "#bd3786"
             ],
             [
              0.5555555555555556,
              "#d8576b"
             ],
             [
              0.6666666666666666,
              "#ed7953"
             ],
             [
              0.7777777777777778,
              "#fb9f3a"
             ],
             [
              0.8888888888888888,
              "#fdca26"
             ],
             [
              1,
              "#f0f921"
             ]
            ],
            "type": "histogram2d"
           }
          ],
          "histogram2dcontour": [
           {
            "colorbar": {
             "outlinewidth": 0,
             "ticks": ""
            },
            "colorscale": [
             [
              0,
              "#0d0887"
             ],
             [
              0.1111111111111111,
              "#46039f"
             ],
             [
              0.2222222222222222,
              "#7201a8"
             ],
             [
              0.3333333333333333,
              "#9c179e"
             ],
             [
              0.4444444444444444,
              "#bd3786"
             ],
             [
              0.5555555555555556,
              "#d8576b"
             ],
             [
              0.6666666666666666,
              "#ed7953"
             ],
             [
              0.7777777777777778,
              "#fb9f3a"
             ],
             [
              0.8888888888888888,
              "#fdca26"
             ],
             [
              1,
              "#f0f921"
             ]
            ],
            "type": "histogram2dcontour"
           }
          ],
          "mesh3d": [
           {
            "colorbar": {
             "outlinewidth": 0,
             "ticks": ""
            },
            "type": "mesh3d"
           }
          ],
          "parcoords": [
           {
            "line": {
             "colorbar": {
              "outlinewidth": 0,
              "ticks": ""
             }
            },
            "type": "parcoords"
           }
          ],
          "pie": [
           {
            "automargin": true,
            "type": "pie"
           }
          ],
          "scatter": [
           {
            "fillpattern": {
             "fillmode": "overlay",
             "size": 10,
             "solidity": 0.2
            },
            "type": "scatter"
           }
          ],
          "scatter3d": [
           {
            "line": {
             "colorbar": {
              "outlinewidth": 0,
              "ticks": ""
             }
            },
            "marker": {
             "colorbar": {
              "outlinewidth": 0,
              "ticks": ""
             }
            },
            "type": "scatter3d"
           }
          ],
          "scattercarpet": [
           {
            "marker": {
             "colorbar": {
              "outlinewidth": 0,
              "ticks": ""
             }
            },
            "type": "scattercarpet"
           }
          ],
          "scattergeo": [
           {
            "marker": {
             "colorbar": {
              "outlinewidth": 0,
              "ticks": ""
             }
            },
            "type": "scattergeo"
           }
          ],
          "scattergl": [
           {
            "marker": {
             "colorbar": {
              "outlinewidth": 0,
              "ticks": ""
             }
            },
            "type": "scattergl"
           }
          ],
          "scattermapbox": [
           {
            "marker": {
             "colorbar": {
              "outlinewidth": 0,
              "ticks": ""
             }
            },
            "type": "scattermapbox"
           }
          ],
          "scatterpolar": [
           {
            "marker": {
             "colorbar": {
              "outlinewidth": 0,
              "ticks": ""
             }
            },
            "type": "scatterpolar"
           }
          ],
          "scatterpolargl": [
           {
            "marker": {
             "colorbar": {
              "outlinewidth": 0,
              "ticks": ""
             }
            },
            "type": "scatterpolargl"
           }
          ],
          "scatterternary": [
           {
            "marker": {
             "colorbar": {
              "outlinewidth": 0,
              "ticks": ""
             }
            },
            "type": "scatterternary"
           }
          ],
          "surface": [
           {
            "colorbar": {
             "outlinewidth": 0,
             "ticks": ""
            },
            "colorscale": [
             [
              0,
              "#0d0887"
             ],
             [
              0.1111111111111111,
              "#46039f"
             ],
             [
              0.2222222222222222,
              "#7201a8"
             ],
             [
              0.3333333333333333,
              "#9c179e"
             ],
             [
              0.4444444444444444,
              "#bd3786"
             ],
             [
              0.5555555555555556,
              "#d8576b"
             ],
             [
              0.6666666666666666,
              "#ed7953"
             ],
             [
              0.7777777777777778,
              "#fb9f3a"
             ],
             [
              0.8888888888888888,
              "#fdca26"
             ],
             [
              1,
              "#f0f921"
             ]
            ],
            "type": "surface"
           }
          ],
          "table": [
           {
            "cells": {
             "fill": {
              "color": "#EBF0F8"
             },
             "line": {
              "color": "white"
             }
            },
            "header": {
             "fill": {
              "color": "#C8D4E3"
             },
             "line": {
              "color": "white"
             }
            },
            "type": "table"
           }
          ]
         },
         "layout": {
          "annotationdefaults": {
           "arrowcolor": "#2a3f5f",
           "arrowhead": 0,
           "arrowwidth": 1
          },
          "autotypenumbers": "strict",
          "coloraxis": {
           "colorbar": {
            "outlinewidth": 0,
            "ticks": ""
           }
          },
          "colorscale": {
           "diverging": [
            [
             0,
             "#8e0152"
            ],
            [
             0.1,
             "#c51b7d"
            ],
            [
             0.2,
             "#de77ae"
            ],
            [
             0.3,
             "#f1b6da"
            ],
            [
             0.4,
             "#fde0ef"
            ],
            [
             0.5,
             "#f7f7f7"
            ],
            [
             0.6,
             "#e6f5d0"
            ],
            [
             0.7,
             "#b8e186"
            ],
            [
             0.8,
             "#7fbc41"
            ],
            [
             0.9,
             "#4d9221"
            ],
            [
             1,
             "#276419"
            ]
           ],
           "sequential": [
            [
             0,
             "#0d0887"
            ],
            [
             0.1111111111111111,
             "#46039f"
            ],
            [
             0.2222222222222222,
             "#7201a8"
            ],
            [
             0.3333333333333333,
             "#9c179e"
            ],
            [
             0.4444444444444444,
             "#bd3786"
            ],
            [
             0.5555555555555556,
             "#d8576b"
            ],
            [
             0.6666666666666666,
             "#ed7953"
            ],
            [
             0.7777777777777778,
             "#fb9f3a"
            ],
            [
             0.8888888888888888,
             "#fdca26"
            ],
            [
             1,
             "#f0f921"
            ]
           ],
           "sequentialminus": [
            [
             0,
             "#0d0887"
            ],
            [
             0.1111111111111111,
             "#46039f"
            ],
            [
             0.2222222222222222,
             "#7201a8"
            ],
            [
             0.3333333333333333,
             "#9c179e"
            ],
            [
             0.4444444444444444,
             "#bd3786"
            ],
            [
             0.5555555555555556,
             "#d8576b"
            ],
            [
             0.6666666666666666,
             "#ed7953"
            ],
            [
             0.7777777777777778,
             "#fb9f3a"
            ],
            [
             0.8888888888888888,
             "#fdca26"
            ],
            [
             1,
             "#f0f921"
            ]
           ]
          },
          "colorway": [
           "#636efa",
           "#EF553B",
           "#00cc96",
           "#ab63fa",
           "#FFA15A",
           "#19d3f3",
           "#FF6692",
           "#B6E880",
           "#FF97FF",
           "#FECB52"
          ],
          "font": {
           "color": "#2a3f5f"
          },
          "geo": {
           "bgcolor": "white",
           "lakecolor": "white",
           "landcolor": "#E5ECF6",
           "showlakes": true,
           "showland": true,
           "subunitcolor": "white"
          },
          "hoverlabel": {
           "align": "left"
          },
          "hovermode": "closest",
          "mapbox": {
           "style": "light"
          },
          "paper_bgcolor": "white",
          "plot_bgcolor": "#E5ECF6",
          "polar": {
           "angularaxis": {
            "gridcolor": "white",
            "linecolor": "white",
            "ticks": ""
           },
           "bgcolor": "#E5ECF6",
           "radialaxis": {
            "gridcolor": "white",
            "linecolor": "white",
            "ticks": ""
           }
          },
          "scene": {
           "xaxis": {
            "backgroundcolor": "#E5ECF6",
            "gridcolor": "white",
            "gridwidth": 2,
            "linecolor": "white",
            "showbackground": true,
            "ticks": "",
            "zerolinecolor": "white"
           },
           "yaxis": {
            "backgroundcolor": "#E5ECF6",
            "gridcolor": "white",
            "gridwidth": 2,
            "linecolor": "white",
            "showbackground": true,
            "ticks": "",
            "zerolinecolor": "white"
           },
           "zaxis": {
            "backgroundcolor": "#E5ECF6",
            "gridcolor": "white",
            "gridwidth": 2,
            "linecolor": "white",
            "showbackground": true,
            "ticks": "",
            "zerolinecolor": "white"
           }
          },
          "shapedefaults": {
           "line": {
            "color": "#2a3f5f"
           }
          },
          "ternary": {
           "aaxis": {
            "gridcolor": "white",
            "linecolor": "white",
            "ticks": ""
           },
           "baxis": {
            "gridcolor": "white",
            "linecolor": "white",
            "ticks": ""
           },
           "bgcolor": "#E5ECF6",
           "caxis": {
            "gridcolor": "white",
            "linecolor": "white",
            "ticks": ""
           }
          },
          "title": {
           "x": 0.05
          },
          "xaxis": {
           "automargin": true,
           "gridcolor": "white",
           "linecolor": "white",
           "ticks": "",
           "title": {
            "standoff": 15
           },
           "zerolinecolor": "white",
           "zerolinewidth": 2
          },
          "yaxis": {
           "automargin": true,
           "gridcolor": "white",
           "linecolor": "white",
           "ticks": "",
           "title": {
            "standoff": 15
           },
           "zerolinecolor": "white",
           "zerolinewidth": 2
          }
         }
        },
        "xaxis": {
         "anchor": "y",
         "constrain": "domain",
         "domain": [
          0,
          1
         ],
         "scaleanchor": "y"
        },
        "yaxis": {
         "anchor": "x",
         "autorange": "reversed",
         "constrain": "domain",
         "domain": [
          0,
          1
         ]
        }
       }
      },
      "text/html": [
       "<div>                            <div id=\"fa7ec66f-8468-4510-915e-5333ecd58485\" class=\"plotly-graph-div\" style=\"height:525px; width:100%;\"></div>            <script type=\"text/javascript\">                require([\"plotly\"], function(Plotly) {                    window.PLOTLYENV=window.PLOTLYENV || {};                                    if (document.getElementById(\"fa7ec66f-8468-4510-915e-5333ecd58485\")) {                    Plotly.newPlot(                        \"fa7ec66f-8468-4510-915e-5333ecd58485\",                        [{\"coloraxis\":\"coloraxis\",\"name\":\"0\",\"z\":[[0.006205825135111809,-0.0010327479103580117,-0.002328907372429967,-0.002848111093044281,0.0038044701796025038,0.0051255295984447,-0.011037470772862434,-0.002395311137661338,-0.0032525588758289814,-0.0010550811421126127,-0.0049732946790754795,-4.092523226972844e-07,0.020159078761935234,0.01616813987493515,-0.011341482400894165,-0.000893830438144505,-0.002687811153009534,0.0006903420435264707,0.0007091519655659795,0.0005887045990675688,-0.0076731108129024506,0.0019786914344877005,0.0066543989814817905,0.008832402527332306,0.0038509140722453594,-0.003413877449929714,-0.00048738918849267066,0.0006217705667950213],[0.008703445084393024,0.007742962334305048,-0.0009278786019422114,-0.004101775586605072,0.010789204388856888,0.011333184316754341,0.037618570029735565,0.05399690195918083,0.05440541356801987,0.05313422903418541,0.0757761150598526,0.07737058401107788,0.08497938513755798,0.07247541099786758,0.007024816237390041,0.0019680096302181482,-0.022438636049628258,0.02981674298644066,0.08727522939443588,0.10141386091709137,0.09554173797369003,0.06254836171865463,0.03909927234053612,0.026857499033212662,0.007132239639759064,4.90737147629261e-06,-0.0025855761487036943,0.00421311566606164],[0.01162167638540268,0.0016086972318589687,0.00420644786208868,-0.004765721969306469,0.036879077553749084,0.03992167487740517,0.0675092488527298,0.08602353930473328,0.06631620228290558,0.042282022535800934,0.0663692057132721,0.05042023956775665,0.0361565425992012,0.031615521758794785,0.031500257551670074,0.028419848531484604,0.0242165457457304,0.05319476127624512,0.07405222207307816,0.0915268212556839,0.0780344307422638,0.07638391107320786,0.09639818221330643,0.058796003460884094,-0.017128190025687218,-0.033288612961769104,0.003615862689912319,6.349111936287954e-05],[-0.0009502304019406438,-0.005704605486243963,-0.021779043599963188,0.026852788403630257,0.08756199479103088,-0.022243475541472435,0.025351012125611305,0.011887202970683575,-0.00952138938009739,-7.446182280546054e-05,0.006562137510627508,-0.007248638663440943,-0.044808708131313324,-0.027161717414855957,-0.01357110496610403,-0.00394364632666111,-0.0012023969320580363,0.0286195557564497,0.053787752985954285,0.0657157450914383,0.06085473299026489,0.09475092589855194,0.1231350377202034,0.10750802606344223,0.05935703217983246,-0.011762427166104317,0.04421008378267288,-0.002430788241326809],[0.0029596928507089615,-0.006925204768776894,-0.06324880570173264,-0.07623293995857239,-0.01435099821537733,-0.05621747300028801,-0.05587917938828468,-0.02415548637509346,-0.016313713043928146,-0.019312556833028793,-0.014417891390621662,-0.017942292615771294,-0.022005446255207062,-0.014717135578393936,-0.0019163708202540874,0.011284565553069115,0.029135143384337425,0.04940290004014969,0.045308083295822144,0.06017586961388588,0.08198502659797668,0.09376210719347,0.10605749487876892,0.13536450266838074,0.1105918139219284,0.06528279930353165,0.03299042209982872,0.05722380056977272],[-0.007997659966349602,0.001582523575052619,-0.005246755667030811,-0.0807826817035675,-0.07416347414255142,-0.11851780861616135,-0.08033908903598785,-0.04803496599197388,-0.028821419924497604,-0.022467026486992836,-0.019578834995627403,-0.013783148489892483,-0.008475016802549362,-0.009656092151999474,0.0034930172841995955,-0.005635297857224941,0.01866484433412552,0.04371959716081619,0.04450291767716408,0.07088607549667358,0.09235190600156784,0.07827754318714142,0.07979696989059448,0.10341406613588333,0.11209458112716675,0.10611376911401749,0.08945098519325256,0.08194310963153839],[0.0009589750552549958,-0.039852481335401535,-0.04723283648490906,-0.16228684782981873,-0.07289811223745346,-0.06585178524255753,-0.08156964182853699,-0.0323578342795372,-0.042458370327949524,-0.04484451189637184,-0.05834297090768814,-0.040851328521966934,-0.027273789048194885,-0.02652512677013874,-0.03516235947608948,-0.02253996580839157,-0.04092719778418541,-0.018695957958698273,-0.017591075971722603,0.02829369157552719,0.0404178649187088,0.027684776112437248,0.06713563203811646,0.10260945558547974,0.11695512384176254,0.12305057793855667,0.08946965634822845,0.06807924062013626],[-0.007857276126742363,-0.09510752558708191,-0.09083034098148346,-0.1651252955198288,-0.08614795655012131,-0.055153738707304,0.2529422342777252,0.6865648031234741,0.5936880111694336,0.5373880863189697,0.1876811385154724,0.1027279943227768,-0.05038899928331375,-0.05478515103459358,-0.0493764653801918,-0.042373206466436386,-0.048898182809352875,-0.05267323926091194,-0.04888508841395378,-0.022430915385484695,-0.014105292968451977,0.01975351572036743,0.027503052726387978,0.07835821807384491,0.12239282578229904,0.11783880740404129,0.08404980599880219,0.06145808845758438],[0.023426590487360954,-0.12335491925477982,-0.06291953474283218,-0.09307253360748291,-0.1053093746304512,-0.061043307185173035,0.8184133172035217,0.9328454732894897,0.9503163695335388,0.9636769890785217,0.9588139057159424,0.9129946231842041,0.7437222599983215,0.7379321455955505,0.700802743434906,0.6876509785652161,0.7001302242279053,0.7036623358726501,0.7090978622436523,0.7319389581680298,0.6507704257965088,0.21217118203639984,0.0020646611228585243,0.04964912682771683,0.11799310147762299,0.12082798779010773,0.07932821661233902,0.037132132798433304],[-0.04140961915254593,-0.1139221265912056,-0.07208045572042465,-0.10436036437749863,-0.10605568438768387,-0.08797965943813324,0.19637121260166168,0.4038086235523224,0.25491806864738464,0.4315090775489807,0.6429219841957092,0.9080095291137695,0.988978922367096,0.8526487946510315,0.9074702262878418,0.8734782338142395,0.8916201591491699,0.8807676434516907,0.8283331394195557,0.9441021084785461,0.9657539129257202,0.540374755859375,-0.016738444566726685,0.046871818602085114,0.11004958301782608,0.1004268154501915,0.06782472133636475,-0.045736685395240784],[-0.04056107625365257,-0.06624583899974823,-0.10819784551858902,-0.13290128111839294,-0.07352632284164429,-0.0801347866654396,-0.043763402849435806,-0.004818969871848822,0.025904584676027298,0.03547496348619461,0.03721720352768898,0.10818958282470703,0.30969852209091187,0.04917741194367409,0.19796229898929596,0.17336998879909515,0.16323082149028778,0.13647755980491638,0.0172838494181633,0.8808929324150085,0.9456441402435303,0.3888000547885895,-0.009882709011435509,0.06621760874986649,0.13478721678256989,0.07411399483680725,0.048704974353313446,-0.04879697039723396],[-0.033111583441495895,-0.08243042975664139,-0.13534611463546753,-0.12488310039043427,-0.0723797157406807,-0.014299985021352768,0.015767106786370277,0.04474784433841705,0.05157545208930969,0.05294252559542656,0.047573138028383255,0.04081026092171669,0.06222233176231384,0.04138801246881485,-0.01955357752740383,-0.047144901007413864,-0.047025300562381744,-0.06477568298578262,0.2588217854499817,0.9423904418945312,0.7692988514900208,0.055119335651397705,-0.00017864230903796852,0.077158622443676,0.14059284329414368,0.07885430753231049,0.04659730941057205,-0.018997786566615105],[-0.016658537089824677,-0.09003487974405289,-0.11839354783296585,-0.07913756370544434,-0.045514222234487534,0.025128422304987907,0.07189241051673889,0.06413214653730392,0.045572079718112946,0.05931868031620979,0.05193324014544487,0.07844739407300949,0.10894753038883209,0.09123582392930984,0.011408564634621143,-0.01255128439515829,-0.022658836096525192,0.04834238439798355,0.8673369884490967,0.976402997970581,0.32161879539489746,0.020640769973397255,0.036377258598804474,0.06226809322834015,0.06833922117948532,-0.012008478865027428,-0.03893228992819786,-0.09558611363172531],[0.01047467440366745,-0.05042797327041626,-0.12512832880020142,-0.05593215674161911,-0.00600029993802309,0.0688641220331192,0.0705781877040863,0.05999379977583885,0.05032683163881302,0.056301094591617584,0.05723913758993149,0.10261759161949158,0.12694460153579712,0.07088834047317505,0.012318386696279049,0.01866665855050087,-0.008139368146657944,0.4780285954475403,0.9655184149742126,0.9417885541915894,0.1864383965730667,0.026161331683397293,0.0612952746450901,0.062099579721689224,0.011409487575292587,-0.048530079424381256,-0.0780230313539505,-0.03751053288578987],[0.05403190478682518,-0.043560877442359924,-0.11619137227535248,-0.046567682176828384,-0.005130202509462833,0.06298401206731796,0.05988188832998276,0.044330332428216934,0.04191726818680763,0.050608549267053604,0.07184944301843643,0.10819119215011597,0.09405016154050827,0.05040693283081055,0.011906765401363373,0.002631648676469922,0.23016467690467834,0.9489810466766357,0.9573724269866943,0.21065524220466614,-0.017622077837586403,-0.0034049826208502054,0.014200547710061073,0.0010419971076771617,-0.0021725459955632687,-0.036413442343473434,-0.09323903173208237,-0.031688813120126724],[0.032556790858507156,-0.02089991793036461,-0.03766713663935661,-0.031883902847766876,-0.024347275495529175,0.013286998495459557,0.02133282460272312,0.03304281830787659,0.04925337806344032,0.05603649467229843,0.057302072644233704,0.08809620887041092,0.0682535469532013,0.029452543705701828,0.010871228761970997,-0.0029247612692415714,0.5169024467468262,0.9669544100761414,0.711766242980957,0.0001481347717344761,-0.04119487479329109,-0.03395424038171768,-0.02987971529364586,-0.016865361481904984,-0.03467932343482971,0.015589175745844841,-0.07949931174516678,-0.057673703879117966],[-0.039667557924985886,-0.0344659686088562,-0.06891003251075745,-0.029751665890216827,-0.07764365524053574,0.0038285914342850447,0.010512172244489193,0.01797700859606266,0.03633756935596466,0.03808094561100006,0.04121975600719452,0.07342124730348587,0.038914792239665985,0.021411102265119553,0.014851479791104794,0.04454018920660019,0.800530195236206,0.9574174880981445,0.2158014476299286,-0.022455526515841484,-0.01730733923614025,-0.020288370549678802,-0.031821392476558685,-0.014846830628812313,-0.02530597895383835,0.007967320270836353,-0.08862099796533585,-0.07038994878530502],[0.007088981568813324,-0.042901549488306046,-0.056166134774684906,-0.05140186846256256,-0.06784752011299133,-0.0017453825566917658,0.026188677176833153,0.030873602256178856,0.03647340089082718,0.048854321241378784,0.06958898156881332,0.07246460765600204,0.039421822875738144,0.014314800500869751,0.008016897365450859,0.48974743485450745,1.0056668519973755,0.7151753306388855,0.0075243557803332806,-0.0049126241356134415,0.0022106876131147146,-0.015006381087005138,-0.025845810770988464,-0.005050609819591045,-0.01289449818432331,-0.05112776905298233,-0.11387905478477478,-0.059016164392232895],[-0.10728853195905685,-0.031028592959046364,-0.06618117541074753,-0.061138592660427094,-0.03969159722328186,-0.0023918449878692627,0.04281601682305336,0.04765024036169052,0.04565449059009552,0.04331313073635101,0.05630841851234436,0.06295671314001083,0.05705556645989418,0.02576453983783722,0.29237350821495056,0.9728583097457886,0.9423496127128601,0.22630926966667175,0.012447314336895943,0.0007342167082242668,0.004213069565594196,-0.02266717329621315,-0.023727092891931534,0.003492578864097595,0.010458145290613174,-0.04652515426278114,-0.09488113969564438,-0.0700235366821289],[-0.003462528344243765,-0.10781414061784744,-0.016525354236364365,-0.03611238673329353,-0.033847056329250336,-0.002256631851196289,0.03231634944677353,0.028736189007759094,0.02909366600215435,0.03385698422789574,0.050805676728487015,0.05702986568212509,0.05054133012890816,0.07931022346019745,0.857848584651947,1.0013678073883057,0.6645463109016418,0.0023798728361725807,0.023926064372062683,0.001781735452823341,0.007969903759658337,0.006891160737723112,0.015670295804739,0.01613776758313179,0.004699461627751589,-0.055484503507614136,-0.07615760713815689,-0.03971412777900696],[0.0022052908316254616,-0.017971977591514587,0.016686666756868362,-0.03949975222349167,-0.023495035246014595,-0.006402675528079271,-0.0022736727260053158,0.0022282323334366083,0.007322876714169979,0.023700617253780365,0.03882933408021927,0.02385849319398403,0.04462720826268196,0.8015868067741394,0.9919586181640625,0.8784146904945374,0.15784181654453278,0.027047086507081985,0.03132569417357445,0.018472319468855858,0.016795139759778976,0.018910560756921768,0.04189371317625046,0.012345611117780209,-0.027953099459409714,-0.029675845056772232,-0.05500501021742821,0.0020326259545981884],[0.0028569011483341455,-0.022089429199695587,-0.03966198489069939,-0.0355864092707634,-0.006201906595379114,-0.013055280782282352,-0.01236042007803917,0.00944579392671585,0.012073510326445103,0.020506760105490685,0.018350742757320404,0.0275845006108284,0.17047327756881714,1.0315601825714111,1.0257631540298462,0.3254982829093933,0.009340398013591766,0.0347854383289814,0.02102532796561718,0.009831555187702179,0.029078397899866104,0.03082207962870598,0.04465721547603607,0.02959824539721012,-0.0222817100584507,-0.03375009447336197,0.011901097372174263,-0.00466895429417491],[0.005067497491836548,-0.003341339062899351,-0.03446678817272186,-0.02680397592484951,-0.0103223891928792,-0.0297374427318573,-0.03718379884958267,-0.029627442359924316,-0.015412955544888973,-0.011661198921501637,-0.0033301115036010742,0.1280118227005005,0.9005693793296814,1.0325075387954712,0.46792590618133545,0.012509902939200401,0.017421625554561615,0.01779107376933098,0.01589217595756054,0.01613815501332283,0.022652260959148407,0.04139169305562973,0.025269679725170135,0.029157865792512894,-0.023271244019269943,-0.013381432741880417,0.05751579999923706,-0.006398399360477924],[0.005881770048290491,-0.0023134055081754923,-0.015157965943217278,-0.015317538753151894,-0.038184087723493576,-0.047587208449840546,-0.06536643952131271,-0.07786877453327179,-0.00859365426003933,-0.0118798753246665,-0.0227954238653183,0.5116292238235474,0.9994454383850098,1.003114104270935,0.21613430976867676,0.0013909037224948406,0.02288714237511158,0.012782381847500801,-0.001216147094964981,0.01572728157043457,0.04389454424381256,0.03895115852355957,0.014128494076430798,0.04658132791519165,-0.012187478132545948,0.014531404711306095,0.01215548999607563,-0.0017572726355865598],[0.005072437226772308,-0.007034146226942539,-0.03549787029623985,-0.0760459452867508,-0.13616277277469635,-0.11899183690547943,-0.09880802780389786,-0.08357065916061401,-0.04354122653603554,-0.0042692204006016254,0.220694899559021,0.931057333946228,0.9739801287651062,0.9739580154418945,0.18451817333698273,-0.011169316247105598,-0.0013810333330184221,-0.0327669195830822,0.020053038373589516,0.02927234396338463,0.01758608967065811,-0.009215517900884151,0.02587309293448925,0.04445851966738701,-0.010416112840175629,-0.018724756315350533,-0.026485180482268333,-3.7117726606084034e-05],[0.005870917346328497,-2.96187681669835e-05,0.04860108718276024,-0.010896764695644379,-0.10677792876958847,-0.12298896908760071,-0.09105363488197327,-0.10600674897432327,-0.1305505335330963,-0.09450442343950272,0.41316112875938416,0.9139647483825684,0.9096717834472656,0.789120614528656,0.1031828448176384,-0.03129478543996811,-0.03830612823367119,-0.03462693840265274,-0.0336039736866951,-0.051351480185985565,-0.03450378403067589,-0.009587893262505531,0.02668769843876362,0.0654824897646904,0.026230866089463234,-0.010705014690756798,-0.014261865057051182,0.005225227680057287],[-0.0002038239617832005,0.0061544873751699924,0.004394893534481525,0.01175864040851593,0.03238469362258911,-0.012656327337026596,-0.04392033442854881,-0.08927569538354874,-0.09670739620923996,-0.09338074177503586,0.39202937483787537,0.9464902877807617,0.7688204050064087,-0.006302583962678909,-0.09595053642988205,-0.1091613620519638,-0.09736666828393936,-0.09976163506507874,-0.11966601014137268,-0.14472711086273193,-0.06802932918071747,-0.06408515572547913,-0.07109224051237106,0.011784388683736324,-0.020190313458442688,-0.015440908260643482,-0.003988767974078655,-0.0015233702724799514],[-0.003257479052990675,0.0005762803484685719,0.005499068647623062,0.000392958871088922,-0.033144231885671616,-0.038701314479112625,-0.0660979375243187,-0.07308690249919891,-0.09816891700029373,-0.08659425377845764,-0.09401470422744751,-0.02056708373129368,-0.03156587854027748,-0.09571509063243866,-0.10131865739822388,-0.08938778936862946,-0.07871484756469727,-0.09893304109573364,-0.0969030037522316,-0.1105743795633316,-0.04343795403838158,-0.08564763516187668,-0.0811987817287445,-0.08051052689552307,-0.0016731931827962399,-5.6511093134758994e-05,0.00347514683380723,0.00018768866721075028]],\"type\":\"heatmap\",\"xaxis\":\"x\",\"yaxis\":\"y\",\"hovertemplate\":\"x: %{x}\\u003cbr\\u003ey: %{y}\\u003cbr\\u003ecolor: %{z}\\u003cextra\\u003e\\u003c\\u002fextra\\u003e\"}],                        {\"template\":{\"data\":{\"histogram2dcontour\":[{\"type\":\"histogram2dcontour\",\"colorbar\":{\"outlinewidth\":0,\"ticks\":\"\"},\"colorscale\":[[0.0,\"#0d0887\"],[0.1111111111111111,\"#46039f\"],[0.2222222222222222,\"#7201a8\"],[0.3333333333333333,\"#9c179e\"],[0.4444444444444444,\"#bd3786\"],[0.5555555555555556,\"#d8576b\"],[0.6666666666666666,\"#ed7953\"],[0.7777777777777778,\"#fb9f3a\"],[0.8888888888888888,\"#fdca26\"],[1.0,\"#f0f921\"]]}],\"choropleth\":[{\"type\":\"choropleth\",\"colorbar\":{\"outlinewidth\":0,\"ticks\":\"\"}}],\"histogram2d\":[{\"type\":\"histogram2d\",\"colorbar\":{\"outlinewidth\":0,\"ticks\":\"\"},\"colorscale\":[[0.0,\"#0d0887\"],[0.1111111111111111,\"#46039f\"],[0.2222222222222222,\"#7201a8\"],[0.3333333333333333,\"#9c179e\"],[0.4444444444444444,\"#bd3786\"],[0.5555555555555556,\"#d8576b\"],[0.6666666666666666,\"#ed7953\"],[0.7777777777777778,\"#fb9f3a\"],[0.8888888888888888,\"#fdca26\"],[1.0,\"#f0f921\"]]}],\"heatmap\":[{\"type\":\"heatmap\",\"colorbar\":{\"outlinewidth\":0,\"ticks\":\"\"},\"colorscale\":[[0.0,\"#0d0887\"],[0.1111111111111111,\"#46039f\"],[0.2222222222222222,\"#7201a8\"],[0.3333333333333333,\"#9c179e\"],[0.4444444444444444,\"#bd3786\"],[0.5555555555555556,\"#d8576b\"],[0.6666666666666666,\"#ed7953\"],[0.7777777777777778,\"#fb9f3a\"],[0.8888888888888888,\"#fdca26\"],[1.0,\"#f0f921\"]]}],\"heatmapgl\":[{\"type\":\"heatmapgl\",\"colorbar\":{\"outlinewidth\":0,\"ticks\":\"\"},\"colorscale\":[[0.0,\"#0d0887\"],[0.1111111111111111,\"#46039f\"],[0.2222222222222222,\"#7201a8\"],[0.3333333333333333,\"#9c179e\"],[0.4444444444444444,\"#bd3786\"],[0.5555555555555556,\"#d8576b\"],[0.6666666666666666,\"#ed7953\"],[0.7777777777777778,\"#fb9f3a\"],[0.8888888888888888,\"#fdca26\"],[1.0,\"#f0f921\"]]}],\"contourcarpet\":[{\"type\":\"contourcarpet\",\"colorbar\":{\"outlinewidth\":0,\"ticks\":\"\"}}],\"contour\":[{\"type\":\"contour\",\"colorbar\":{\"outlinewidth\":0,\"ticks\":\"\"},\"colorscale\":[[0.0,\"#0d0887\"],[0.1111111111111111,\"#46039f\"],[0.2222222222222222,\"#7201a8\"],[0.3333333333333333,\"#9c179e\"],[0.4444444444444444,\"#bd3786\"],[0.5555555555555556,\"#d8576b\"],[0.6666666666666666,\"#ed7953\"],[0.7777777777777778,\"#fb9f3a\"],[0.8888888888888888,\"#fdca26\"],[1.0,\"#f0f921\"]]}],\"surface\":[{\"type\":\"surface\",\"colorbar\":{\"outlinewidth\":0,\"ticks\":\"\"},\"colorscale\":[[0.0,\"#0d0887\"],[0.1111111111111111,\"#46039f\"],[0.2222222222222222,\"#7201a8\"],[0.3333333333333333,\"#9c179e\"],[0.4444444444444444,\"#bd3786\"],[0.5555555555555556,\"#d8576b\"],[0.6666666666666666,\"#ed7953\"],[0.7777777777777778,\"#fb9f3a\"],[0.8888888888888888,\"#fdca26\"],[1.0,\"#f0f921\"]]}],\"mesh3d\":[{\"type\":\"mesh3d\",\"colorbar\":{\"outlinewidth\":0,\"ticks\":\"\"}}],\"scatter\":[{\"fillpattern\":{\"fillmode\":\"overlay\",\"size\":10,\"solidity\":0.2},\"type\":\"scatter\"}],\"parcoords\":[{\"type\":\"parcoords\",\"line\":{\"colorbar\":{\"outlinewidth\":0,\"ticks\":\"\"}}}],\"scatterpolargl\":[{\"type\":\"scatterpolargl\",\"marker\":{\"colorbar\":{\"outlinewidth\":0,\"ticks\":\"\"}}}],\"bar\":[{\"error_x\":{\"color\":\"#2a3f5f\"},\"error_y\":{\"color\":\"#2a3f5f\"},\"marker\":{\"line\":{\"color\":\"#E5ECF6\",\"width\":0.5},\"pattern\":{\"fillmode\":\"overlay\",\"size\":10,\"solidity\":0.2}},\"type\":\"bar\"}],\"scattergeo\":[{\"type\":\"scattergeo\",\"marker\":{\"colorbar\":{\"outlinewidth\":0,\"ticks\":\"\"}}}],\"scatterpolar\":[{\"type\":\"scatterpolar\",\"marker\":{\"colorbar\":{\"outlinewidth\":0,\"ticks\":\"\"}}}],\"histogram\":[{\"marker\":{\"pattern\":{\"fillmode\":\"overlay\",\"size\":10,\"solidity\":0.2}},\"type\":\"histogram\"}],\"scattergl\":[{\"type\":\"scattergl\",\"marker\":{\"colorbar\":{\"outlinewidth\":0,\"ticks\":\"\"}}}],\"scatter3d\":[{\"type\":\"scatter3d\",\"line\":{\"colorbar\":{\"outlinewidth\":0,\"ticks\":\"\"}},\"marker\":{\"colorbar\":{\"outlinewidth\":0,\"ticks\":\"\"}}}],\"scattermapbox\":[{\"type\":\"scattermapbox\",\"marker\":{\"colorbar\":{\"outlinewidth\":0,\"ticks\":\"\"}}}],\"scatterternary\":[{\"type\":\"scatterternary\",\"marker\":{\"colorbar\":{\"outlinewidth\":0,\"ticks\":\"\"}}}],\"scattercarpet\":[{\"type\":\"scattercarpet\",\"marker\":{\"colorbar\":{\"outlinewidth\":0,\"ticks\":\"\"}}}],\"carpet\":[{\"aaxis\":{\"endlinecolor\":\"#2a3f5f\",\"gridcolor\":\"white\",\"linecolor\":\"white\",\"minorgridcolor\":\"white\",\"startlinecolor\":\"#2a3f5f\"},\"baxis\":{\"endlinecolor\":\"#2a3f5f\",\"gridcolor\":\"white\",\"linecolor\":\"white\",\"minorgridcolor\":\"white\",\"startlinecolor\":\"#2a3f5f\"},\"type\":\"carpet\"}],\"table\":[{\"cells\":{\"fill\":{\"color\":\"#EBF0F8\"},\"line\":{\"color\":\"white\"}},\"header\":{\"fill\":{\"color\":\"#C8D4E3\"},\"line\":{\"color\":\"white\"}},\"type\":\"table\"}],\"barpolar\":[{\"marker\":{\"line\":{\"color\":\"#E5ECF6\",\"width\":0.5},\"pattern\":{\"fillmode\":\"overlay\",\"size\":10,\"solidity\":0.2}},\"type\":\"barpolar\"}],\"pie\":[{\"automargin\":true,\"type\":\"pie\"}]},\"layout\":{\"autotypenumbers\":\"strict\",\"colorway\":[\"#636efa\",\"#EF553B\",\"#00cc96\",\"#ab63fa\",\"#FFA15A\",\"#19d3f3\",\"#FF6692\",\"#B6E880\",\"#FF97FF\",\"#FECB52\"],\"font\":{\"color\":\"#2a3f5f\"},\"hovermode\":\"closest\",\"hoverlabel\":{\"align\":\"left\"},\"paper_bgcolor\":\"white\",\"plot_bgcolor\":\"#E5ECF6\",\"polar\":{\"bgcolor\":\"#E5ECF6\",\"angularaxis\":{\"gridcolor\":\"white\",\"linecolor\":\"white\",\"ticks\":\"\"},\"radialaxis\":{\"gridcolor\":\"white\",\"linecolor\":\"white\",\"ticks\":\"\"}},\"ternary\":{\"bgcolor\":\"#E5ECF6\",\"aaxis\":{\"gridcolor\":\"white\",\"linecolor\":\"white\",\"ticks\":\"\"},\"baxis\":{\"gridcolor\":\"white\",\"linecolor\":\"white\",\"ticks\":\"\"},\"caxis\":{\"gridcolor\":\"white\",\"linecolor\":\"white\",\"ticks\":\"\"}},\"coloraxis\":{\"colorbar\":{\"outlinewidth\":0,\"ticks\":\"\"}},\"colorscale\":{\"sequential\":[[0.0,\"#0d0887\"],[0.1111111111111111,\"#46039f\"],[0.2222222222222222,\"#7201a8\"],[0.3333333333333333,\"#9c179e\"],[0.4444444444444444,\"#bd3786\"],[0.5555555555555556,\"#d8576b\"],[0.6666666666666666,\"#ed7953\"],[0.7777777777777778,\"#fb9f3a\"],[0.8888888888888888,\"#fdca26\"],[1.0,\"#f0f921\"]],\"sequentialminus\":[[0.0,\"#0d0887\"],[0.1111111111111111,\"#46039f\"],[0.2222222222222222,\"#7201a8\"],[0.3333333333333333,\"#9c179e\"],[0.4444444444444444,\"#bd3786\"],[0.5555555555555556,\"#d8576b\"],[0.6666666666666666,\"#ed7953\"],[0.7777777777777778,\"#fb9f3a\"],[0.8888888888888888,\"#fdca26\"],[1.0,\"#f0f921\"]],\"diverging\":[[0,\"#8e0152\"],[0.1,\"#c51b7d\"],[0.2,\"#de77ae\"],[0.3,\"#f1b6da\"],[0.4,\"#fde0ef\"],[0.5,\"#f7f7f7\"],[0.6,\"#e6f5d0\"],[0.7,\"#b8e186\"],[0.8,\"#7fbc41\"],[0.9,\"#4d9221\"],[1,\"#276419\"]]},\"xaxis\":{\"gridcolor\":\"white\",\"linecolor\":\"white\",\"ticks\":\"\",\"title\":{\"standoff\":15},\"zerolinecolor\":\"white\",\"automargin\":true,\"zerolinewidth\":2},\"yaxis\":{\"gridcolor\":\"white\",\"linecolor\":\"white\",\"ticks\":\"\",\"title\":{\"standoff\":15},\"zerolinecolor\":\"white\",\"automargin\":true,\"zerolinewidth\":2},\"scene\":{\"xaxis\":{\"backgroundcolor\":\"#E5ECF6\",\"gridcolor\":\"white\",\"linecolor\":\"white\",\"showbackground\":true,\"ticks\":\"\",\"zerolinecolor\":\"white\",\"gridwidth\":2},\"yaxis\":{\"backgroundcolor\":\"#E5ECF6\",\"gridcolor\":\"white\",\"linecolor\":\"white\",\"showbackground\":true,\"ticks\":\"\",\"zerolinecolor\":\"white\",\"gridwidth\":2},\"zaxis\":{\"backgroundcolor\":\"#E5ECF6\",\"gridcolor\":\"white\",\"linecolor\":\"white\",\"showbackground\":true,\"ticks\":\"\",\"zerolinecolor\":\"white\",\"gridwidth\":2}},\"shapedefaults\":{\"line\":{\"color\":\"#2a3f5f\"}},\"annotationdefaults\":{\"arrowcolor\":\"#2a3f5f\",\"arrowhead\":0,\"arrowwidth\":1},\"geo\":{\"bgcolor\":\"white\",\"landcolor\":\"#E5ECF6\",\"subunitcolor\":\"white\",\"showland\":true,\"showlakes\":true,\"lakecolor\":\"white\"},\"title\":{\"x\":0.05},\"mapbox\":{\"style\":\"light\"}}},\"xaxis\":{\"anchor\":\"y\",\"domain\":[0.0,1.0],\"scaleanchor\":\"y\",\"constrain\":\"domain\"},\"yaxis\":{\"anchor\":\"x\",\"domain\":[0.0,1.0],\"autorange\":\"reversed\",\"constrain\":\"domain\"},\"coloraxis\":{\"colorscale\":[[0.0,\"#0d0887\"],[0.1111111111111111,\"#46039f\"],[0.2222222222222222,\"#7201a8\"],[0.3333333333333333,\"#9c179e\"],[0.4444444444444444,\"#bd3786\"],[0.5555555555555556,\"#d8576b\"],[0.6666666666666666,\"#ed7953\"],[0.7777777777777778,\"#fb9f3a\"],[0.8888888888888888,\"#fdca26\"],[1.0,\"#f0f921\"]]},\"margin\":{\"t\":60}},                        {\"responsive\": true}                    ).then(function(){\n",
       "                            \n",
       "var gd = document.getElementById('fa7ec66f-8468-4510-915e-5333ecd58485');\n",
       "var x = new MutationObserver(function (mutations, observer) {{\n",
       "        var display = window.getComputedStyle(gd).display;\n",
       "        if (!display || display === 'none') {{\n",
       "            console.log([gd, 'removed!']);\n",
       "            Plotly.purge(gd);\n",
       "            observer.disconnect();\n",
       "        }}\n",
       "}});\n",
       "\n",
       "// Listen for the removal of the full notebook cells\n",
       "var notebookContainer = gd.closest('#notebook-container');\n",
       "if (notebookContainer) {{\n",
       "    x.observe(notebookContainer, {childList: true});\n",
       "}}\n",
       "\n",
       "// Listen for the clearing of the current output cell\n",
       "var outputEl = gd.closest('.output');\n",
       "if (outputEl) {{\n",
       "    x.observe(outputEl, {childList: true});\n",
       "}}\n",
       "\n",
       "                        })                };                });            </script>        </div>"
      ]
     },
     "metadata": {},
     "output_type": "display_data"
    }
   ],
   "source": [
    "px.imshow(images_u[0].numpy().reshape(28,28))"
   ]
  },
  {
   "cell_type": "code",
   "execution_count": 19,
   "metadata": {},
   "outputs": [
    {
     "data": {
      "application/vnd.plotly.v1+json": {
       "config": {
        "plotlyServerURL": "https://plot.ly"
       },
       "data": [
        {
         "coloraxis": "coloraxis",
         "hovertemplate": "x: %{x}<br>y: %{y}<br>color: %{z}<extra></extra>",
         "name": "0",
         "type": "heatmap",
         "xaxis": "x",
         "yaxis": "y",
         "z": [
          [
           -0.01731093041598797,
           -0.010786546394228935,
           0.014467233791947365,
           -0.015033518895506859,
           -0.038320135325193405,
           -0.006064034998416901,
           0.012202458456158638,
           -0.004989827051758766,
           -0.007346184458583593,
           0.023926392197608948,
           0.0017415618058294058,
           -0.005416214000433683,
           -0.01540177222341299,
           -0.010121196508407593,
           0.004778419155627489,
           0.02483966201543808,
           -0.01802182011306286,
           0.007398867979645729,
           -0.0022378223948180676,
           0.007690385449677706,
           0.006022102199494839,
           0.010697687044739723,
           -0.01450265385210514,
           0.01353815570473671,
           0.015440385788679123,
           0.011389855295419693,
           -0.002219489077106118,
           -0.005452598910778761
          ],
          [
           0.0005689081153832376,
           -0.01383364200592041,
           -0.008174311369657516,
           -0.012527608312666416,
           -0.013778102584183216,
           -0.009762531146407127,
           0.013614404015243053,
           -0.020703263580799103,
           -0.0012587439268827438,
           0.004715088289231062,
           0.010944251902401447,
           0.02861793339252472,
           -0.009630349464714527,
           0.0012894897954538465,
           0.00538104772567749,
           -0.010652899742126465,
           -0.004395743831992149,
           -0.0036726316902786493,
           0.016913361847400665,
           0.02383587323129177,
           0.02399304509162903,
           0.025593949481844902,
           0.005347902420908213,
           0.0030983975157141685,
           -0.016904059797525406,
           -0.021985113620758057,
           -0.029221054166555405,
           0.0017864652909338474
          ],
          [
           0.007757378276437521,
           -0.014284244738519192,
           -0.005021269898861647,
           0.002185828285291791,
           0.019219499081373215,
           0.003924046643078327,
           -0.001819286379031837,
           -0.005292839836329222,
           -0.012615305371582508,
           -0.000892967451363802,
           -0.0012605717638507485,
           0.011454988270998001,
           0.008588719181716442,
           0.03197399526834488,
           0.02141810767352581,
           0.0027734413743019104,
           0.01235097087919712,
           0.0031286897137761116,
           0.026515623554587364,
           0.04143838584423065,
           0.02240286022424698,
           0.03198982775211334,
           0.01491482648998499,
           -0.02595732919871807,
           -0.009818846359848976,
           0.020559806376695633,
           -0.001489172806032002,
           -0.01671021617949009
          ],
          [
           0.009035364724695683,
           0.009412238374352455,
           -0.0066302381455898285,
           -0.024587277323007584,
           0.010409999638795853,
           0.01949825882911682,
           0.008000737987458706,
           0.005355934612452984,
           0.004923830274492502,
           0.0027963619213551283,
           -0.016248447820544243,
           -0.05627697706222534,
           -0.08057236671447754,
           -0.06087573990225792,
           -0.029109099879860878,
           -0.04294499009847641,
           -0.02244853600859642,
           0.025774706155061722,
           0.05253293365240097,
           0.06288238614797592,
           0.06054458022117615,
           0.038280900567770004,
           0.044543780386447906,
           0.020050160586833954,
           -0.007008128799498081,
           0.009464138187468052,
           -0.011014141142368317,
           -0.018807966262102127
          ],
          [
           -0.016813630238175392,
           0.03232119232416153,
           -0.0003417265834286809,
           -0.019021078944206238,
           0.005348996724933386,
           0.003243823768571019,
           -0.006825189106166363,
           -0.01892031542956829,
           -0.05064631998538971,
           -0.0776243507862091,
           -0.08830149471759796,
           -0.12276449799537659,
           -0.14535464346408844,
           -0.14131446182727814,
           -0.12054400146007538,
           -0.09619677066802979,
           -0.03775554150342941,
           -0.005619189701974392,
           0.03043302893638611,
           0.05778758227825165,
           0.10922235250473022,
           0.10814317315816879,
           0.0820193961262703,
           0.09806415438652039,
           0.02933855727314949,
           -0.008983933366835117,
           0.010843566618859768,
           0.0003113542916253209
          ],
          [
           0.005198332946747541,
           -0.0002718332689255476,
           -0.02067328616976738,
           0.0034453189000487328,
           0.015264137648046017,
           -0.03967851772904396,
           -0.03518490493297577,
           -0.04559959098696709,
           -0.057911839336156845,
           -0.0578189492225647,
           -0.08629012107849121,
           -0.09626804292201996,
           -0.07592232525348663,
           -0.08570899069309235,
           -0.04871775582432747,
           -0.08542659133672714,
           -0.038162656128406525,
           0.015392890200018883,
           0.05813631787896156,
           0.07965689152479172,
           0.09033039212226868,
           0.09911023080348969,
           0.08906999230384827,
           0.08373060077428818,
           0.05053411424160004,
           -0.015903852880001068,
           -0.010498491115868092,
           -0.018119150772690773
          ],
          [
           -0.007975148037075996,
           0.025773514062166214,
           0.0032259870786219835,
           -0.005681149661540985,
           -0.03369380906224251,
           -0.03824576735496521,
           -0.06982368230819702,
           -0.06958736479282379,
           -0.07567859441041946,
           -0.1035500168800354,
           -0.12451224774122238,
           -0.12267310917377472,
           -0.08552036434412003,
           -0.1220010370016098,
           -0.14435622096061707,
           -0.11692477762699127,
           -0.11575095355510712,
           -0.067214734852314,
           -0.0527283251285553,
           0.007709778379648924,
           0.014251292683184147,
           0.03822477161884308,
           0.09318762272596359,
           0.1005699634552002,
           0.024444732815027237,
           -0.011870748363435268,
           0.015615925192832947,
           0.0021698973141610622
          ],
          [
           -0.014026684686541557,
           0.006532469764351845,
           -0.009089059196412563,
           -0.008254649117588997,
           -0.04463215172290802,
           -0.05212537571787834,
           0.22827351093292236,
           0.6568721532821655,
           0.521641731262207,
           0.4657323360443115,
           0.10432927310466766,
           0.009791366755962372,
           -0.16652289032936096,
           -0.1814330816268921,
           -0.18773393332958221,
           -0.17797288298606873,
           -0.16405382752418518,
           -0.15171897411346436,
           -0.11927525699138641,
           -0.08211980760097504,
           -0.05991198867559433,
           -0.016427582129836082,
           0.02487010322511196,
           0.07449104636907578,
           0.03855600953102112,
           0.015612741000950336,
           0.004537384025752544,
           -0.013629053719341755
          ],
          [
           0.022799177095294,
           0.00282566761597991,
           0.007129617501050234,
           -0.003879822790622711,
           -0.07470130920410156,
           -0.07813672721385956,
           0.7762572765350342,
           0.8664785027503967,
           0.9040658473968506,
           0.89793860912323,
           0.872813880443573,
           0.8409925103187561,
           0.6141091585159302,
           0.5884549021720886,
           0.5059172511100769,
           0.505012571811676,
           0.5492289066314697,
           0.5734548568725586,
           0.6105490326881409,
           0.6319470405578613,
           0.5685800313949585,
           0.1628580540418625,
           -0.034235402941703796,
           0.008482929319143295,
           0.01907249540090561,
           -0.024040572345256805,
           0.00875946693122387,
           0.02470019832253456
          ],
          [
           0.01695653423666954,
           -0.00258599198423326,
           -0.0012236852198839188,
           -0.02607310749590397,
           -0.052975669503211975,
           -0.0950952097773552,
           0.16288694739341736,
           0.3677805960178375,
           0.21376419067382812,
           0.40583527088165283,
           0.6276237368583679,
           0.8968548774719238,
           0.9567286372184753,
           0.7532817721366882,
           0.743073582649231,
           0.7148404717445374,
           0.7555315494537354,
           0.777584433555603,
           0.730610191822052,
           0.8649810552597046,
           0.9107833504676819,
           0.4791084825992584,
           -0.06521592289209366,
           0.013909085653722286,
           -0.017032381147146225,
           -0.033747319132089615,
           -0.028284545987844467,
           -0.011703737080097198
          ],
          [
           -0.003786821383982897,
           -0.013673045672476292,
           -0.025005841627717018,
           -0.033409424126148224,
           -0.07386113703250885,
           -0.0826762467622757,
           -0.0880485475063324,
           -0.002910957671701908,
           0.0480571947991848,
           0.08513526618480682,
           0.11356420814990997,
           0.18467484414577484,
           0.36015304923057556,
           -0.005239900201559067,
           0.047627516090869904,
           0.062086641788482666,
           0.08601966500282288,
           0.09690692275762558,
           -0.037520796060562134,
           0.820763885974884,
           0.8992278575897217,
           0.3792817294597626,
           -0.0001454280427424237,
           -0.009861893951892853,
           -0.040427546948194504,
           -0.0545797124505043,
           -0.015739213675260544,
           -0.013949083164334297
          ],
          [
           -0.023577068001031876,
           0.004537768661975861,
           -0.013439935632050037,
           -0.03941430151462555,
           -0.06988146901130676,
           -0.020182359963655472,
           0.01728755421936512,
           0.09820452332496643,
           0.1531592607498169,
           0.21266666054725647,
           0.23291069269180298,
           0.2340184450149536,
           0.16433194279670715,
           0.02473759651184082,
           -0.12170297652482986,
           -0.09907010942697525,
           -0.019547462463378906,
           -0.03002939186990261,
           0.25467807054519653,
           0.9083918929100037,
           0.7543703317642212,
           0.11353761702775955,
           0.01077855471521616,
           0.028503673151135445,
           -0.008231773972511292,
           -0.041724056005477905,
           -0.003846572246402502,
           0.006512676831334829
          ],
          [
           -0.010079663246870041,
           0.006381964311003685,
           -0.004572690464556217,
           -0.011511053889989853,
           -0.007233101408928633,
           0.026653580367565155,
           0.110285684466362,
           0.1872147023677826,
           0.2253972589969635,
           0.25921115279197693,
           0.2768274247646332,
           0.2922016978263855,
           0.24888108670711517,
           0.09936662018299103,
           -0.03672320395708084,
           0.006147447973489761,
           0.07961340248584747,
           0.11960841715335846,
           0.9019762873649597,
           0.9875338077545166,
           0.3631540536880493,
           0.09363596141338348,
           0.09231512993574142,
           0.09481140971183777,
           0.006601826287806034,
           -0.015824157744646072,
           -0.023624908179044724,
           0.016469014808535576
          ],
          [
           -0.005640894640237093,
           0.016829561442136765,
           -0.0002782470255624503,
           -0.030544864013791084,
           0.020653370767831802,
           0.09263882786035538,
           0.17314068973064423,
           0.2096382975578308,
           0.2189369648694992,
           0.25545045733451843,
           0.2780916094779968,
           0.29874372482299805,
           0.23119229078292847,
           0.061394982039928436,
           -0.0028480738401412964,
           0.08944901078939438,
           0.10879974812269211,
           0.5802358388900757,
           1.0351313352584839,
           0.9796947836875916,
           0.2610692083835602,
           0.09584657847881317,
           0.11350117623806,
           0.0926322415471077,
           0.03662671148777008,
           -0.046132892370224,
           -0.013840002939105034,
           -0.032693639397621155
          ],
          [
           0.03195513039827347,
           0.006539085879921913,
           -0.00041115639032796025,
           -0.001942223752848804,
           0.06798908859491348,
           0.13299472630023956,
           0.17235706746578217,
           0.22391930222511292,
           0.22137919068336487,
           0.2299673706293106,
           0.2632419764995575,
           0.26752543449401855,
           0.1637682020664215,
           0.027361884713172913,
           -0.006147284526377916,
           0.053543802350759506,
           0.367028146982193,
           1.0570296049118042,
           1.017102599143982,
           0.3050575852394104,
           0.07031907141208649,
           0.07030554115772247,
           0.10391643643379211,
           0.08247105777263641,
           -0.00025102426297962666,
           -0.011154484003782272,
           -0.013815824873745441,
           -0.0066968114115297794
          ],
          [
           0.0072113643400371075,
           0.004633288364857435,
           -0.009442736394703388,
           -0.001723674708046019,
           0.01244498323649168,
           0.066862553358078,
           0.1325477957725525,
           0.17341190576553345,
           0.22910042107105255,
           0.2120843380689621,
           0.1992437094449997,
           0.20504412055015564,
           0.10371683537960052,
           -0.012098967097699642,
           0.003014007583260536,
           0.0763561800122261,
           0.6600409746170044,
           1.0722771883010864,
           0.7815850973129272,
           0.05282527580857277,
           -0.0035861022770404816,
           0.017907902598381042,
           0.04896770045161247,
           0.035814594477415085,
           -0.03451266512274742,
           -0.03761214390397072,
           -0.019572120159864426,
           -0.005405159201472998
          ],
          [
           -0.010533384047448635,
           -0.01949394680559635,
           -0.013306176289916039,
           -0.01162944920361042,
           -0.03781113773584366,
           0.03761254996061325,
           0.10330644249916077,
           0.16897426545619965,
           0.18607966601848602,
           0.1606498658657074,
           0.14643895626068115,
           0.15409094095230103,
           0.050700776278972626,
           0.01887274533510208,
           0.051871832460165024,
           0.1596650928258896,
           0.9102640151977539,
           1.0348268747329712,
           0.27765998244285583,
           0.00734418211504817,
           0.02012518420815468,
           -0.004317296203225851,
           -0.038477931171655655,
           -0.029245615005493164,
           -0.036951225250959396,
           -0.03192690759897232,
           -0.022342924028635025,
           0.019883781671524048
          ],
          [
           0.0075545646250247955,
           0.012273194268345833,
           -0.006123661994934082,
           -0.05122821033000946,
           -0.059522151947021484,
           -0.019944189116358757,
           0.056194908916950226,
           0.11442093551158905,
           0.13476580381393433,
           0.15774500370025635,
           0.17217311263084412,
           0.16041795909404755,
           0.10239618271589279,
           0.06689996272325516,
           0.10110293328762054,
           0.5710874199867249,
           1.0658162832260132,
           0.7532353401184082,
           0.036421727389097214,
           -0.017786934971809387,
           0.020957009866833687,
           -0.03526119142770767,
           -0.05111124366521835,
           -0.05819595605134964,
           -0.051008593291044235,
           -0.048642002046108246,
           -0.03187160938978195,
           -0.002383464714512229
          ],
          [
           0.025606144219636917,
           -0.017133036628365517,
           0.0007753978716209531,
           -0.06356697529554367,
           -0.09580174088478088,
           -0.05081929638981819,
           0.002179749310016632,
           0.04699453338980675,
           0.03346472978591919,
           0.08661887049674988,
           0.10411982983350754,
           0.10241619497537613,
           0.10261170566082001,
           0.05855715274810791,
           0.3441865146160126,
           1.0093010663986206,
           0.938058078289032,
           0.1879291534423828,
           0.005029876250773668,
           -0.01093401201069355,
           -0.037839218974113464,
           -0.06341610103845596,
           -0.09864436089992523,
           -0.07953278720378876,
           -0.058859389275312424,
           -0.07401274144649506,
           -0.011041393503546715,
           0.00624387152493
          ],
          [
           0.018112845718860626,
           -0.004585240036249161,
           0.006980023346841335,
           -0.04125602915883064,
           -0.08387552201747894,
           -0.0913318395614624,
           -0.0745340883731842,
           -0.04449658840894699,
           -0.037730149924755096,
           -0.013427387923002243,
           0.0228066835552454,
           0.0749984085559845,
           0.046960532665252686,
           0.04678873345255852,
           0.8414238691329956,
           0.9718140363693237,
           0.6371105313301086,
           -0.03811320289969444,
           -0.03263238072395325,
           -0.015276292338967323,
           -0.036177583038806915,
           -0.08018118888139725,
           -0.08457469195127487,
           -0.08873537182807922,
           -0.07936621457338333,
           -0.015301253646612167,
           -0.012222912162542343,
           0.007838564924895763
          ],
          [
           0.00542704900726676,
           -0.012981374748051167,
           -0.026696953922510147,
           -0.04984152689576149,
           -0.09049423038959503,
           -0.11588472127914429,
           -0.12425725162029266,
           -0.11165714263916016,
           -0.11014379560947418,
           -0.09542620182037354,
           -0.026087254285812378,
           -0.0247349813580513,
           0.0034433959517627954,
           0.7722160220146179,
           0.9597298502922058,
           0.8302741050720215,
           0.13585981726646423,
           -0.008459164761006832,
           -0.0221504308283329,
           -0.06099313125014305,
           -0.06590093672275543,
           -0.08537517488002777,
           -0.06292693316936493,
           -0.06260755658149719,
           -0.021377207711338997,
           -0.023023534566164017,
           -0.019373131915926933,
           -0.0002487617020960897
          ],
          [
           -0.013842579908668995,
           0.013065606355667114,
           -0.003512271214276552,
           -0.045438434928655624,
           -0.06650916486978531,
           -0.07706756889820099,
           -0.1283450871706009,
           -0.12818606197834015,
           -0.09299254417419434,
           -0.06441858410835266,
           -0.06373197585344315,
           -0.007877719588577747,
           0.14291372895240784,
           0.9931197762489319,
           0.9771027565002441,
           0.2886051833629608,
           -0.019740382209420204,
           0.009593901224434376,
           -0.04210958257317543,
           -0.06935250759124756,
           -0.04334869980812073,
           -0.025174029171466827,
           -0.019860384985804558,
           -0.049462705850601196,
           -0.016866233199834824,
           -0.013930640183389187,
           0.0005958404508419335,
           0.005554573610424995
          ],
          [
           -0.0022259042598307133,
           0.016060784459114075,
           0.0118824802339077,
           -0.03647403419017792,
           -0.050907284021377563,
           -0.0761944055557251,
           -0.1128850132226944,
           -0.12703043222427368,
           -0.09914825856685638,
           -0.09151894599199295,
           -0.05193647742271423,
           0.051851946860551834,
           0.8532877564430237,
           0.9688199162483215,
           0.40490734577178955,
           -0.019691484048962593,
           -0.021738825365900993,
           -0.02813073992729187,
           -0.039506230503320694,
           -0.033036597073078156,
           -0.035731472074985504,
           -0.0023058841470628977,
           -0.011821393854916096,
           -0.050533123314380646,
           -0.013718880712985992,
           -0.0072440337389707565,
           0.003381972899660468,
           0.0008077624952420592
          ],
          [
           -0.0109179075807333,
           0.02376355417072773,
           0.02165413834154606,
           -0.009824029169976711,
           -0.04250709339976311,
           -0.06797905266284943,
           -0.09670037031173706,
           -0.09552128612995148,
           -0.07220335304737091,
           -0.08417749404907227,
           -0.08592073619365692,
           0.43521371483802795,
           0.9530709981918335,
           0.944704532623291,
           0.17922426760196686,
           -0.027922814711928368,
           -0.01743965595960617,
           0.00890396349132061,
           -0.00318627106025815,
           -0.0005022569093853235,
           0.039963845163583755,
           0.01078915037214756,
           -0.026098396629095078,
           -0.01574876718223095,
           0.011605898849666119,
           -0.0065265740267932415,
           -0.012336751446127892,
           -0.0014944358263164759
          ],
          [
           -0.007548126857727766,
           0.006011173129081726,
           -0.011734284460544586,
           -0.000418464420363307,
           -0.03278682753443718,
           -0.0406838096678257,
           -0.07649420201778412,
           -0.07613344490528107,
           -0.07478693872690201,
           -0.0700233057141304,
           0.17099733650684357,
           0.8718690276145935,
           0.9053635001182556,
           0.8887507915496826,
           0.10898466408252716,
           -0.07406219840049744,
           -0.04737956076860428,
           -0.024819407612085342,
           0.011812708340585232,
           0.020267441868782043,
           0.02644115872681141,
           0.011945294216275215,
           -0.00023389176931232214,
           -0.013486260548233986,
           0.009303009137511253,
           -0.016889695078134537,
           -0.016539841890335083,
           -0.001304423320107162
          ],
          [
           0.011370121501386166,
           0.0063424743711948395,
           -0.011033754795789719,
           -0.01128989178687334,
           0.01840757206082344,
           -0.02487163245677948,
           -0.01008731871843338,
           -0.067656010389328,
           -0.09471504390239716,
           -0.10893724113702774,
           0.3741961121559143,
           0.8584622144699097,
           0.8578677773475647,
           0.7452230453491211,
           0.05632028728723526,
           -0.09720010310411453,
           -0.08966362476348877,
           -0.07983121275901794,
           -0.03265801817178726,
           -0.05484113469719887,
           -0.007071169093251228,
           0.009029604494571686,
           0.0003165375383105129,
           0.03401840105652809,
           -0.035690661519765854,
           0.01356450840830803,
           -0.023699123412370682,
           -0.03237755596637726
          ],
          [
           -0.00908871740102768,
           0.0015843936707824469,
           -0.001121946726925671,
           0.002565446076914668,
           0.0067614782601594925,
           0.025740573182702065,
           -0.009840195998549461,
           -0.03456849232316017,
           -0.014269273728132248,
           -0.01521260105073452,
           0.4386035203933716,
           0.9788088202476501,
           0.7709536552429199,
           0.022482972592115402,
           -0.06355367600917816,
           -0.048110976815223694,
           -0.04786001145839691,
           -0.04609253630042076,
           -0.034843817353248596,
           -0.035933878272771835,
           0.003921066876500845,
           -0.022992057725787163,
           -0.0003578485921025276,
           0.0012071507517248392,
           -0.004338114056736231,
           -0.014401812106370926,
           -0.010549947619438171,
           -0.018062269315123558
          ],
          [
           0.0033232588320970535,
           0.02246909961104393,
           -0.0037182429805397987,
           0.0005209547816775739,
           -0.01314966194331646,
           -0.003420683089643717,
           -0.0010049545671790838,
           -0.013749861158430576,
           0.015954557806253433,
           -0.0048447297886013985,
           -0.003778139827772975,
           -0.014864751137793064,
           -0.004228758160024881,
           0.005929389037191868,
           0.003208432113751769,
           -0.010753276757895947,
           -0.011868051253259182,
           -0.00176533916965127,
           -0.017067303881049156,
           -0.003511972725391388,
           0.008398281410336494,
           -0.028470855206251144,
           -0.03232589736580849,
           0.000688181899022311,
           0.017261063680052757,
           0.01669735461473465,
           -0.0007368875085376203,
           -0.02768518030643463
          ]
         ]
        }
       ],
       "layout": {
        "coloraxis": {
         "colorscale": [
          [
           0,
           "#0d0887"
          ],
          [
           0.1111111111111111,
           "#46039f"
          ],
          [
           0.2222222222222222,
           "#7201a8"
          ],
          [
           0.3333333333333333,
           "#9c179e"
          ],
          [
           0.4444444444444444,
           "#bd3786"
          ],
          [
           0.5555555555555556,
           "#d8576b"
          ],
          [
           0.6666666666666666,
           "#ed7953"
          ],
          [
           0.7777777777777778,
           "#fb9f3a"
          ],
          [
           0.8888888888888888,
           "#fdca26"
          ],
          [
           1,
           "#f0f921"
          ]
         ]
        },
        "margin": {
         "t": 60
        },
        "template": {
         "data": {
          "bar": [
           {
            "error_x": {
             "color": "#2a3f5f"
            },
            "error_y": {
             "color": "#2a3f5f"
            },
            "marker": {
             "line": {
              "color": "#E5ECF6",
              "width": 0.5
             },
             "pattern": {
              "fillmode": "overlay",
              "size": 10,
              "solidity": 0.2
             }
            },
            "type": "bar"
           }
          ],
          "barpolar": [
           {
            "marker": {
             "line": {
              "color": "#E5ECF6",
              "width": 0.5
             },
             "pattern": {
              "fillmode": "overlay",
              "size": 10,
              "solidity": 0.2
             }
            },
            "type": "barpolar"
           }
          ],
          "carpet": [
           {
            "aaxis": {
             "endlinecolor": "#2a3f5f",
             "gridcolor": "white",
             "linecolor": "white",
             "minorgridcolor": "white",
             "startlinecolor": "#2a3f5f"
            },
            "baxis": {
             "endlinecolor": "#2a3f5f",
             "gridcolor": "white",
             "linecolor": "white",
             "minorgridcolor": "white",
             "startlinecolor": "#2a3f5f"
            },
            "type": "carpet"
           }
          ],
          "choropleth": [
           {
            "colorbar": {
             "outlinewidth": 0,
             "ticks": ""
            },
            "type": "choropleth"
           }
          ],
          "contour": [
           {
            "colorbar": {
             "outlinewidth": 0,
             "ticks": ""
            },
            "colorscale": [
             [
              0,
              "#0d0887"
             ],
             [
              0.1111111111111111,
              "#46039f"
             ],
             [
              0.2222222222222222,
              "#7201a8"
             ],
             [
              0.3333333333333333,
              "#9c179e"
             ],
             [
              0.4444444444444444,
              "#bd3786"
             ],
             [
              0.5555555555555556,
              "#d8576b"
             ],
             [
              0.6666666666666666,
              "#ed7953"
             ],
             [
              0.7777777777777778,
              "#fb9f3a"
             ],
             [
              0.8888888888888888,
              "#fdca26"
             ],
             [
              1,
              "#f0f921"
             ]
            ],
            "type": "contour"
           }
          ],
          "contourcarpet": [
           {
            "colorbar": {
             "outlinewidth": 0,
             "ticks": ""
            },
            "type": "contourcarpet"
           }
          ],
          "heatmap": [
           {
            "colorbar": {
             "outlinewidth": 0,
             "ticks": ""
            },
            "colorscale": [
             [
              0,
              "#0d0887"
             ],
             [
              0.1111111111111111,
              "#46039f"
             ],
             [
              0.2222222222222222,
              "#7201a8"
             ],
             [
              0.3333333333333333,
              "#9c179e"
             ],
             [
              0.4444444444444444,
              "#bd3786"
             ],
             [
              0.5555555555555556,
              "#d8576b"
             ],
             [
              0.6666666666666666,
              "#ed7953"
             ],
             [
              0.7777777777777778,
              "#fb9f3a"
             ],
             [
              0.8888888888888888,
              "#fdca26"
             ],
             [
              1,
              "#f0f921"
             ]
            ],
            "type": "heatmap"
           }
          ],
          "heatmapgl": [
           {
            "colorbar": {
             "outlinewidth": 0,
             "ticks": ""
            },
            "colorscale": [
             [
              0,
              "#0d0887"
             ],
             [
              0.1111111111111111,
              "#46039f"
             ],
             [
              0.2222222222222222,
              "#7201a8"
             ],
             [
              0.3333333333333333,
              "#9c179e"
             ],
             [
              0.4444444444444444,
              "#bd3786"
             ],
             [
              0.5555555555555556,
              "#d8576b"
             ],
             [
              0.6666666666666666,
              "#ed7953"
             ],
             [
              0.7777777777777778,
              "#fb9f3a"
             ],
             [
              0.8888888888888888,
              "#fdca26"
             ],
             [
              1,
              "#f0f921"
             ]
            ],
            "type": "heatmapgl"
           }
          ],
          "histogram": [
           {
            "marker": {
             "pattern": {
              "fillmode": "overlay",
              "size": 10,
              "solidity": 0.2
             }
            },
            "type": "histogram"
           }
          ],
          "histogram2d": [
           {
            "colorbar": {
             "outlinewidth": 0,
             "ticks": ""
            },
            "colorscale": [
             [
              0,
              "#0d0887"
             ],
             [
              0.1111111111111111,
              "#46039f"
             ],
             [
              0.2222222222222222,
              "#7201a8"
             ],
             [
              0.3333333333333333,
              "#9c179e"
             ],
             [
              0.4444444444444444,
              "#bd3786"
             ],
             [
              0.5555555555555556,
              "#d8576b"
             ],
             [
              0.6666666666666666,
              "#ed7953"
             ],
             [
              0.7777777777777778,
              "#fb9f3a"
             ],
             [
              0.8888888888888888,
              "#fdca26"
             ],
             [
              1,
              "#f0f921"
             ]
            ],
            "type": "histogram2d"
           }
          ],
          "histogram2dcontour": [
           {
            "colorbar": {
             "outlinewidth": 0,
             "ticks": ""
            },
            "colorscale": [
             [
              0,
              "#0d0887"
             ],
             [
              0.1111111111111111,
              "#46039f"
             ],
             [
              0.2222222222222222,
              "#7201a8"
             ],
             [
              0.3333333333333333,
              "#9c179e"
             ],
             [
              0.4444444444444444,
              "#bd3786"
             ],
             [
              0.5555555555555556,
              "#d8576b"
             ],
             [
              0.6666666666666666,
              "#ed7953"
             ],
             [
              0.7777777777777778,
              "#fb9f3a"
             ],
             [
              0.8888888888888888,
              "#fdca26"
             ],
             [
              1,
              "#f0f921"
             ]
            ],
            "type": "histogram2dcontour"
           }
          ],
          "mesh3d": [
           {
            "colorbar": {
             "outlinewidth": 0,
             "ticks": ""
            },
            "type": "mesh3d"
           }
          ],
          "parcoords": [
           {
            "line": {
             "colorbar": {
              "outlinewidth": 0,
              "ticks": ""
             }
            },
            "type": "parcoords"
           }
          ],
          "pie": [
           {
            "automargin": true,
            "type": "pie"
           }
          ],
          "scatter": [
           {
            "fillpattern": {
             "fillmode": "overlay",
             "size": 10,
             "solidity": 0.2
            },
            "type": "scatter"
           }
          ],
          "scatter3d": [
           {
            "line": {
             "colorbar": {
              "outlinewidth": 0,
              "ticks": ""
             }
            },
            "marker": {
             "colorbar": {
              "outlinewidth": 0,
              "ticks": ""
             }
            },
            "type": "scatter3d"
           }
          ],
          "scattercarpet": [
           {
            "marker": {
             "colorbar": {
              "outlinewidth": 0,
              "ticks": ""
             }
            },
            "type": "scattercarpet"
           }
          ],
          "scattergeo": [
           {
            "marker": {
             "colorbar": {
              "outlinewidth": 0,
              "ticks": ""
             }
            },
            "type": "scattergeo"
           }
          ],
          "scattergl": [
           {
            "marker": {
             "colorbar": {
              "outlinewidth": 0,
              "ticks": ""
             }
            },
            "type": "scattergl"
           }
          ],
          "scattermapbox": [
           {
            "marker": {
             "colorbar": {
              "outlinewidth": 0,
              "ticks": ""
             }
            },
            "type": "scattermapbox"
           }
          ],
          "scatterpolar": [
           {
            "marker": {
             "colorbar": {
              "outlinewidth": 0,
              "ticks": ""
             }
            },
            "type": "scatterpolar"
           }
          ],
          "scatterpolargl": [
           {
            "marker": {
             "colorbar": {
              "outlinewidth": 0,
              "ticks": ""
             }
            },
            "type": "scatterpolargl"
           }
          ],
          "scatterternary": [
           {
            "marker": {
             "colorbar": {
              "outlinewidth": 0,
              "ticks": ""
             }
            },
            "type": "scatterternary"
           }
          ],
          "surface": [
           {
            "colorbar": {
             "outlinewidth": 0,
             "ticks": ""
            },
            "colorscale": [
             [
              0,
              "#0d0887"
             ],
             [
              0.1111111111111111,
              "#46039f"
             ],
             [
              0.2222222222222222,
              "#7201a8"
             ],
             [
              0.3333333333333333,
              "#9c179e"
             ],
             [
              0.4444444444444444,
              "#bd3786"
             ],
             [
              0.5555555555555556,
              "#d8576b"
             ],
             [
              0.6666666666666666,
              "#ed7953"
             ],
             [
              0.7777777777777778,
              "#fb9f3a"
             ],
             [
              0.8888888888888888,
              "#fdca26"
             ],
             [
              1,
              "#f0f921"
             ]
            ],
            "type": "surface"
           }
          ],
          "table": [
           {
            "cells": {
             "fill": {
              "color": "#EBF0F8"
             },
             "line": {
              "color": "white"
             }
            },
            "header": {
             "fill": {
              "color": "#C8D4E3"
             },
             "line": {
              "color": "white"
             }
            },
            "type": "table"
           }
          ]
         },
         "layout": {
          "annotationdefaults": {
           "arrowcolor": "#2a3f5f",
           "arrowhead": 0,
           "arrowwidth": 1
          },
          "autotypenumbers": "strict",
          "coloraxis": {
           "colorbar": {
            "outlinewidth": 0,
            "ticks": ""
           }
          },
          "colorscale": {
           "diverging": [
            [
             0,
             "#8e0152"
            ],
            [
             0.1,
             "#c51b7d"
            ],
            [
             0.2,
             "#de77ae"
            ],
            [
             0.3,
             "#f1b6da"
            ],
            [
             0.4,
             "#fde0ef"
            ],
            [
             0.5,
             "#f7f7f7"
            ],
            [
             0.6,
             "#e6f5d0"
            ],
            [
             0.7,
             "#b8e186"
            ],
            [
             0.8,
             "#7fbc41"
            ],
            [
             0.9,
             "#4d9221"
            ],
            [
             1,
             "#276419"
            ]
           ],
           "sequential": [
            [
             0,
             "#0d0887"
            ],
            [
             0.1111111111111111,
             "#46039f"
            ],
            [
             0.2222222222222222,
             "#7201a8"
            ],
            [
             0.3333333333333333,
             "#9c179e"
            ],
            [
             0.4444444444444444,
             "#bd3786"
            ],
            [
             0.5555555555555556,
             "#d8576b"
            ],
            [
             0.6666666666666666,
             "#ed7953"
            ],
            [
             0.7777777777777778,
             "#fb9f3a"
            ],
            [
             0.8888888888888888,
             "#fdca26"
            ],
            [
             1,
             "#f0f921"
            ]
           ],
           "sequentialminus": [
            [
             0,
             "#0d0887"
            ],
            [
             0.1111111111111111,
             "#46039f"
            ],
            [
             0.2222222222222222,
             "#7201a8"
            ],
            [
             0.3333333333333333,
             "#9c179e"
            ],
            [
             0.4444444444444444,
             "#bd3786"
            ],
            [
             0.5555555555555556,
             "#d8576b"
            ],
            [
             0.6666666666666666,
             "#ed7953"
            ],
            [
             0.7777777777777778,
             "#fb9f3a"
            ],
            [
             0.8888888888888888,
             "#fdca26"
            ],
            [
             1,
             "#f0f921"
            ]
           ]
          },
          "colorway": [
           "#636efa",
           "#EF553B",
           "#00cc96",
           "#ab63fa",
           "#FFA15A",
           "#19d3f3",
           "#FF6692",
           "#B6E880",
           "#FF97FF",
           "#FECB52"
          ],
          "font": {
           "color": "#2a3f5f"
          },
          "geo": {
           "bgcolor": "white",
           "lakecolor": "white",
           "landcolor": "#E5ECF6",
           "showlakes": true,
           "showland": true,
           "subunitcolor": "white"
          },
          "hoverlabel": {
           "align": "left"
          },
          "hovermode": "closest",
          "mapbox": {
           "style": "light"
          },
          "paper_bgcolor": "white",
          "plot_bgcolor": "#E5ECF6",
          "polar": {
           "angularaxis": {
            "gridcolor": "white",
            "linecolor": "white",
            "ticks": ""
           },
           "bgcolor": "#E5ECF6",
           "radialaxis": {
            "gridcolor": "white",
            "linecolor": "white",
            "ticks": ""
           }
          },
          "scene": {
           "xaxis": {
            "backgroundcolor": "#E5ECF6",
            "gridcolor": "white",
            "gridwidth": 2,
            "linecolor": "white",
            "showbackground": true,
            "ticks": "",
            "zerolinecolor": "white"
           },
           "yaxis": {
            "backgroundcolor": "#E5ECF6",
            "gridcolor": "white",
            "gridwidth": 2,
            "linecolor": "white",
            "showbackground": true,
            "ticks": "",
            "zerolinecolor": "white"
           },
           "zaxis": {
            "backgroundcolor": "#E5ECF6",
            "gridcolor": "white",
            "gridwidth": 2,
            "linecolor": "white",
            "showbackground": true,
            "ticks": "",
            "zerolinecolor": "white"
           }
          },
          "shapedefaults": {
           "line": {
            "color": "#2a3f5f"
           }
          },
          "ternary": {
           "aaxis": {
            "gridcolor": "white",
            "linecolor": "white",
            "ticks": ""
           },
           "baxis": {
            "gridcolor": "white",
            "linecolor": "white",
            "ticks": ""
           },
           "bgcolor": "#E5ECF6",
           "caxis": {
            "gridcolor": "white",
            "linecolor": "white",
            "ticks": ""
           }
          },
          "title": {
           "x": 0.05
          },
          "xaxis": {
           "automargin": true,
           "gridcolor": "white",
           "linecolor": "white",
           "ticks": "",
           "title": {
            "standoff": 15
           },
           "zerolinecolor": "white",
           "zerolinewidth": 2
          },
          "yaxis": {
           "automargin": true,
           "gridcolor": "white",
           "linecolor": "white",
           "ticks": "",
           "title": {
            "standoff": 15
           },
           "zerolinecolor": "white",
           "zerolinewidth": 2
          }
         }
        },
        "xaxis": {
         "anchor": "y",
         "constrain": "domain",
         "domain": [
          0,
          1
         ],
         "scaleanchor": "y"
        },
        "yaxis": {
         "anchor": "x",
         "autorange": "reversed",
         "constrain": "domain",
         "domain": [
          0,
          1
         ]
        }
       }
      },
      "text/html": [
       "<div>                            <div id=\"31dfd5d9-56f8-4dff-93f1-8a1815b7c632\" class=\"plotly-graph-div\" style=\"height:525px; width:100%;\"></div>            <script type=\"text/javascript\">                require([\"plotly\"], function(Plotly) {                    window.PLOTLYENV=window.PLOTLYENV || {};                                    if (document.getElementById(\"31dfd5d9-56f8-4dff-93f1-8a1815b7c632\")) {                    Plotly.newPlot(                        \"31dfd5d9-56f8-4dff-93f1-8a1815b7c632\",                        [{\"coloraxis\":\"coloraxis\",\"name\":\"0\",\"z\":[[-0.01731093041598797,-0.010786546394228935,0.014467233791947365,-0.015033518895506859,-0.038320135325193405,-0.006064034998416901,0.012202458456158638,-0.004989827051758766,-0.007346184458583593,0.023926392197608948,0.0017415618058294058,-0.005416214000433683,-0.01540177222341299,-0.010121196508407593,0.004778419155627489,0.02483966201543808,-0.01802182011306286,0.007398867979645729,-0.0022378223948180676,0.007690385449677706,0.006022102199494839,0.010697687044739723,-0.01450265385210514,0.01353815570473671,0.015440385788679123,0.011389855295419693,-0.002219489077106118,-0.005452598910778761],[0.0005689081153832376,-0.01383364200592041,-0.008174311369657516,-0.012527608312666416,-0.013778102584183216,-0.009762531146407127,0.013614404015243053,-0.020703263580799103,-0.0012587439268827438,0.004715088289231062,0.010944251902401447,0.02861793339252472,-0.009630349464714527,0.0012894897954538465,0.00538104772567749,-0.010652899742126465,-0.004395743831992149,-0.0036726316902786493,0.016913361847400665,0.02383587323129177,0.02399304509162903,0.025593949481844902,0.005347902420908213,0.0030983975157141685,-0.016904059797525406,-0.021985113620758057,-0.029221054166555405,0.0017864652909338474],[0.007757378276437521,-0.014284244738519192,-0.005021269898861647,0.002185828285291791,0.019219499081373215,0.003924046643078327,-0.001819286379031837,-0.005292839836329222,-0.012615305371582508,-0.000892967451363802,-0.0012605717638507485,0.011454988270998001,0.008588719181716442,0.03197399526834488,0.02141810767352581,0.0027734413743019104,0.01235097087919712,0.0031286897137761116,0.026515623554587364,0.04143838584423065,0.02240286022424698,0.03198982775211334,0.01491482648998499,-0.02595732919871807,-0.009818846359848976,0.020559806376695633,-0.001489172806032002,-0.01671021617949009],[0.009035364724695683,0.009412238374352455,-0.0066302381455898285,-0.024587277323007584,0.010409999638795853,0.01949825882911682,0.008000737987458706,0.005355934612452984,0.004923830274492502,0.0027963619213551283,-0.016248447820544243,-0.05627697706222534,-0.08057236671447754,-0.06087573990225792,-0.029109099879860878,-0.04294499009847641,-0.02244853600859642,0.025774706155061722,0.05253293365240097,0.06288238614797592,0.06054458022117615,0.038280900567770004,0.044543780386447906,0.020050160586833954,-0.007008128799498081,0.009464138187468052,-0.011014141142368317,-0.018807966262102127],[-0.016813630238175392,0.03232119232416153,-0.0003417265834286809,-0.019021078944206238,0.005348996724933386,0.003243823768571019,-0.006825189106166363,-0.01892031542956829,-0.05064631998538971,-0.0776243507862091,-0.08830149471759796,-0.12276449799537659,-0.14535464346408844,-0.14131446182727814,-0.12054400146007538,-0.09619677066802979,-0.03775554150342941,-0.005619189701974392,0.03043302893638611,0.05778758227825165,0.10922235250473022,0.10814317315816879,0.0820193961262703,0.09806415438652039,0.02933855727314949,-0.008983933366835117,0.010843566618859768,0.0003113542916253209],[0.005198332946747541,-0.0002718332689255476,-0.02067328616976738,0.0034453189000487328,0.015264137648046017,-0.03967851772904396,-0.03518490493297577,-0.04559959098696709,-0.057911839336156845,-0.0578189492225647,-0.08629012107849121,-0.09626804292201996,-0.07592232525348663,-0.08570899069309235,-0.04871775582432747,-0.08542659133672714,-0.038162656128406525,0.015392890200018883,0.05813631787896156,0.07965689152479172,0.09033039212226868,0.09911023080348969,0.08906999230384827,0.08373060077428818,0.05053411424160004,-0.015903852880001068,-0.010498491115868092,-0.018119150772690773],[-0.007975148037075996,0.025773514062166214,0.0032259870786219835,-0.005681149661540985,-0.03369380906224251,-0.03824576735496521,-0.06982368230819702,-0.06958736479282379,-0.07567859441041946,-0.1035500168800354,-0.12451224774122238,-0.12267310917377472,-0.08552036434412003,-0.1220010370016098,-0.14435622096061707,-0.11692477762699127,-0.11575095355510712,-0.067214734852314,-0.0527283251285553,0.007709778379648924,0.014251292683184147,0.03822477161884308,0.09318762272596359,0.1005699634552002,0.024444732815027237,-0.011870748363435268,0.015615925192832947,0.0021698973141610622],[-0.014026684686541557,0.006532469764351845,-0.009089059196412563,-0.008254649117588997,-0.04463215172290802,-0.05212537571787834,0.22827351093292236,0.6568721532821655,0.521641731262207,0.4657323360443115,0.10432927310466766,0.009791366755962372,-0.16652289032936096,-0.1814330816268921,-0.18773393332958221,-0.17797288298606873,-0.16405382752418518,-0.15171897411346436,-0.11927525699138641,-0.08211980760097504,-0.05991198867559433,-0.016427582129836082,0.02487010322511196,0.07449104636907578,0.03855600953102112,0.015612741000950336,0.004537384025752544,-0.013629053719341755],[0.022799177095294,0.00282566761597991,0.007129617501050234,-0.003879822790622711,-0.07470130920410156,-0.07813672721385956,0.7762572765350342,0.8664785027503967,0.9040658473968506,0.89793860912323,0.872813880443573,0.8409925103187561,0.6141091585159302,0.5884549021720886,0.5059172511100769,0.505012571811676,0.5492289066314697,0.5734548568725586,0.6105490326881409,0.6319470405578613,0.5685800313949585,0.1628580540418625,-0.034235402941703796,0.008482929319143295,0.01907249540090561,-0.024040572345256805,0.00875946693122387,0.02470019832253456],[0.01695653423666954,-0.00258599198423326,-0.0012236852198839188,-0.02607310749590397,-0.052975669503211975,-0.0950952097773552,0.16288694739341736,0.3677805960178375,0.21376419067382812,0.40583527088165283,0.6276237368583679,0.8968548774719238,0.9567286372184753,0.7532817721366882,0.743073582649231,0.7148404717445374,0.7555315494537354,0.777584433555603,0.730610191822052,0.8649810552597046,0.9107833504676819,0.4791084825992584,-0.06521592289209366,0.013909085653722286,-0.017032381147146225,-0.033747319132089615,-0.028284545987844467,-0.011703737080097198],[-0.003786821383982897,-0.013673045672476292,-0.025005841627717018,-0.033409424126148224,-0.07386113703250885,-0.0826762467622757,-0.0880485475063324,-0.002910957671701908,0.0480571947991848,0.08513526618480682,0.11356420814990997,0.18467484414577484,0.36015304923057556,-0.005239900201559067,0.047627516090869904,0.062086641788482666,0.08601966500282288,0.09690692275762558,-0.037520796060562134,0.820763885974884,0.8992278575897217,0.3792817294597626,-0.0001454280427424237,-0.009861893951892853,-0.040427546948194504,-0.0545797124505043,-0.015739213675260544,-0.013949083164334297],[-0.023577068001031876,0.004537768661975861,-0.013439935632050037,-0.03941430151462555,-0.06988146901130676,-0.020182359963655472,0.01728755421936512,0.09820452332496643,0.1531592607498169,0.21266666054725647,0.23291069269180298,0.2340184450149536,0.16433194279670715,0.02473759651184082,-0.12170297652482986,-0.09907010942697525,-0.019547462463378906,-0.03002939186990261,0.25467807054519653,0.9083918929100037,0.7543703317642212,0.11353761702775955,0.01077855471521616,0.028503673151135445,-0.008231773972511292,-0.041724056005477905,-0.003846572246402502,0.006512676831334829],[-0.010079663246870041,0.006381964311003685,-0.004572690464556217,-0.011511053889989853,-0.007233101408928633,0.026653580367565155,0.110285684466362,0.1872147023677826,0.2253972589969635,0.25921115279197693,0.2768274247646332,0.2922016978263855,0.24888108670711517,0.09936662018299103,-0.03672320395708084,0.006147447973489761,0.07961340248584747,0.11960841715335846,0.9019762873649597,0.9875338077545166,0.3631540536880493,0.09363596141338348,0.09231512993574142,0.09481140971183777,0.006601826287806034,-0.015824157744646072,-0.023624908179044724,0.016469014808535576],[-0.005640894640237093,0.016829561442136765,-0.0002782470255624503,-0.030544864013791084,0.020653370767831802,0.09263882786035538,0.17314068973064423,0.2096382975578308,0.2189369648694992,0.25545045733451843,0.2780916094779968,0.29874372482299805,0.23119229078292847,0.061394982039928436,-0.0028480738401412964,0.08944901078939438,0.10879974812269211,0.5802358388900757,1.0351313352584839,0.9796947836875916,0.2610692083835602,0.09584657847881317,0.11350117623806,0.0926322415471077,0.03662671148777008,-0.046132892370224,-0.013840002939105034,-0.032693639397621155],[0.03195513039827347,0.006539085879921913,-0.00041115639032796025,-0.001942223752848804,0.06798908859491348,0.13299472630023956,0.17235706746578217,0.22391930222511292,0.22137919068336487,0.2299673706293106,0.2632419764995575,0.26752543449401855,0.1637682020664215,0.027361884713172913,-0.006147284526377916,0.053543802350759506,0.367028146982193,1.0570296049118042,1.017102599143982,0.3050575852394104,0.07031907141208649,0.07030554115772247,0.10391643643379211,0.08247105777263641,-0.00025102426297962666,-0.011154484003782272,-0.013815824873745441,-0.0066968114115297794],[0.0072113643400371075,0.004633288364857435,-0.009442736394703388,-0.001723674708046019,0.01244498323649168,0.066862553358078,0.1325477957725525,0.17341190576553345,0.22910042107105255,0.2120843380689621,0.1992437094449997,0.20504412055015564,0.10371683537960052,-0.012098967097699642,0.003014007583260536,0.0763561800122261,0.6600409746170044,1.0722771883010864,0.7815850973129272,0.05282527580857277,-0.0035861022770404816,0.017907902598381042,0.04896770045161247,0.035814594477415085,-0.03451266512274742,-0.03761214390397072,-0.019572120159864426,-0.005405159201472998],[-0.010533384047448635,-0.01949394680559635,-0.013306176289916039,-0.01162944920361042,-0.03781113773584366,0.03761254996061325,0.10330644249916077,0.16897426545619965,0.18607966601848602,0.1606498658657074,0.14643895626068115,0.15409094095230103,0.050700776278972626,0.01887274533510208,0.051871832460165024,0.1596650928258896,0.9102640151977539,1.0348268747329712,0.27765998244285583,0.00734418211504817,0.02012518420815468,-0.004317296203225851,-0.038477931171655655,-0.029245615005493164,-0.036951225250959396,-0.03192690759897232,-0.022342924028635025,0.019883781671524048],[0.0075545646250247955,0.012273194268345833,-0.006123661994934082,-0.05122821033000946,-0.059522151947021484,-0.019944189116358757,0.056194908916950226,0.11442093551158905,0.13476580381393433,0.15774500370025635,0.17217311263084412,0.16041795909404755,0.10239618271589279,0.06689996272325516,0.10110293328762054,0.5710874199867249,1.0658162832260132,0.7532353401184082,0.036421727389097214,-0.017786934971809387,0.020957009866833687,-0.03526119142770767,-0.05111124366521835,-0.05819595605134964,-0.051008593291044235,-0.048642002046108246,-0.03187160938978195,-0.002383464714512229],[0.025606144219636917,-0.017133036628365517,0.0007753978716209531,-0.06356697529554367,-0.09580174088478088,-0.05081929638981819,0.002179749310016632,0.04699453338980675,0.03346472978591919,0.08661887049674988,0.10411982983350754,0.10241619497537613,0.10261170566082001,0.05855715274810791,0.3441865146160126,1.0093010663986206,0.938058078289032,0.1879291534423828,0.005029876250773668,-0.01093401201069355,-0.037839218974113464,-0.06341610103845596,-0.09864436089992523,-0.07953278720378876,-0.058859389275312424,-0.07401274144649506,-0.011041393503546715,0.00624387152493],[0.018112845718860626,-0.004585240036249161,0.006980023346841335,-0.04125602915883064,-0.08387552201747894,-0.0913318395614624,-0.0745340883731842,-0.04449658840894699,-0.037730149924755096,-0.013427387923002243,0.0228066835552454,0.0749984085559845,0.046960532665252686,0.04678873345255852,0.8414238691329956,0.9718140363693237,0.6371105313301086,-0.03811320289969444,-0.03263238072395325,-0.015276292338967323,-0.036177583038806915,-0.08018118888139725,-0.08457469195127487,-0.08873537182807922,-0.07936621457338333,-0.015301253646612167,-0.012222912162542343,0.007838564924895763],[0.00542704900726676,-0.012981374748051167,-0.026696953922510147,-0.04984152689576149,-0.09049423038959503,-0.11588472127914429,-0.12425725162029266,-0.11165714263916016,-0.11014379560947418,-0.09542620182037354,-0.026087254285812378,-0.0247349813580513,0.0034433959517627954,0.7722160220146179,0.9597298502922058,0.8302741050720215,0.13585981726646423,-0.008459164761006832,-0.0221504308283329,-0.06099313125014305,-0.06590093672275543,-0.08537517488002777,-0.06292693316936493,-0.06260755658149719,-0.021377207711338997,-0.023023534566164017,-0.019373131915926933,-0.0002487617020960897],[-0.013842579908668995,0.013065606355667114,-0.003512271214276552,-0.045438434928655624,-0.06650916486978531,-0.07706756889820099,-0.1283450871706009,-0.12818606197834015,-0.09299254417419434,-0.06441858410835266,-0.06373197585344315,-0.007877719588577747,0.14291372895240784,0.9931197762489319,0.9771027565002441,0.2886051833629608,-0.019740382209420204,0.009593901224434376,-0.04210958257317543,-0.06935250759124756,-0.04334869980812073,-0.025174029171466827,-0.019860384985804558,-0.049462705850601196,-0.016866233199834824,-0.013930640183389187,0.0005958404508419335,0.005554573610424995],[-0.0022259042598307133,0.016060784459114075,0.0118824802339077,-0.03647403419017792,-0.050907284021377563,-0.0761944055557251,-0.1128850132226944,-0.12703043222427368,-0.09914825856685638,-0.09151894599199295,-0.05193647742271423,0.051851946860551834,0.8532877564430237,0.9688199162483215,0.40490734577178955,-0.019691484048962593,-0.021738825365900993,-0.02813073992729187,-0.039506230503320694,-0.033036597073078156,-0.035731472074985504,-0.0023058841470628977,-0.011821393854916096,-0.050533123314380646,-0.013718880712985992,-0.0072440337389707565,0.003381972899660468,0.0008077624952420592],[-0.0109179075807333,0.02376355417072773,0.02165413834154606,-0.009824029169976711,-0.04250709339976311,-0.06797905266284943,-0.09670037031173706,-0.09552128612995148,-0.07220335304737091,-0.08417749404907227,-0.08592073619365692,0.43521371483802795,0.9530709981918335,0.944704532623291,0.17922426760196686,-0.027922814711928368,-0.01743965595960617,0.00890396349132061,-0.00318627106025815,-0.0005022569093853235,0.039963845163583755,0.01078915037214756,-0.026098396629095078,-0.01574876718223095,0.011605898849666119,-0.0065265740267932415,-0.012336751446127892,-0.0014944358263164759],[-0.007548126857727766,0.006011173129081726,-0.011734284460544586,-0.000418464420363307,-0.03278682753443718,-0.0406838096678257,-0.07649420201778412,-0.07613344490528107,-0.07478693872690201,-0.0700233057141304,0.17099733650684357,0.8718690276145935,0.9053635001182556,0.8887507915496826,0.10898466408252716,-0.07406219840049744,-0.04737956076860428,-0.024819407612085342,0.011812708340585232,0.020267441868782043,0.02644115872681141,0.011945294216275215,-0.00023389176931232214,-0.013486260548233986,0.009303009137511253,-0.016889695078134537,-0.016539841890335083,-0.001304423320107162],[0.011370121501386166,0.0063424743711948395,-0.011033754795789719,-0.01128989178687334,0.01840757206082344,-0.02487163245677948,-0.01008731871843338,-0.067656010389328,-0.09471504390239716,-0.10893724113702774,0.3741961121559143,0.8584622144699097,0.8578677773475647,0.7452230453491211,0.05632028728723526,-0.09720010310411453,-0.08966362476348877,-0.07983121275901794,-0.03265801817178726,-0.05484113469719887,-0.007071169093251228,0.009029604494571686,0.0003165375383105129,0.03401840105652809,-0.035690661519765854,0.01356450840830803,-0.023699123412370682,-0.03237755596637726],[-0.00908871740102768,0.0015843936707824469,-0.001121946726925671,0.002565446076914668,0.0067614782601594925,0.025740573182702065,-0.009840195998549461,-0.03456849232316017,-0.014269273728132248,-0.01521260105073452,0.4386035203933716,0.9788088202476501,0.7709536552429199,0.022482972592115402,-0.06355367600917816,-0.048110976815223694,-0.04786001145839691,-0.04609253630042076,-0.034843817353248596,-0.035933878272771835,0.003921066876500845,-0.022992057725787163,-0.0003578485921025276,0.0012071507517248392,-0.004338114056736231,-0.014401812106370926,-0.010549947619438171,-0.018062269315123558],[0.0033232588320970535,0.02246909961104393,-0.0037182429805397987,0.0005209547816775739,-0.01314966194331646,-0.003420683089643717,-0.0010049545671790838,-0.013749861158430576,0.015954557806253433,-0.0048447297886013985,-0.003778139827772975,-0.014864751137793064,-0.004228758160024881,0.005929389037191868,0.003208432113751769,-0.010753276757895947,-0.011868051253259182,-0.00176533916965127,-0.017067303881049156,-0.003511972725391388,0.008398281410336494,-0.028470855206251144,-0.03232589736580849,0.000688181899022311,0.017261063680052757,0.01669735461473465,-0.0007368875085376203,-0.02768518030643463]],\"type\":\"heatmap\",\"xaxis\":\"x\",\"yaxis\":\"y\",\"hovertemplate\":\"x: %{x}\\u003cbr\\u003ey: %{y}\\u003cbr\\u003ecolor: %{z}\\u003cextra\\u003e\\u003c\\u002fextra\\u003e\"}],                        {\"template\":{\"data\":{\"histogram2dcontour\":[{\"type\":\"histogram2dcontour\",\"colorbar\":{\"outlinewidth\":0,\"ticks\":\"\"},\"colorscale\":[[0.0,\"#0d0887\"],[0.1111111111111111,\"#46039f\"],[0.2222222222222222,\"#7201a8\"],[0.3333333333333333,\"#9c179e\"],[0.4444444444444444,\"#bd3786\"],[0.5555555555555556,\"#d8576b\"],[0.6666666666666666,\"#ed7953\"],[0.7777777777777778,\"#fb9f3a\"],[0.8888888888888888,\"#fdca26\"],[1.0,\"#f0f921\"]]}],\"choropleth\":[{\"type\":\"choropleth\",\"colorbar\":{\"outlinewidth\":0,\"ticks\":\"\"}}],\"histogram2d\":[{\"type\":\"histogram2d\",\"colorbar\":{\"outlinewidth\":0,\"ticks\":\"\"},\"colorscale\":[[0.0,\"#0d0887\"],[0.1111111111111111,\"#46039f\"],[0.2222222222222222,\"#7201a8\"],[0.3333333333333333,\"#9c179e\"],[0.4444444444444444,\"#bd3786\"],[0.5555555555555556,\"#d8576b\"],[0.6666666666666666,\"#ed7953\"],[0.7777777777777778,\"#fb9f3a\"],[0.8888888888888888,\"#fdca26\"],[1.0,\"#f0f921\"]]}],\"heatmap\":[{\"type\":\"heatmap\",\"colorbar\":{\"outlinewidth\":0,\"ticks\":\"\"},\"colorscale\":[[0.0,\"#0d0887\"],[0.1111111111111111,\"#46039f\"],[0.2222222222222222,\"#7201a8\"],[0.3333333333333333,\"#9c179e\"],[0.4444444444444444,\"#bd3786\"],[0.5555555555555556,\"#d8576b\"],[0.6666666666666666,\"#ed7953\"],[0.7777777777777778,\"#fb9f3a\"],[0.8888888888888888,\"#fdca26\"],[1.0,\"#f0f921\"]]}],\"heatmapgl\":[{\"type\":\"heatmapgl\",\"colorbar\":{\"outlinewidth\":0,\"ticks\":\"\"},\"colorscale\":[[0.0,\"#0d0887\"],[0.1111111111111111,\"#46039f\"],[0.2222222222222222,\"#7201a8\"],[0.3333333333333333,\"#9c179e\"],[0.4444444444444444,\"#bd3786\"],[0.5555555555555556,\"#d8576b\"],[0.6666666666666666,\"#ed7953\"],[0.7777777777777778,\"#fb9f3a\"],[0.8888888888888888,\"#fdca26\"],[1.0,\"#f0f921\"]]}],\"contourcarpet\":[{\"type\":\"contourcarpet\",\"colorbar\":{\"outlinewidth\":0,\"ticks\":\"\"}}],\"contour\":[{\"type\":\"contour\",\"colorbar\":{\"outlinewidth\":0,\"ticks\":\"\"},\"colorscale\":[[0.0,\"#0d0887\"],[0.1111111111111111,\"#46039f\"],[0.2222222222222222,\"#7201a8\"],[0.3333333333333333,\"#9c179e\"],[0.4444444444444444,\"#bd3786\"],[0.5555555555555556,\"#d8576b\"],[0.6666666666666666,\"#ed7953\"],[0.7777777777777778,\"#fb9f3a\"],[0.8888888888888888,\"#fdca26\"],[1.0,\"#f0f921\"]]}],\"surface\":[{\"type\":\"surface\",\"colorbar\":{\"outlinewidth\":0,\"ticks\":\"\"},\"colorscale\":[[0.0,\"#0d0887\"],[0.1111111111111111,\"#46039f\"],[0.2222222222222222,\"#7201a8\"],[0.3333333333333333,\"#9c179e\"],[0.4444444444444444,\"#bd3786\"],[0.5555555555555556,\"#d8576b\"],[0.6666666666666666,\"#ed7953\"],[0.7777777777777778,\"#fb9f3a\"],[0.8888888888888888,\"#fdca26\"],[1.0,\"#f0f921\"]]}],\"mesh3d\":[{\"type\":\"mesh3d\",\"colorbar\":{\"outlinewidth\":0,\"ticks\":\"\"}}],\"scatter\":[{\"fillpattern\":{\"fillmode\":\"overlay\",\"size\":10,\"solidity\":0.2},\"type\":\"scatter\"}],\"parcoords\":[{\"type\":\"parcoords\",\"line\":{\"colorbar\":{\"outlinewidth\":0,\"ticks\":\"\"}}}],\"scatterpolargl\":[{\"type\":\"scatterpolargl\",\"marker\":{\"colorbar\":{\"outlinewidth\":0,\"ticks\":\"\"}}}],\"bar\":[{\"error_x\":{\"color\":\"#2a3f5f\"},\"error_y\":{\"color\":\"#2a3f5f\"},\"marker\":{\"line\":{\"color\":\"#E5ECF6\",\"width\":0.5},\"pattern\":{\"fillmode\":\"overlay\",\"size\":10,\"solidity\":0.2}},\"type\":\"bar\"}],\"scattergeo\":[{\"type\":\"scattergeo\",\"marker\":{\"colorbar\":{\"outlinewidth\":0,\"ticks\":\"\"}}}],\"scatterpolar\":[{\"type\":\"scatterpolar\",\"marker\":{\"colorbar\":{\"outlinewidth\":0,\"ticks\":\"\"}}}],\"histogram\":[{\"marker\":{\"pattern\":{\"fillmode\":\"overlay\",\"size\":10,\"solidity\":0.2}},\"type\":\"histogram\"}],\"scattergl\":[{\"type\":\"scattergl\",\"marker\":{\"colorbar\":{\"outlinewidth\":0,\"ticks\":\"\"}}}],\"scatter3d\":[{\"type\":\"scatter3d\",\"line\":{\"colorbar\":{\"outlinewidth\":0,\"ticks\":\"\"}},\"marker\":{\"colorbar\":{\"outlinewidth\":0,\"ticks\":\"\"}}}],\"scattermapbox\":[{\"type\":\"scattermapbox\",\"marker\":{\"colorbar\":{\"outlinewidth\":0,\"ticks\":\"\"}}}],\"scatterternary\":[{\"type\":\"scatterternary\",\"marker\":{\"colorbar\":{\"outlinewidth\":0,\"ticks\":\"\"}}}],\"scattercarpet\":[{\"type\":\"scattercarpet\",\"marker\":{\"colorbar\":{\"outlinewidth\":0,\"ticks\":\"\"}}}],\"carpet\":[{\"aaxis\":{\"endlinecolor\":\"#2a3f5f\",\"gridcolor\":\"white\",\"linecolor\":\"white\",\"minorgridcolor\":\"white\",\"startlinecolor\":\"#2a3f5f\"},\"baxis\":{\"endlinecolor\":\"#2a3f5f\",\"gridcolor\":\"white\",\"linecolor\":\"white\",\"minorgridcolor\":\"white\",\"startlinecolor\":\"#2a3f5f\"},\"type\":\"carpet\"}],\"table\":[{\"cells\":{\"fill\":{\"color\":\"#EBF0F8\"},\"line\":{\"color\":\"white\"}},\"header\":{\"fill\":{\"color\":\"#C8D4E3\"},\"line\":{\"color\":\"white\"}},\"type\":\"table\"}],\"barpolar\":[{\"marker\":{\"line\":{\"color\":\"#E5ECF6\",\"width\":0.5},\"pattern\":{\"fillmode\":\"overlay\",\"size\":10,\"solidity\":0.2}},\"type\":\"barpolar\"}],\"pie\":[{\"automargin\":true,\"type\":\"pie\"}]},\"layout\":{\"autotypenumbers\":\"strict\",\"colorway\":[\"#636efa\",\"#EF553B\",\"#00cc96\",\"#ab63fa\",\"#FFA15A\",\"#19d3f3\",\"#FF6692\",\"#B6E880\",\"#FF97FF\",\"#FECB52\"],\"font\":{\"color\":\"#2a3f5f\"},\"hovermode\":\"closest\",\"hoverlabel\":{\"align\":\"left\"},\"paper_bgcolor\":\"white\",\"plot_bgcolor\":\"#E5ECF6\",\"polar\":{\"bgcolor\":\"#E5ECF6\",\"angularaxis\":{\"gridcolor\":\"white\",\"linecolor\":\"white\",\"ticks\":\"\"},\"radialaxis\":{\"gridcolor\":\"white\",\"linecolor\":\"white\",\"ticks\":\"\"}},\"ternary\":{\"bgcolor\":\"#E5ECF6\",\"aaxis\":{\"gridcolor\":\"white\",\"linecolor\":\"white\",\"ticks\":\"\"},\"baxis\":{\"gridcolor\":\"white\",\"linecolor\":\"white\",\"ticks\":\"\"},\"caxis\":{\"gridcolor\":\"white\",\"linecolor\":\"white\",\"ticks\":\"\"}},\"coloraxis\":{\"colorbar\":{\"outlinewidth\":0,\"ticks\":\"\"}},\"colorscale\":{\"sequential\":[[0.0,\"#0d0887\"],[0.1111111111111111,\"#46039f\"],[0.2222222222222222,\"#7201a8\"],[0.3333333333333333,\"#9c179e\"],[0.4444444444444444,\"#bd3786\"],[0.5555555555555556,\"#d8576b\"],[0.6666666666666666,\"#ed7953\"],[0.7777777777777778,\"#fb9f3a\"],[0.8888888888888888,\"#fdca26\"],[1.0,\"#f0f921\"]],\"sequentialminus\":[[0.0,\"#0d0887\"],[0.1111111111111111,\"#46039f\"],[0.2222222222222222,\"#7201a8\"],[0.3333333333333333,\"#9c179e\"],[0.4444444444444444,\"#bd3786\"],[0.5555555555555556,\"#d8576b\"],[0.6666666666666666,\"#ed7953\"],[0.7777777777777778,\"#fb9f3a\"],[0.8888888888888888,\"#fdca26\"],[1.0,\"#f0f921\"]],\"diverging\":[[0,\"#8e0152\"],[0.1,\"#c51b7d\"],[0.2,\"#de77ae\"],[0.3,\"#f1b6da\"],[0.4,\"#fde0ef\"],[0.5,\"#f7f7f7\"],[0.6,\"#e6f5d0\"],[0.7,\"#b8e186\"],[0.8,\"#7fbc41\"],[0.9,\"#4d9221\"],[1,\"#276419\"]]},\"xaxis\":{\"gridcolor\":\"white\",\"linecolor\":\"white\",\"ticks\":\"\",\"title\":{\"standoff\":15},\"zerolinecolor\":\"white\",\"automargin\":true,\"zerolinewidth\":2},\"yaxis\":{\"gridcolor\":\"white\",\"linecolor\":\"white\",\"ticks\":\"\",\"title\":{\"standoff\":15},\"zerolinecolor\":\"white\",\"automargin\":true,\"zerolinewidth\":2},\"scene\":{\"xaxis\":{\"backgroundcolor\":\"#E5ECF6\",\"gridcolor\":\"white\",\"linecolor\":\"white\",\"showbackground\":true,\"ticks\":\"\",\"zerolinecolor\":\"white\",\"gridwidth\":2},\"yaxis\":{\"backgroundcolor\":\"#E5ECF6\",\"gridcolor\":\"white\",\"linecolor\":\"white\",\"showbackground\":true,\"ticks\":\"\",\"zerolinecolor\":\"white\",\"gridwidth\":2},\"zaxis\":{\"backgroundcolor\":\"#E5ECF6\",\"gridcolor\":\"white\",\"linecolor\":\"white\",\"showbackground\":true,\"ticks\":\"\",\"zerolinecolor\":\"white\",\"gridwidth\":2}},\"shapedefaults\":{\"line\":{\"color\":\"#2a3f5f\"}},\"annotationdefaults\":{\"arrowcolor\":\"#2a3f5f\",\"arrowhead\":0,\"arrowwidth\":1},\"geo\":{\"bgcolor\":\"white\",\"landcolor\":\"#E5ECF6\",\"subunitcolor\":\"white\",\"showland\":true,\"showlakes\":true,\"lakecolor\":\"white\"},\"title\":{\"x\":0.05},\"mapbox\":{\"style\":\"light\"}}},\"xaxis\":{\"anchor\":\"y\",\"domain\":[0.0,1.0],\"scaleanchor\":\"y\",\"constrain\":\"domain\"},\"yaxis\":{\"anchor\":\"x\",\"domain\":[0.0,1.0],\"autorange\":\"reversed\",\"constrain\":\"domain\"},\"coloraxis\":{\"colorscale\":[[0.0,\"#0d0887\"],[0.1111111111111111,\"#46039f\"],[0.2222222222222222,\"#7201a8\"],[0.3333333333333333,\"#9c179e\"],[0.4444444444444444,\"#bd3786\"],[0.5555555555555556,\"#d8576b\"],[0.6666666666666666,\"#ed7953\"],[0.7777777777777778,\"#fb9f3a\"],[0.8888888888888888,\"#fdca26\"],[1.0,\"#f0f921\"]]},\"margin\":{\"t\":60}},                        {\"responsive\": true}                    ).then(function(){\n",
       "                            \n",
       "var gd = document.getElementById('31dfd5d9-56f8-4dff-93f1-8a1815b7c632');\n",
       "var x = new MutationObserver(function (mutations, observer) {{\n",
       "        var display = window.getComputedStyle(gd).display;\n",
       "        if (!display || display === 'none') {{\n",
       "            console.log([gd, 'removed!']);\n",
       "            Plotly.purge(gd);\n",
       "            observer.disconnect();\n",
       "        }}\n",
       "}});\n",
       "\n",
       "// Listen for the removal of the full notebook cells\n",
       "var notebookContainer = gd.closest('#notebook-container');\n",
       "if (notebookContainer) {{\n",
       "    x.observe(notebookContainer, {childList: true});\n",
       "}}\n",
       "\n",
       "// Listen for the clearing of the current output cell\n",
       "var outputEl = gd.closest('.output');\n",
       "if (outputEl) {{\n",
       "    x.observe(outputEl, {childList: true});\n",
       "}}\n",
       "\n",
       "                        })                };                });            </script>        </div>"
      ]
     },
     "metadata": {},
     "output_type": "display_data"
    }
   ],
   "source": [
    "px.imshow(images_r[0].numpy().reshape(28,28))"
   ]
  },
  {
   "cell_type": "markdown",
   "metadata": {},
   "source": [
    "### Unnecessary code for now"
   ]
  },
  {
   "cell_type": "code",
   "execution_count": null,
   "metadata": {},
   "outputs": [],
   "source": [
    "def decompose(self):\n",
    "    \"\"\"tdoom reference code on Model object.\"\"\"\n",
    "    # Split the bilinear layer into the left and right components\n",
    "    l, r = self.w_lr[0].unbind()\n",
    "    b = einsum(self.w_u, l, r, \"cls out, out in1, out in2 -> cls in1 in2\")\n",
    "    b = 0.5 * (b + b.mT)\n",
    "    vals, vecs = torch.linalg.eigh(b)\n",
    "    vecs = einsum(vecs, self.w_e, \"cls emb comp, emb inp -> cls comp inp\")\n",
    "    return vals, vecs"
   ]
  },
  {
   "cell_type": "code",
   "execution_count": 113,
   "metadata": {},
   "outputs": [
    {
     "data": {
      "application/vnd.plotly.v1+json": {
       "config": {
        "plotlyServerURL": "https://plot.ly"
       },
       "data": [
        {
         "coloraxis": "coloraxis",
         "hovertemplate": "x: %{x}<br>y: %{y}<br>color: %{z}<extra></extra>",
         "name": "0",
         "type": "heatmap",
         "xaxis": "x",
         "yaxis": "y",
         "z": [
          [
           -0.0050422935746610165,
           0.0057539078406989574,
           -0.012689552269876003,
           -0.02843247354030609,
           0.009480830281972885,
           -0.007450507488101721,
           -0.008618613705039024,
           -0.0036928332410752773,
           -0.02113800123333931,
           0.007406831253319979,
           0.014108466915786266,
           -0.001550718443468213,
           0.01167964469641447,
           0.001470714807510376,
           -0.00018932200327981263,
           0.004355845041573048,
           -0.0024840938858687878,
           -0.03959103301167488,
           -0.007007863838225603,
           -0.02741762436926365,
           0.01412875670939684,
           -0.024686144664883614,
           -0.008561315014958382,
           -0.011935441754758358,
           0.018624629825353622,
           -0.0035931579768657684,
           0.012872288934886456,
           -0.009831876493990421
          ],
          [
           0.027473576366901398,
           0.005239295773208141,
           -0.0152796171605587,
           0.009821434505283833,
           0.0005839820951223373,
           -0.006600178312510252,
           0.01400039903819561,
           -0.0037053804844617844,
           0.011671852320432663,
           0.024807989597320557,
           -0.009072001092135906,
           0.011694489978253841,
           -0.00877163652330637,
           -0.017998145893216133,
           0.013125146739184856,
           0.0050543830730021,
           -0.01656990312039852,
           0.004031641874462366,
           -0.003178257029503584,
           -0.016678161919116974,
           -0.007953696884214878,
           0.014403218403458595,
           0.004478493705391884,
           -0.029076144099235535,
           0.025733185932040215,
           0.015124432742595673,
           -0.017142806202173233,
           -0.006299994885921478
          ],
          [
           0.027986710891127586,
           -0.019349953159689903,
           0.009539658203721046,
           0.008449488319456577,
           0.0033311478327959776,
           -0.02799479104578495,
           0.002237822860479355,
           0.014891142025589943,
           -0.0037478357553482056,
           -0.030334193259477615,
           -0.012407371774315834,
           -0.004027369897812605,
           0.014399917796254158,
           -0.011218942701816559,
           0.00903953518718481,
           -0.03395022079348564,
           -0.01717543788254261,
           0.010460775345563889,
           -0.022580694407224655,
           -0.022421302273869514,
           -0.006429926957935095,
           -0.0021963431499898434,
           -0.012212352827191353,
           0.0030039821285754442,
           -0.003976208157837391,
           -0.002809233032166958,
           -0.00911734253168106,
           0.0003028838837053627
          ],
          [
           0.004262296948581934,
           0.00716475211083889,
           0.006034116260707378,
           0.004438623785972595,
           0.003696415340527892,
           -0.0006420085555873811,
           -0.008712329901754856,
           -0.0056559364311397076,
           -0.009393097832798958,
           -0.025282233953475952,
           -0.008816740475594997,
           0.027381785213947296,
           -0.0020221888553351164,
           0.04412252455949783,
           0.03884843736886978,
           0.0019446104997768998,
           0.014636609703302383,
           0.007436730898916721,
           -0.03070973977446556,
           -0.02903817594051361,
           -0.015363304875791073,
           -0.05892661213874817,
           -0.015080384910106659,
           -0.011403477750718594,
           -0.0017945311265066266,
           0.013704315759241581,
           0.014395168051123619,
           0.018184524029493332
          ],
          [
           0.004474039655178785,
           -0.004273609258234501,
           0.02107183262705803,
           -0.008933919481933117,
           0.015147129073739052,
           -0.039564669132232666,
           -0.025245221331715584,
           -0.010669168084859848,
           0.019641388207674026,
           -0.003198198974132538,
           0.005910602863878012,
           0.008910370990633965,
           0.0011437108041718602,
           0.022333648055791855,
           0.01157087180763483,
           0.026238808408379555,
           0.02770284190773964,
           0.02245256118476391,
           0.01089620590209961,
           -0.049887366592884064,
           -0.03843451663851738,
           -0.054064635187387466,
           -0.045158542692661285,
           -0.014773061498999596,
           -0.01148182898759842,
           -0.01918363757431507,
           -0.008333036676049232,
           -0.015951527282595634
          ],
          [
           0.0037299534305930138,
           -0.009909837506711483,
           0.009440693072974682,
           -0.013264535926282406,
           0.01836734637618065,
           -0.06840973347425461,
           -0.0409107580780983,
           -0.013116421177983284,
           -0.026509994640946388,
           -0.0009572705021128058,
           0.00036347343120723963,
           0.007096752990037203,
           0.014150028117001057,
           0.05337252840399742,
           0.06900940835475922,
           0.06634744256734848,
           0.0664721354842186,
           0.08545879274606705,
           0.07454371452331543,
           0.03057318553328514,
           0.012766127474606037,
           0.003352684434503317,
           -0.005645248107612133,
           -0.05745324119925499,
           -0.045343756675720215,
           -0.020927749574184418,
           -0.022992277517914772,
           0.0035089030861854553
          ],
          [
           -0.0004703872255049646,
           0.018782073631882668,
           -0.01848425902426243,
           -0.003116563195362687,
           -0.012528258375823498,
           -0.02468848042190075,
           -0.03022764064371586,
           -0.059062693268060684,
           -0.047822389751672745,
           -0.06988823413848877,
           -0.027187416329979897,
           0.0010115180630236864,
           0.02633706107735634,
           0.05790527164936066,
           0.07062927633523941,
           0.06589555740356445,
           0.0688796117901802,
           0.08094955235719681,
           0.07070516794919968,
           0.05641176179051399,
           -0.0014249212108552456,
           0.05601777508854866,
           0.019569166004657745,
           -0.046140581369400024,
           -0.06431911140680313,
           -0.05249210447072983,
           0.014892539009451866,
           0.00285555562004447
          ],
          [
           -0.019888214766979218,
           0.01039224024862051,
           0.00725716445595026,
           0.01853136532008648,
           -0.040078844875097275,
           -0.0493430495262146,
           -0.040990233421325684,
           -0.05385633558034897,
           -0.062136344611644745,
           -0.03202059119939804,
           -0.014421116560697556,
           0.006461409851908684,
           0.012195619754493237,
           0.0027150812093168497,
           0.05186175927519798,
           0.048496197909116745,
           0.07222170382738113,
           0.07148754596710205,
           0.07514175772666931,
           0.04692646861076355,
           0.021622510626912117,
           -0.00785130076110363,
           0.02417670004069805,
           -0.0038573755882680416,
           -0.041132379323244095,
           -0.047305088490247726,
           -0.03654158487915993,
           0.023820800706744194
          ],
          [
           -0.002849843818694353,
           -0.003937255125492811,
           0.0074573117308318615,
           -0.023933550342917442,
           -0.05959266796708107,
           -0.036640461534261703,
           -0.03933587297797203,
           -0.05467107519507408,
           -0.04664512723684311,
           -0.00584725895896554,
           0.0035839027259498835,
           0.003506735432893038,
           -0.006283193826675415,
           -0.016428077593445778,
           0.026088297367095947,
           0.02525562047958374,
           0.0937921330332756,
           0.10092785954475403,
           0.10071344673633575,
           0.053348034620285034,
           0.04500938951969147,
           0.006450233981013298,
           0.03303400054574013,
           0.049302589148283005,
           0.004230950027704239,
           -0.023728473111987114,
           -0.023966850712895393,
           0.02703031897544861
          ],
          [
           0.01389404758810997,
           -0.019759319722652435,
           0.007686186116188765,
           0.0069796438328921795,
           -0.03238290920853615,
           -0.03978301212191582,
           -0.05209944024682045,
           -0.04624112695455551,
           -0.0399293527007103,
           -0.004176238551735878,
           0.01395656168460846,
           -0.026973126456141472,
           -0.00482176011428237,
           0.025384532287716866,
           0.018072577193379402,
           -0.003304446116089821,
           0.049246400594711304,
           0.09361819922924042,
           0.1174607202410698,
           0.10995770990848541,
           0.056550879031419754,
           0.010756193660199642,
           0.056948527693748474,
           0.09102435410022736,
           0.04209212586283684,
           -0.052226707339286804,
           -0.02040259912610054,
           0.0016709489282220602
          ],
          [
           -0.006476495880633593,
           -0.002810331294313073,
           -0.00033426342997699976,
           -0.017688361927866936,
           -0.030889108777046204,
           -0.026596233248710632,
           -0.013213008642196655,
           -0.002922425512224436,
           -0.020856468006968498,
           0.013486366719007492,
           -0.008041411638259888,
           0.010173946619033813,
           0.009825550019741058,
           0.032912492752075195,
           -0.012381436303257942,
           -0.08999641984701157,
           -0.022358650341629982,
           0.07354380935430527,
           0.13289691507816315,
           0.10257362574338913,
           0.10585949569940567,
           0.12385392189025879,
           0.12665246427059174,
           0.14070487022399902,
           0.07593522220849991,
           -0.037410300225019455,
           -0.002255058381706476,
           -0.02177008055150509
          ],
          [
           -0.021086325868964195,
           -0.01271071657538414,
           0.026173345744609833,
           -0.0013715835520997643,
           0.005815954878926277,
           -0.0378737673163414,
           0.01661059819161892,
           0.016984237357974052,
           -0.0013788790674880147,
           -0.007370120845735073,
           0.017860732972621918,
           0.02268422767519951,
           -0.007359667681157589,
           0.015701288357377052,
           -0.12791267037391663,
           -0.18519923090934753,
           -0.1549285650253296,
           -0.02625761739909649,
           0.04906829819083214,
           0.09242770075798035,
           0.09964937716722488,
           0.13771602511405945,
           0.16631947457790375,
           0.1637853980064392,
           0.11198505759239197,
           -0.02092048153281212,
           -0.0126034589484334,
           -0.0018027210608124733
          ],
          [
           0.02885204181075096,
           -0.03674183785915375,
           0.006698335520923138,
           -0.004116026218980551,
           0.010542944073677063,
           0.037052471190690994,
           0.0839068591594696,
           0.05749661847949028,
           0.01707352325320244,
           0.025353839620947838,
           0.03416796401143074,
           0.030742404982447624,
           0.010596293956041336,
           -0.07091808319091797,
           -0.19851529598236084,
           -0.2756873667240143,
           -0.20577621459960938,
           -0.0927370935678482,
           0.006422428414225578,
           0.04894881322979927,
           0.07074253261089325,
           0.0832468643784523,
           0.18919333815574646,
           0.1858285665512085,
           0.11225670576095581,
           -0.0018005694728344679,
           -0.002241582842543721,
           0.015006340108811855
          ],
          [
           -0.01558220200240612,
           -0.007240910083055496,
           -0.030667703598737717,
           0.009398342110216618,
           0.004481758456677198,
           0.0657610148191452,
           0.11529720574617386,
           0.07196976244449615,
           0.03872894123196602,
           0.061778414994478226,
           0.07535266131162643,
           0.037672292441129684,
           -0.0010178482625633478,
           -0.1284412443637848,
           -0.2489336133003235,
           -0.2952367663383484,
           -0.2544318735599518,
           -0.11984167248010635,
           -0.06155895069241524,
           -0.005563127342611551,
           0.020138084888458252,
           0.07471957057714462,
           0.15767161548137665,
           0.19458667933940887,
           0.13342517614364624,
           0.03007887303829193,
           -0.005736983846873045,
           0.028978250920772552
          ],
          [
           -0.005880624055862427,
           -0.011906261555850506,
           -0.0015313744079321623,
           -0.011544549837708473,
           -0.0016258619725704193,
           0.10901834070682526,
           0.11410575360059738,
           0.1469772756099701,
           0.09455336630344391,
           0.0763041228055954,
           0.08661070466041565,
           0.05453420802950859,
           -0.052957601845264435,
           -0.19329047203063965,
           -0.2943093478679657,
           -0.3186050355434418,
           -0.2755630314350128,
           -0.12507398426532745,
           -0.055999863892793655,
           -0.02643728442490101,
           0.03445601835846901,
           0.07845707982778549,
           0.11975324153900146,
           0.16239026188850403,
           0.15309305489063263,
           0.02479545585811138,
           -0.014886884018778801,
           -0.005107386503368616
          ],
          [
           -0.01700402796268463,
           -0.026319807395339012,
           0.016797849908471107,
           -0.013211503624916077,
           0.03396600857377052,
           0.14038005471229553,
           0.12705650925636292,
           0.14592449367046356,
           0.10361980646848679,
           0.11002843081951141,
           0.11122608184814453,
           0.0009158210596069694,
           -0.1163574829697609,
           -0.25102129578590393,
           -0.33108431100845337,
           -0.3083909749984741,
           -0.23403342068195343,
           -0.09410889446735382,
           -0.029358096420764923,
           0.011725245974957943,
           0.04883608594536781,
           0.061122048646211624,
           0.09245982766151428,
           0.12367454916238785,
           0.07263627648353577,
           0.01729731261730194,
           -0.0008192862733267248,
           -0.008433422073721886
          ],
          [
           -0.003922916948795319,
           0.00941836554557085,
           -0.012028606608510017,
           -0.014598955400288105,
           0.05195290595293045,
           0.1421472132205963,
           0.12248487770557404,
           0.12902142107486725,
           0.15057764947414398,
           0.13430945575237274,
           0.10774333029985428,
           0.018529817461967468,
           -0.15439976751804352,
           -0.2675180733203888,
           -0.31266501545906067,
           -0.24133799970149994,
           -0.154751256108284,
           -0.041051432490348816,
           0.004687921609729528,
           0.044810108840465546,
           0.06328942626714706,
           0.056617043912410736,
           0.09266511350870132,
           0.06826426088809967,
           0.05082034319639206,
           -0.014377320185303688,
           -0.00550594087690115,
           -0.010548710823059082
          ],
          [
           -0.0003832732909359038,
           0.01644917204976082,
           -0.004116903990507126,
           -0.010721622034907341,
           0.04970279708504677,
           0.13623428344726562,
           0.13106991350650787,
           0.12613914906978607,
           0.10931503772735596,
           0.1435651332139969,
           0.1420574188232422,
           0.03930661454796791,
           -0.0938277542591095,
           -0.25237709283828735,
           -0.2688995599746704,
           -0.19350109994411469,
           -0.07389207184314728,
           0.0063303313218057156,
           0.03806198015809059,
           0.03336513787508011,
           0.049354758113622665,
           0.01625669375061989,
           0.07593979686498642,
           0.015037678182125092,
           0.027042921632528305,
           0.026709172874689102,
           -0.00005919474642723799,
           0.0007932818261906505
          ],
          [
           -0.018227314576506615,
           0.006506828591227531,
           0.0024665244854986668,
           -0.04846246913075447,
           0.009127466939389706,
           0.08493689447641373,
           0.0762273371219635,
           0.09837868064641953,
           0.1400730311870575,
           0.13786093890666962,
           0.16873908042907715,
           0.07030388712882996,
           -0.07721492648124695,
           -0.1693701595067978,
           -0.18630939722061157,
           -0.1179318055510521,
           -0.03639122098684311,
           0.03657076880335808,
           0.03204460069537163,
           0.0462569035589695,
           0.007770525757223368,
           0.011392426677048206,
           0.048840612173080444,
           0.010258316993713379,
           -0.029129615053534508,
           -0.030134381726384163,
           -0.0011022035032510757,
           -0.014375008642673492
          ],
          [
           -0.0022152401506900787,
           -0.003639467526227236,
           0.011499719694256783,
           -0.03582047298550606,
           -0.0029858166817575693,
           0.055015914142131805,
           0.05363094434142113,
           0.0778418481349945,
           0.10284882038831711,
           0.1574314832687378,
           0.16438107192516327,
           0.1457618772983551,
           0.04462345689535141,
           -0.07506649941205978,
           -0.078888900578022,
           -0.05774307623505592,
           -0.03252900764346123,
           -0.008729145862162113,
           0.012382314540445805,
           0.0039509921334683895,
           0.017237992957234383,
           0.017691057175397873,
           0.04947658255696297,
           -0.008884687907993793,
           -0.02354237250983715,
           -0.03157689794898033,
           -0.008812311105430126,
           0.012162060476839542
          ],
          [
           -0.001811821712180972,
           0.006247455254197121,
           -0.003989263903349638,
           -0.03965350612998009,
           -0.015217888168990612,
           0.03130872920155525,
           0.04851716011762619,
           0.047164347022771835,
           0.04285871237516403,
           0.10144246369600296,
           0.12247805297374725,
           0.12492451816797256,
           0.09636137634515762,
           0.02717559225857258,
           -0.007519043516367674,
           -0.009157443419098854,
           -0.005281498655676842,
           -0.04152520000934601,
           -0.03884415328502655,
           -0.025135178118944168,
           -0.030383655801415443,
           -0.0033823305275291204,
           0.00624958286061883,
           -0.02583778277039528,
           -0.017351122573018074,
           -0.01757213845849037,
           -0.005421876907348633,
           -0.01746087335050106
          ],
          [
           0.0019874409772455692,
           -0.015471642836928368,
           -0.0028838086873292923,
           -0.031836509704589844,
           -0.0467679463326931,
           -0.00320799695327878,
           0.0435095839202404,
           0.030349113047122955,
           0.031062670052051544,
           0.04269791021943092,
           0.0914144515991211,
           0.10997497290372849,
           0.07559487968683243,
           0.028261449187994003,
           0.01565374992787838,
           -0.0066177090629935265,
           -0.009827814064919949,
           -0.04246789216995239,
           -0.04692447558045387,
           -0.0480501614511013,
           -0.031143318861722946,
           -0.0023300708271563053,
           -0.007232243195176125,
           -0.02134462632238865,
           -0.006795437075197697,
           0.017665693536400795,
           -0.00031474808929488063,
           -0.005543732084333897
          ],
          [
           0.0295127984136343,
           -0.015392528846859932,
           0.01247378345578909,
           -0.02635406330227852,
           -0.05233312025666237,
           -0.04181753844022751,
           0.025848887860774994,
           0.025674788281321526,
           0.03246566653251648,
           0.05959223583340645,
           0.07476383447647095,
           0.08498718589544296,
           0.09893951565027237,
           0.09702086448669434,
           0.07000112533569336,
           0.051026295870542526,
           0.024390997365117073,
           -0.012680311687290668,
           -0.024271490052342415,
           -0.005979105830192566,
           -0.038153521716594696,
           -0.011014273390173912,
           0.01519811525940895,
           -0.007417845539748669,
           -0.02333129197359085,
           -0.01122661679983139,
           -0.0021308118011802435,
           -0.012971116229891777
          ],
          [
           -0.01639728434383869,
           0.007294171489775181,
           0.005282040219753981,
           -0.0029448429122567177,
           -0.03366222232580185,
           -0.05413122475147247,
           -0.004589060787111521,
           0.0047361417673528194,
           0.042226050049066544,
           0.05761425942182541,
           0.09089004993438721,
           0.09447555243968964,
           0.11237300932407379,
           0.09336312860250473,
           0.08451154083013535,
           0.04804389178752899,
           -0.0032562511041760445,
           -0.001525260042399168,
           -0.0646745041012764,
           -0.07225702702999115,
           -0.030897637829184532,
           -0.03417110815644264,
           0.008461324498057365,
           0.007234783377498388,
           0.03720260038971901,
           -0.01449787151068449,
           0.011985222809016705,
           0.031168418005108833
          ],
          [
           0.005328507628291845,
           0.006510275881737471,
           0.008265912532806396,
           -0.009089434519410133,
           -0.033463332802057266,
           -0.02181202732026577,
           -0.04109513387084007,
           -0.03873670846223831,
           -0.02010226994752884,
           -0.024196559563279152,
           -0.013644435442984104,
           -0.021877264603972435,
           0.0508573055267334,
           0.035586968064308167,
           0.029542116448283195,
           -0.01534627377986908,
           -0.014598461799323559,
           -0.010573874227702618,
           -0.054972339421510696,
           -0.037252094596624374,
           -0.02999517321586609,
           -0.024438897147774696,
           0.005168768111616373,
           0.017664335668087006,
           0.009806771762669086,
           0.0018445299938321114,
           0.016539158299565315,
           0.01117665320634842
          ],
          [
           -0.006085817236453295,
           -0.02899463102221489,
           -0.021014144644141197,
           -0.011402412317693233,
           -0.01753232628107071,
           -0.014526914805173874,
           -0.011430298909544945,
           -0.04897833988070488,
           -0.02741667442023754,
           -0.08175056427717209,
           -0.086513951420784,
           -0.07173436880111694,
           -0.08909708261489868,
           -0.04667997732758522,
           -0.06029165908694267,
           -0.05752844735980034,
           -0.04394746199250221,
           -0.029855765402317047,
           -0.008316927589476109,
           -0.00689717335626483,
           -0.0369383879005909,
           -0.004863187670707703,
           0.0027620214968919754,
           0.012867906130850315,
           -0.004755640402436256,
           -0.02446075901389122,
           0.0060398695059120655,
           0.0071335346437990665
          ],
          [
           -0.0040616258047521114,
           -0.03172709792852402,
           0.00676908902823925,
           -0.0077100396156311035,
           0.003774232231080532,
           -0.025312574580311775,
           -0.006560510024428368,
           -0.018276307731866837,
           -0.011577681638300419,
           -0.02786731719970703,
           -0.02547808736562729,
           -0.004164700862020254,
           -0.04734043404459953,
           -0.03355472907423973,
           -0.017238996922969818,
           -0.03404799476265907,
           -0.01295920368283987,
           -0.023661505430936813,
           -0.00014860229566693306,
           -0.011784842237830162,
           -0.0017848715651780367,
           0.004387861583381891,
           -0.009417343884706497,
           0.013643653132021427,
           -0.003029619110748172,
           -0.009868635796010494,
           0.002928321249783039,
           -0.00906625110656023
          ],
          [
           -0.0052823456935584545,
           0.026238257065415382,
           0.01902466081082821,
           0.013362817466259003,
           0.012763692066073418,
           0.007567091844975948,
           0.006555385421961546,
           -0.031875260174274445,
           0.010405822657048702,
           -0.009060369804501534,
           -0.014041317626833916,
           -0.023682357743382454,
           -0.023860199376940727,
           0.00676526315510273,
           -0.008768192492425442,
           0.012810475192964077,
           0.015501894056797028,
           0.002707448322325945,
           -0.027378352358937263,
           -0.006680740509182215,
           0.01958426460623741,
           0.023394465446472168,
           -0.002262058202177286,
           0.027005290612578392,
           -0.008106068708002567,
           -0.02287086844444275,
           0.0023763792123645544,
           -0.025831399485468864
          ]
         ]
        }
       ],
       "layout": {
        "coloraxis": {
         "cmid": 0,
         "colorscale": [
          [
           0,
           "rgb(103,0,31)"
          ],
          [
           0.1,
           "rgb(178,24,43)"
          ],
          [
           0.2,
           "rgb(214,96,77)"
          ],
          [
           0.3,
           "rgb(244,165,130)"
          ],
          [
           0.4,
           "rgb(253,219,199)"
          ],
          [
           0.5,
           "rgb(247,247,247)"
          ],
          [
           0.6,
           "rgb(209,229,240)"
          ],
          [
           0.7,
           "rgb(146,197,222)"
          ],
          [
           0.8,
           "rgb(67,147,195)"
          ],
          [
           0.9,
           "rgb(33,102,172)"
          ],
          [
           1,
           "rgb(5,48,97)"
          ]
         ]
        },
        "margin": {
         "t": 60
        },
        "template": {
         "data": {
          "bar": [
           {
            "error_x": {
             "color": "#2a3f5f"
            },
            "error_y": {
             "color": "#2a3f5f"
            },
            "marker": {
             "line": {
              "color": "#E5ECF6",
              "width": 0.5
             },
             "pattern": {
              "fillmode": "overlay",
              "size": 10,
              "solidity": 0.2
             }
            },
            "type": "bar"
           }
          ],
          "barpolar": [
           {
            "marker": {
             "line": {
              "color": "#E5ECF6",
              "width": 0.5
             },
             "pattern": {
              "fillmode": "overlay",
              "size": 10,
              "solidity": 0.2
             }
            },
            "type": "barpolar"
           }
          ],
          "carpet": [
           {
            "aaxis": {
             "endlinecolor": "#2a3f5f",
             "gridcolor": "white",
             "linecolor": "white",
             "minorgridcolor": "white",
             "startlinecolor": "#2a3f5f"
            },
            "baxis": {
             "endlinecolor": "#2a3f5f",
             "gridcolor": "white",
             "linecolor": "white",
             "minorgridcolor": "white",
             "startlinecolor": "#2a3f5f"
            },
            "type": "carpet"
           }
          ],
          "choropleth": [
           {
            "colorbar": {
             "outlinewidth": 0,
             "ticks": ""
            },
            "type": "choropleth"
           }
          ],
          "contour": [
           {
            "colorbar": {
             "outlinewidth": 0,
             "ticks": ""
            },
            "colorscale": [
             [
              0,
              "#0d0887"
             ],
             [
              0.1111111111111111,
              "#46039f"
             ],
             [
              0.2222222222222222,
              "#7201a8"
             ],
             [
              0.3333333333333333,
              "#9c179e"
             ],
             [
              0.4444444444444444,
              "#bd3786"
             ],
             [
              0.5555555555555556,
              "#d8576b"
             ],
             [
              0.6666666666666666,
              "#ed7953"
             ],
             [
              0.7777777777777778,
              "#fb9f3a"
             ],
             [
              0.8888888888888888,
              "#fdca26"
             ],
             [
              1,
              "#f0f921"
             ]
            ],
            "type": "contour"
           }
          ],
          "contourcarpet": [
           {
            "colorbar": {
             "outlinewidth": 0,
             "ticks": ""
            },
            "type": "contourcarpet"
           }
          ],
          "heatmap": [
           {
            "colorbar": {
             "outlinewidth": 0,
             "ticks": ""
            },
            "colorscale": [
             [
              0,
              "#0d0887"
             ],
             [
              0.1111111111111111,
              "#46039f"
             ],
             [
              0.2222222222222222,
              "#7201a8"
             ],
             [
              0.3333333333333333,
              "#9c179e"
             ],
             [
              0.4444444444444444,
              "#bd3786"
             ],
             [
              0.5555555555555556,
              "#d8576b"
             ],
             [
              0.6666666666666666,
              "#ed7953"
             ],
             [
              0.7777777777777778,
              "#fb9f3a"
             ],
             [
              0.8888888888888888,
              "#fdca26"
             ],
             [
              1,
              "#f0f921"
             ]
            ],
            "type": "heatmap"
           }
          ],
          "heatmapgl": [
           {
            "colorbar": {
             "outlinewidth": 0,
             "ticks": ""
            },
            "colorscale": [
             [
              0,
              "#0d0887"
             ],
             [
              0.1111111111111111,
              "#46039f"
             ],
             [
              0.2222222222222222,
              "#7201a8"
             ],
             [
              0.3333333333333333,
              "#9c179e"
             ],
             [
              0.4444444444444444,
              "#bd3786"
             ],
             [
              0.5555555555555556,
              "#d8576b"
             ],
             [
              0.6666666666666666,
              "#ed7953"
             ],
             [
              0.7777777777777778,
              "#fb9f3a"
             ],
             [
              0.8888888888888888,
              "#fdca26"
             ],
             [
              1,
              "#f0f921"
             ]
            ],
            "type": "heatmapgl"
           }
          ],
          "histogram": [
           {
            "marker": {
             "pattern": {
              "fillmode": "overlay",
              "size": 10,
              "solidity": 0.2
             }
            },
            "type": "histogram"
           }
          ],
          "histogram2d": [
           {
            "colorbar": {
             "outlinewidth": 0,
             "ticks": ""
            },
            "colorscale": [
             [
              0,
              "#0d0887"
             ],
             [
              0.1111111111111111,
              "#46039f"
             ],
             [
              0.2222222222222222,
              "#7201a8"
             ],
             [
              0.3333333333333333,
              "#9c179e"
             ],
             [
              0.4444444444444444,
              "#bd3786"
             ],
             [
              0.5555555555555556,
              "#d8576b"
             ],
             [
              0.6666666666666666,
              "#ed7953"
             ],
             [
              0.7777777777777778,
              "#fb9f3a"
             ],
             [
              0.8888888888888888,
              "#fdca26"
             ],
             [
              1,
              "#f0f921"
             ]
            ],
            "type": "histogram2d"
           }
          ],
          "histogram2dcontour": [
           {
            "colorbar": {
             "outlinewidth": 0,
             "ticks": ""
            },
            "colorscale": [
             [
              0,
              "#0d0887"
             ],
             [
              0.1111111111111111,
              "#46039f"
             ],
             [
              0.2222222222222222,
              "#7201a8"
             ],
             [
              0.3333333333333333,
              "#9c179e"
             ],
             [
              0.4444444444444444,
              "#bd3786"
             ],
             [
              0.5555555555555556,
              "#d8576b"
             ],
             [
              0.6666666666666666,
              "#ed7953"
             ],
             [
              0.7777777777777778,
              "#fb9f3a"
             ],
             [
              0.8888888888888888,
              "#fdca26"
             ],
             [
              1,
              "#f0f921"
             ]
            ],
            "type": "histogram2dcontour"
           }
          ],
          "mesh3d": [
           {
            "colorbar": {
             "outlinewidth": 0,
             "ticks": ""
            },
            "type": "mesh3d"
           }
          ],
          "parcoords": [
           {
            "line": {
             "colorbar": {
              "outlinewidth": 0,
              "ticks": ""
             }
            },
            "type": "parcoords"
           }
          ],
          "pie": [
           {
            "automargin": true,
            "type": "pie"
           }
          ],
          "scatter": [
           {
            "fillpattern": {
             "fillmode": "overlay",
             "size": 10,
             "solidity": 0.2
            },
            "type": "scatter"
           }
          ],
          "scatter3d": [
           {
            "line": {
             "colorbar": {
              "outlinewidth": 0,
              "ticks": ""
             }
            },
            "marker": {
             "colorbar": {
              "outlinewidth": 0,
              "ticks": ""
             }
            },
            "type": "scatter3d"
           }
          ],
          "scattercarpet": [
           {
            "marker": {
             "colorbar": {
              "outlinewidth": 0,
              "ticks": ""
             }
            },
            "type": "scattercarpet"
           }
          ],
          "scattergeo": [
           {
            "marker": {
             "colorbar": {
              "outlinewidth": 0,
              "ticks": ""
             }
            },
            "type": "scattergeo"
           }
          ],
          "scattergl": [
           {
            "marker": {
             "colorbar": {
              "outlinewidth": 0,
              "ticks": ""
             }
            },
            "type": "scattergl"
           }
          ],
          "scattermapbox": [
           {
            "marker": {
             "colorbar": {
              "outlinewidth": 0,
              "ticks": ""
             }
            },
            "type": "scattermapbox"
           }
          ],
          "scatterpolar": [
           {
            "marker": {
             "colorbar": {
              "outlinewidth": 0,
              "ticks": ""
             }
            },
            "type": "scatterpolar"
           }
          ],
          "scatterpolargl": [
           {
            "marker": {
             "colorbar": {
              "outlinewidth": 0,
              "ticks": ""
             }
            },
            "type": "scatterpolargl"
           }
          ],
          "scatterternary": [
           {
            "marker": {
             "colorbar": {
              "outlinewidth": 0,
              "ticks": ""
             }
            },
            "type": "scatterternary"
           }
          ],
          "surface": [
           {
            "colorbar": {
             "outlinewidth": 0,
             "ticks": ""
            },
            "colorscale": [
             [
              0,
              "#0d0887"
             ],
             [
              0.1111111111111111,
              "#46039f"
             ],
             [
              0.2222222222222222,
              "#7201a8"
             ],
             [
              0.3333333333333333,
              "#9c179e"
             ],
             [
              0.4444444444444444,
              "#bd3786"
             ],
             [
              0.5555555555555556,
              "#d8576b"
             ],
             [
              0.6666666666666666,
              "#ed7953"
             ],
             [
              0.7777777777777778,
              "#fb9f3a"
             ],
             [
              0.8888888888888888,
              "#fdca26"
             ],
             [
              1,
              "#f0f921"
             ]
            ],
            "type": "surface"
           }
          ],
          "table": [
           {
            "cells": {
             "fill": {
              "color": "#EBF0F8"
             },
             "line": {
              "color": "white"
             }
            },
            "header": {
             "fill": {
              "color": "#C8D4E3"
             },
             "line": {
              "color": "white"
             }
            },
            "type": "table"
           }
          ]
         },
         "layout": {
          "annotationdefaults": {
           "arrowcolor": "#2a3f5f",
           "arrowhead": 0,
           "arrowwidth": 1
          },
          "autotypenumbers": "strict",
          "coloraxis": {
           "colorbar": {
            "outlinewidth": 0,
            "ticks": ""
           }
          },
          "colorscale": {
           "diverging": [
            [
             0,
             "#8e0152"
            ],
            [
             0.1,
             "#c51b7d"
            ],
            [
             0.2,
             "#de77ae"
            ],
            [
             0.3,
             "#f1b6da"
            ],
            [
             0.4,
             "#fde0ef"
            ],
            [
             0.5,
             "#f7f7f7"
            ],
            [
             0.6,
             "#e6f5d0"
            ],
            [
             0.7,
             "#b8e186"
            ],
            [
             0.8,
             "#7fbc41"
            ],
            [
             0.9,
             "#4d9221"
            ],
            [
             1,
             "#276419"
            ]
           ],
           "sequential": [
            [
             0,
             "#0d0887"
            ],
            [
             0.1111111111111111,
             "#46039f"
            ],
            [
             0.2222222222222222,
             "#7201a8"
            ],
            [
             0.3333333333333333,
             "#9c179e"
            ],
            [
             0.4444444444444444,
             "#bd3786"
            ],
            [
             0.5555555555555556,
             "#d8576b"
            ],
            [
             0.6666666666666666,
             "#ed7953"
            ],
            [
             0.7777777777777778,
             "#fb9f3a"
            ],
            [
             0.8888888888888888,
             "#fdca26"
            ],
            [
             1,
             "#f0f921"
            ]
           ],
           "sequentialminus": [
            [
             0,
             "#0d0887"
            ],
            [
             0.1111111111111111,
             "#46039f"
            ],
            [
             0.2222222222222222,
             "#7201a8"
            ],
            [
             0.3333333333333333,
             "#9c179e"
            ],
            [
             0.4444444444444444,
             "#bd3786"
            ],
            [
             0.5555555555555556,
             "#d8576b"
            ],
            [
             0.6666666666666666,
             "#ed7953"
            ],
            [
             0.7777777777777778,
             "#fb9f3a"
            ],
            [
             0.8888888888888888,
             "#fdca26"
            ],
            [
             1,
             "#f0f921"
            ]
           ]
          },
          "colorway": [
           "#636efa",
           "#EF553B",
           "#00cc96",
           "#ab63fa",
           "#FFA15A",
           "#19d3f3",
           "#FF6692",
           "#B6E880",
           "#FF97FF",
           "#FECB52"
          ],
          "font": {
           "color": "#2a3f5f"
          },
          "geo": {
           "bgcolor": "white",
           "lakecolor": "white",
           "landcolor": "#E5ECF6",
           "showlakes": true,
           "showland": true,
           "subunitcolor": "white"
          },
          "hoverlabel": {
           "align": "left"
          },
          "hovermode": "closest",
          "mapbox": {
           "style": "light"
          },
          "paper_bgcolor": "white",
          "plot_bgcolor": "#E5ECF6",
          "polar": {
           "angularaxis": {
            "gridcolor": "white",
            "linecolor": "white",
            "ticks": ""
           },
           "bgcolor": "#E5ECF6",
           "radialaxis": {
            "gridcolor": "white",
            "linecolor": "white",
            "ticks": ""
           }
          },
          "scene": {
           "xaxis": {
            "backgroundcolor": "#E5ECF6",
            "gridcolor": "white",
            "gridwidth": 2,
            "linecolor": "white",
            "showbackground": true,
            "ticks": "",
            "zerolinecolor": "white"
           },
           "yaxis": {
            "backgroundcolor": "#E5ECF6",
            "gridcolor": "white",
            "gridwidth": 2,
            "linecolor": "white",
            "showbackground": true,
            "ticks": "",
            "zerolinecolor": "white"
           },
           "zaxis": {
            "backgroundcolor": "#E5ECF6",
            "gridcolor": "white",
            "gridwidth": 2,
            "linecolor": "white",
            "showbackground": true,
            "ticks": "",
            "zerolinecolor": "white"
           }
          },
          "shapedefaults": {
           "line": {
            "color": "#2a3f5f"
           }
          },
          "ternary": {
           "aaxis": {
            "gridcolor": "white",
            "linecolor": "white",
            "ticks": ""
           },
           "baxis": {
            "gridcolor": "white",
            "linecolor": "white",
            "ticks": ""
           },
           "bgcolor": "#E5ECF6",
           "caxis": {
            "gridcolor": "white",
            "linecolor": "white",
            "ticks": ""
           }
          },
          "title": {
           "x": 0.05
          },
          "xaxis": {
           "automargin": true,
           "gridcolor": "white",
           "linecolor": "white",
           "ticks": "",
           "title": {
            "standoff": 15
           },
           "zerolinecolor": "white",
           "zerolinewidth": 2
          },
          "yaxis": {
           "automargin": true,
           "gridcolor": "white",
           "linecolor": "white",
           "ticks": "",
           "title": {
            "standoff": 15
           },
           "zerolinecolor": "white",
           "zerolinewidth": 2
          }
         }
        },
        "xaxis": {
         "anchor": "y",
         "constrain": "domain",
         "domain": [
          0,
          1
         ],
         "scaleanchor": "y"
        },
        "yaxis": {
         "anchor": "x",
         "autorange": "reversed",
         "constrain": "domain",
         "domain": [
          0,
          1
         ]
        }
       }
      },
      "text/html": [
       "<div>                            <div id=\"4a88c5b5-bdd2-49e3-a934-0aa7d7f0c95b\" class=\"plotly-graph-div\" style=\"height:525px; width:100%;\"></div>            <script type=\"text/javascript\">                require([\"plotly\"], function(Plotly) {                    window.PLOTLYENV=window.PLOTLYENV || {};                                    if (document.getElementById(\"4a88c5b5-bdd2-49e3-a934-0aa7d7f0c95b\")) {                    Plotly.newPlot(                        \"4a88c5b5-bdd2-49e3-a934-0aa7d7f0c95b\",                        [{\"coloraxis\":\"coloraxis\",\"name\":\"0\",\"z\":[[-0.0050422935746610165,0.0057539078406989574,-0.012689552269876003,-0.02843247354030609,0.009480830281972885,-0.007450507488101721,-0.008618613705039024,-0.0036928332410752773,-0.02113800123333931,0.007406831253319979,0.014108466915786266,-0.001550718443468213,0.01167964469641447,0.001470714807510376,-0.00018932200327981263,0.004355845041573048,-0.0024840938858687878,-0.03959103301167488,-0.007007863838225603,-0.02741762436926365,0.01412875670939684,-0.024686144664883614,-0.008561315014958382,-0.011935441754758358,0.018624629825353622,-0.0035931579768657684,0.012872288934886456,-0.009831876493990421],[0.027473576366901398,0.005239295773208141,-0.0152796171605587,0.009821434505283833,0.0005839820951223373,-0.006600178312510252,0.01400039903819561,-0.0037053804844617844,0.011671852320432663,0.024807989597320557,-0.009072001092135906,0.011694489978253841,-0.00877163652330637,-0.017998145893216133,0.013125146739184856,0.0050543830730021,-0.01656990312039852,0.004031641874462366,-0.003178257029503584,-0.016678161919116974,-0.007953696884214878,0.014403218403458595,0.004478493705391884,-0.029076144099235535,0.025733185932040215,0.015124432742595673,-0.017142806202173233,-0.006299994885921478],[0.027986710891127586,-0.019349953159689903,0.009539658203721046,0.008449488319456577,0.0033311478327959776,-0.02799479104578495,0.002237822860479355,0.014891142025589943,-0.0037478357553482056,-0.030334193259477615,-0.012407371774315834,-0.004027369897812605,0.014399917796254158,-0.011218942701816559,0.00903953518718481,-0.03395022079348564,-0.01717543788254261,0.010460775345563889,-0.022580694407224655,-0.022421302273869514,-0.006429926957935095,-0.0021963431499898434,-0.012212352827191353,0.0030039821285754442,-0.003976208157837391,-0.002809233032166958,-0.00911734253168106,0.0003028838837053627],[0.004262296948581934,0.00716475211083889,0.006034116260707378,0.004438623785972595,0.003696415340527892,-0.0006420085555873811,-0.008712329901754856,-0.0056559364311397076,-0.009393097832798958,-0.025282233953475952,-0.008816740475594997,0.027381785213947296,-0.0020221888553351164,0.04412252455949783,0.03884843736886978,0.0019446104997768998,0.014636609703302383,0.007436730898916721,-0.03070973977446556,-0.02903817594051361,-0.015363304875791073,-0.05892661213874817,-0.015080384910106659,-0.011403477750718594,-0.0017945311265066266,0.013704315759241581,0.014395168051123619,0.018184524029493332],[0.004474039655178785,-0.004273609258234501,0.02107183262705803,-0.008933919481933117,0.015147129073739052,-0.039564669132232666,-0.025245221331715584,-0.010669168084859848,0.019641388207674026,-0.003198198974132538,0.005910602863878012,0.008910370990633965,0.0011437108041718602,0.022333648055791855,0.01157087180763483,0.026238808408379555,0.02770284190773964,0.02245256118476391,0.01089620590209961,-0.049887366592884064,-0.03843451663851738,-0.054064635187387466,-0.045158542692661285,-0.014773061498999596,-0.01148182898759842,-0.01918363757431507,-0.008333036676049232,-0.015951527282595634],[0.0037299534305930138,-0.009909837506711483,0.009440693072974682,-0.013264535926282406,0.01836734637618065,-0.06840973347425461,-0.0409107580780983,-0.013116421177983284,-0.026509994640946388,-0.0009572705021128058,0.00036347343120723963,0.007096752990037203,0.014150028117001057,0.05337252840399742,0.06900940835475922,0.06634744256734848,0.0664721354842186,0.08545879274606705,0.07454371452331543,0.03057318553328514,0.012766127474606037,0.003352684434503317,-0.005645248107612133,-0.05745324119925499,-0.045343756675720215,-0.020927749574184418,-0.022992277517914772,0.0035089030861854553],[-0.0004703872255049646,0.018782073631882668,-0.01848425902426243,-0.003116563195362687,-0.012528258375823498,-0.02468848042190075,-0.03022764064371586,-0.059062693268060684,-0.047822389751672745,-0.06988823413848877,-0.027187416329979897,0.0010115180630236864,0.02633706107735634,0.05790527164936066,0.07062927633523941,0.06589555740356445,0.0688796117901802,0.08094955235719681,0.07070516794919968,0.05641176179051399,-0.0014249212108552456,0.05601777508854866,0.019569166004657745,-0.046140581369400024,-0.06431911140680313,-0.05249210447072983,0.014892539009451866,0.00285555562004447],[-0.019888214766979218,0.01039224024862051,0.00725716445595026,0.01853136532008648,-0.040078844875097275,-0.0493430495262146,-0.040990233421325684,-0.05385633558034897,-0.062136344611644745,-0.03202059119939804,-0.014421116560697556,0.006461409851908684,0.012195619754493237,0.0027150812093168497,0.05186175927519798,0.048496197909116745,0.07222170382738113,0.07148754596710205,0.07514175772666931,0.04692646861076355,0.021622510626912117,-0.00785130076110363,0.02417670004069805,-0.0038573755882680416,-0.041132379323244095,-0.047305088490247726,-0.03654158487915993,0.023820800706744194],[-0.002849843818694353,-0.003937255125492811,0.0074573117308318615,-0.023933550342917442,-0.05959266796708107,-0.036640461534261703,-0.03933587297797203,-0.05467107519507408,-0.04664512723684311,-0.00584725895896554,0.0035839027259498835,0.003506735432893038,-0.006283193826675415,-0.016428077593445778,0.026088297367095947,0.02525562047958374,0.0937921330332756,0.10092785954475403,0.10071344673633575,0.053348034620285034,0.04500938951969147,0.006450233981013298,0.03303400054574013,0.049302589148283005,0.004230950027704239,-0.023728473111987114,-0.023966850712895393,0.02703031897544861],[0.01389404758810997,-0.019759319722652435,0.007686186116188765,0.0069796438328921795,-0.03238290920853615,-0.03978301212191582,-0.05209944024682045,-0.04624112695455551,-0.0399293527007103,-0.004176238551735878,0.01395656168460846,-0.026973126456141472,-0.00482176011428237,0.025384532287716866,0.018072577193379402,-0.003304446116089821,0.049246400594711304,0.09361819922924042,0.1174607202410698,0.10995770990848541,0.056550879031419754,0.010756193660199642,0.056948527693748474,0.09102435410022736,0.04209212586283684,-0.052226707339286804,-0.02040259912610054,0.0016709489282220602],[-0.006476495880633593,-0.002810331294313073,-0.00033426342997699976,-0.017688361927866936,-0.030889108777046204,-0.026596233248710632,-0.013213008642196655,-0.002922425512224436,-0.020856468006968498,0.013486366719007492,-0.008041411638259888,0.010173946619033813,0.009825550019741058,0.032912492752075195,-0.012381436303257942,-0.08999641984701157,-0.022358650341629982,0.07354380935430527,0.13289691507816315,0.10257362574338913,0.10585949569940567,0.12385392189025879,0.12665246427059174,0.14070487022399902,0.07593522220849991,-0.037410300225019455,-0.002255058381706476,-0.02177008055150509],[-0.021086325868964195,-0.01271071657538414,0.026173345744609833,-0.0013715835520997643,0.005815954878926277,-0.0378737673163414,0.01661059819161892,0.016984237357974052,-0.0013788790674880147,-0.007370120845735073,0.017860732972621918,0.02268422767519951,-0.007359667681157589,0.015701288357377052,-0.12791267037391663,-0.18519923090934753,-0.1549285650253296,-0.02625761739909649,0.04906829819083214,0.09242770075798035,0.09964937716722488,0.13771602511405945,0.16631947457790375,0.1637853980064392,0.11198505759239197,-0.02092048153281212,-0.0126034589484334,-0.0018027210608124733],[0.02885204181075096,-0.03674183785915375,0.006698335520923138,-0.004116026218980551,0.010542944073677063,0.037052471190690994,0.0839068591594696,0.05749661847949028,0.01707352325320244,0.025353839620947838,0.03416796401143074,0.030742404982447624,0.010596293956041336,-0.07091808319091797,-0.19851529598236084,-0.2756873667240143,-0.20577621459960938,-0.0927370935678482,0.006422428414225578,0.04894881322979927,0.07074253261089325,0.0832468643784523,0.18919333815574646,0.1858285665512085,0.11225670576095581,-0.0018005694728344679,-0.002241582842543721,0.015006340108811855],[-0.01558220200240612,-0.007240910083055496,-0.030667703598737717,0.009398342110216618,0.004481758456677198,0.0657610148191452,0.11529720574617386,0.07196976244449615,0.03872894123196602,0.061778414994478226,0.07535266131162643,0.037672292441129684,-0.0010178482625633478,-0.1284412443637848,-0.2489336133003235,-0.2952367663383484,-0.2544318735599518,-0.11984167248010635,-0.06155895069241524,-0.005563127342611551,0.020138084888458252,0.07471957057714462,0.15767161548137665,0.19458667933940887,0.13342517614364624,0.03007887303829193,-0.005736983846873045,0.028978250920772552],[-0.005880624055862427,-0.011906261555850506,-0.0015313744079321623,-0.011544549837708473,-0.0016258619725704193,0.10901834070682526,0.11410575360059738,0.1469772756099701,0.09455336630344391,0.0763041228055954,0.08661070466041565,0.05453420802950859,-0.052957601845264435,-0.19329047203063965,-0.2943093478679657,-0.3186050355434418,-0.2755630314350128,-0.12507398426532745,-0.055999863892793655,-0.02643728442490101,0.03445601835846901,0.07845707982778549,0.11975324153900146,0.16239026188850403,0.15309305489063263,0.02479545585811138,-0.014886884018778801,-0.005107386503368616],[-0.01700402796268463,-0.026319807395339012,0.016797849908471107,-0.013211503624916077,0.03396600857377052,0.14038005471229553,0.12705650925636292,0.14592449367046356,0.10361980646848679,0.11002843081951141,0.11122608184814453,0.0009158210596069694,-0.1163574829697609,-0.25102129578590393,-0.33108431100845337,-0.3083909749984741,-0.23403342068195343,-0.09410889446735382,-0.029358096420764923,0.011725245974957943,0.04883608594536781,0.061122048646211624,0.09245982766151428,0.12367454916238785,0.07263627648353577,0.01729731261730194,-0.0008192862733267248,-0.008433422073721886],[-0.003922916948795319,0.00941836554557085,-0.012028606608510017,-0.014598955400288105,0.05195290595293045,0.1421472132205963,0.12248487770557404,0.12902142107486725,0.15057764947414398,0.13430945575237274,0.10774333029985428,0.018529817461967468,-0.15439976751804352,-0.2675180733203888,-0.31266501545906067,-0.24133799970149994,-0.154751256108284,-0.041051432490348816,0.004687921609729528,0.044810108840465546,0.06328942626714706,0.056617043912410736,0.09266511350870132,0.06826426088809967,0.05082034319639206,-0.014377320185303688,-0.00550594087690115,-0.010548710823059082],[-0.0003832732909359038,0.01644917204976082,-0.004116903990507126,-0.010721622034907341,0.04970279708504677,0.13623428344726562,0.13106991350650787,0.12613914906978607,0.10931503772735596,0.1435651332139969,0.1420574188232422,0.03930661454796791,-0.0938277542591095,-0.25237709283828735,-0.2688995599746704,-0.19350109994411469,-0.07389207184314728,0.0063303313218057156,0.03806198015809059,0.03336513787508011,0.049354758113622665,0.01625669375061989,0.07593979686498642,0.015037678182125092,0.027042921632528305,0.026709172874689102,-5.919474642723799e-05,0.0007932818261906505],[-0.018227314576506615,0.006506828591227531,0.0024665244854986668,-0.04846246913075447,0.009127466939389706,0.08493689447641373,0.0762273371219635,0.09837868064641953,0.1400730311870575,0.13786093890666962,0.16873908042907715,0.07030388712882996,-0.07721492648124695,-0.1693701595067978,-0.18630939722061157,-0.1179318055510521,-0.03639122098684311,0.03657076880335808,0.03204460069537163,0.0462569035589695,0.007770525757223368,0.011392426677048206,0.048840612173080444,0.010258316993713379,-0.029129615053534508,-0.030134381726384163,-0.0011022035032510757,-0.014375008642673492],[-0.0022152401506900787,-0.003639467526227236,0.011499719694256783,-0.03582047298550606,-0.0029858166817575693,0.055015914142131805,0.05363094434142113,0.0778418481349945,0.10284882038831711,0.1574314832687378,0.16438107192516327,0.1457618772983551,0.04462345689535141,-0.07506649941205978,-0.078888900578022,-0.05774307623505592,-0.03252900764346123,-0.008729145862162113,0.012382314540445805,0.0039509921334683895,0.017237992957234383,0.017691057175397873,0.04947658255696297,-0.008884687907993793,-0.02354237250983715,-0.03157689794898033,-0.008812311105430126,0.012162060476839542],[-0.001811821712180972,0.006247455254197121,-0.003989263903349638,-0.03965350612998009,-0.015217888168990612,0.03130872920155525,0.04851716011762619,0.047164347022771835,0.04285871237516403,0.10144246369600296,0.12247805297374725,0.12492451816797256,0.09636137634515762,0.02717559225857258,-0.007519043516367674,-0.009157443419098854,-0.005281498655676842,-0.04152520000934601,-0.03884415328502655,-0.025135178118944168,-0.030383655801415443,-0.0033823305275291204,0.00624958286061883,-0.02583778277039528,-0.017351122573018074,-0.01757213845849037,-0.005421876907348633,-0.01746087335050106],[0.0019874409772455692,-0.015471642836928368,-0.0028838086873292923,-0.031836509704589844,-0.0467679463326931,-0.00320799695327878,0.0435095839202404,0.030349113047122955,0.031062670052051544,0.04269791021943092,0.0914144515991211,0.10997497290372849,0.07559487968683243,0.028261449187994003,0.01565374992787838,-0.0066177090629935265,-0.009827814064919949,-0.04246789216995239,-0.04692447558045387,-0.0480501614511013,-0.031143318861722946,-0.0023300708271563053,-0.007232243195176125,-0.02134462632238865,-0.006795437075197697,0.017665693536400795,-0.00031474808929488063,-0.005543732084333897],[0.0295127984136343,-0.015392528846859932,0.01247378345578909,-0.02635406330227852,-0.05233312025666237,-0.04181753844022751,0.025848887860774994,0.025674788281321526,0.03246566653251648,0.05959223583340645,0.07476383447647095,0.08498718589544296,0.09893951565027237,0.09702086448669434,0.07000112533569336,0.051026295870542526,0.024390997365117073,-0.012680311687290668,-0.024271490052342415,-0.005979105830192566,-0.038153521716594696,-0.011014273390173912,0.01519811525940895,-0.007417845539748669,-0.02333129197359085,-0.01122661679983139,-0.0021308118011802435,-0.012971116229891777],[-0.01639728434383869,0.007294171489775181,0.005282040219753981,-0.0029448429122567177,-0.03366222232580185,-0.05413122475147247,-0.004589060787111521,0.0047361417673528194,0.042226050049066544,0.05761425942182541,0.09089004993438721,0.09447555243968964,0.11237300932407379,0.09336312860250473,0.08451154083013535,0.04804389178752899,-0.0032562511041760445,-0.001525260042399168,-0.0646745041012764,-0.07225702702999115,-0.030897637829184532,-0.03417110815644264,0.008461324498057365,0.007234783377498388,0.03720260038971901,-0.01449787151068449,0.011985222809016705,0.031168418005108833],[0.005328507628291845,0.006510275881737471,0.008265912532806396,-0.009089434519410133,-0.033463332802057266,-0.02181202732026577,-0.04109513387084007,-0.03873670846223831,-0.02010226994752884,-0.024196559563279152,-0.013644435442984104,-0.021877264603972435,0.0508573055267334,0.035586968064308167,0.029542116448283195,-0.01534627377986908,-0.014598461799323559,-0.010573874227702618,-0.054972339421510696,-0.037252094596624374,-0.02999517321586609,-0.024438897147774696,0.005168768111616373,0.017664335668087006,0.009806771762669086,0.0018445299938321114,0.016539158299565315,0.01117665320634842],[-0.006085817236453295,-0.02899463102221489,-0.021014144644141197,-0.011402412317693233,-0.01753232628107071,-0.014526914805173874,-0.011430298909544945,-0.04897833988070488,-0.02741667442023754,-0.08175056427717209,-0.086513951420784,-0.07173436880111694,-0.08909708261489868,-0.04667997732758522,-0.06029165908694267,-0.05752844735980034,-0.04394746199250221,-0.029855765402317047,-0.008316927589476109,-0.00689717335626483,-0.0369383879005909,-0.004863187670707703,0.0027620214968919754,0.012867906130850315,-0.004755640402436256,-0.02446075901389122,0.0060398695059120655,0.0071335346437990665],[-0.0040616258047521114,-0.03172709792852402,0.00676908902823925,-0.0077100396156311035,0.003774232231080532,-0.025312574580311775,-0.006560510024428368,-0.018276307731866837,-0.011577681638300419,-0.02786731719970703,-0.02547808736562729,-0.004164700862020254,-0.04734043404459953,-0.03355472907423973,-0.017238996922969818,-0.03404799476265907,-0.01295920368283987,-0.023661505430936813,-0.00014860229566693306,-0.011784842237830162,-0.0017848715651780367,0.004387861583381891,-0.009417343884706497,0.013643653132021427,-0.003029619110748172,-0.009868635796010494,0.002928321249783039,-0.00906625110656023],[-0.0052823456935584545,0.026238257065415382,0.01902466081082821,0.013362817466259003,0.012763692066073418,0.007567091844975948,0.006555385421961546,-0.031875260174274445,0.010405822657048702,-0.009060369804501534,-0.014041317626833916,-0.023682357743382454,-0.023860199376940727,0.00676526315510273,-0.008768192492425442,0.012810475192964077,0.015501894056797028,0.002707448322325945,-0.027378352358937263,-0.006680740509182215,0.01958426460623741,0.023394465446472168,-0.002262058202177286,0.027005290612578392,-0.008106068708002567,-0.02287086844444275,0.0023763792123645544,-0.025831399485468864]],\"type\":\"heatmap\",\"xaxis\":\"x\",\"yaxis\":\"y\",\"hovertemplate\":\"x: %{x}\\u003cbr\\u003ey: %{y}\\u003cbr\\u003ecolor: %{z}\\u003cextra\\u003e\\u003c\\u002fextra\\u003e\"}],                        {\"template\":{\"data\":{\"histogram2dcontour\":[{\"type\":\"histogram2dcontour\",\"colorbar\":{\"outlinewidth\":0,\"ticks\":\"\"},\"colorscale\":[[0.0,\"#0d0887\"],[0.1111111111111111,\"#46039f\"],[0.2222222222222222,\"#7201a8\"],[0.3333333333333333,\"#9c179e\"],[0.4444444444444444,\"#bd3786\"],[0.5555555555555556,\"#d8576b\"],[0.6666666666666666,\"#ed7953\"],[0.7777777777777778,\"#fb9f3a\"],[0.8888888888888888,\"#fdca26\"],[1.0,\"#f0f921\"]]}],\"choropleth\":[{\"type\":\"choropleth\",\"colorbar\":{\"outlinewidth\":0,\"ticks\":\"\"}}],\"histogram2d\":[{\"type\":\"histogram2d\",\"colorbar\":{\"outlinewidth\":0,\"ticks\":\"\"},\"colorscale\":[[0.0,\"#0d0887\"],[0.1111111111111111,\"#46039f\"],[0.2222222222222222,\"#7201a8\"],[0.3333333333333333,\"#9c179e\"],[0.4444444444444444,\"#bd3786\"],[0.5555555555555556,\"#d8576b\"],[0.6666666666666666,\"#ed7953\"],[0.7777777777777778,\"#fb9f3a\"],[0.8888888888888888,\"#fdca26\"],[1.0,\"#f0f921\"]]}],\"heatmap\":[{\"type\":\"heatmap\",\"colorbar\":{\"outlinewidth\":0,\"ticks\":\"\"},\"colorscale\":[[0.0,\"#0d0887\"],[0.1111111111111111,\"#46039f\"],[0.2222222222222222,\"#7201a8\"],[0.3333333333333333,\"#9c179e\"],[0.4444444444444444,\"#bd3786\"],[0.5555555555555556,\"#d8576b\"],[0.6666666666666666,\"#ed7953\"],[0.7777777777777778,\"#fb9f3a\"],[0.8888888888888888,\"#fdca26\"],[1.0,\"#f0f921\"]]}],\"heatmapgl\":[{\"type\":\"heatmapgl\",\"colorbar\":{\"outlinewidth\":0,\"ticks\":\"\"},\"colorscale\":[[0.0,\"#0d0887\"],[0.1111111111111111,\"#46039f\"],[0.2222222222222222,\"#7201a8\"],[0.3333333333333333,\"#9c179e\"],[0.4444444444444444,\"#bd3786\"],[0.5555555555555556,\"#d8576b\"],[0.6666666666666666,\"#ed7953\"],[0.7777777777777778,\"#fb9f3a\"],[0.8888888888888888,\"#fdca26\"],[1.0,\"#f0f921\"]]}],\"contourcarpet\":[{\"type\":\"contourcarpet\",\"colorbar\":{\"outlinewidth\":0,\"ticks\":\"\"}}],\"contour\":[{\"type\":\"contour\",\"colorbar\":{\"outlinewidth\":0,\"ticks\":\"\"},\"colorscale\":[[0.0,\"#0d0887\"],[0.1111111111111111,\"#46039f\"],[0.2222222222222222,\"#7201a8\"],[0.3333333333333333,\"#9c179e\"],[0.4444444444444444,\"#bd3786\"],[0.5555555555555556,\"#d8576b\"],[0.6666666666666666,\"#ed7953\"],[0.7777777777777778,\"#fb9f3a\"],[0.8888888888888888,\"#fdca26\"],[1.0,\"#f0f921\"]]}],\"surface\":[{\"type\":\"surface\",\"colorbar\":{\"outlinewidth\":0,\"ticks\":\"\"},\"colorscale\":[[0.0,\"#0d0887\"],[0.1111111111111111,\"#46039f\"],[0.2222222222222222,\"#7201a8\"],[0.3333333333333333,\"#9c179e\"],[0.4444444444444444,\"#bd3786\"],[0.5555555555555556,\"#d8576b\"],[0.6666666666666666,\"#ed7953\"],[0.7777777777777778,\"#fb9f3a\"],[0.8888888888888888,\"#fdca26\"],[1.0,\"#f0f921\"]]}],\"mesh3d\":[{\"type\":\"mesh3d\",\"colorbar\":{\"outlinewidth\":0,\"ticks\":\"\"}}],\"scatter\":[{\"fillpattern\":{\"fillmode\":\"overlay\",\"size\":10,\"solidity\":0.2},\"type\":\"scatter\"}],\"parcoords\":[{\"type\":\"parcoords\",\"line\":{\"colorbar\":{\"outlinewidth\":0,\"ticks\":\"\"}}}],\"scatterpolargl\":[{\"type\":\"scatterpolargl\",\"marker\":{\"colorbar\":{\"outlinewidth\":0,\"ticks\":\"\"}}}],\"bar\":[{\"error_x\":{\"color\":\"#2a3f5f\"},\"error_y\":{\"color\":\"#2a3f5f\"},\"marker\":{\"line\":{\"color\":\"#E5ECF6\",\"width\":0.5},\"pattern\":{\"fillmode\":\"overlay\",\"size\":10,\"solidity\":0.2}},\"type\":\"bar\"}],\"scattergeo\":[{\"type\":\"scattergeo\",\"marker\":{\"colorbar\":{\"outlinewidth\":0,\"ticks\":\"\"}}}],\"scatterpolar\":[{\"type\":\"scatterpolar\",\"marker\":{\"colorbar\":{\"outlinewidth\":0,\"ticks\":\"\"}}}],\"histogram\":[{\"marker\":{\"pattern\":{\"fillmode\":\"overlay\",\"size\":10,\"solidity\":0.2}},\"type\":\"histogram\"}],\"scattergl\":[{\"type\":\"scattergl\",\"marker\":{\"colorbar\":{\"outlinewidth\":0,\"ticks\":\"\"}}}],\"scatter3d\":[{\"type\":\"scatter3d\",\"line\":{\"colorbar\":{\"outlinewidth\":0,\"ticks\":\"\"}},\"marker\":{\"colorbar\":{\"outlinewidth\":0,\"ticks\":\"\"}}}],\"scattermapbox\":[{\"type\":\"scattermapbox\",\"marker\":{\"colorbar\":{\"outlinewidth\":0,\"ticks\":\"\"}}}],\"scatterternary\":[{\"type\":\"scatterternary\",\"marker\":{\"colorbar\":{\"outlinewidth\":0,\"ticks\":\"\"}}}],\"scattercarpet\":[{\"type\":\"scattercarpet\",\"marker\":{\"colorbar\":{\"outlinewidth\":0,\"ticks\":\"\"}}}],\"carpet\":[{\"aaxis\":{\"endlinecolor\":\"#2a3f5f\",\"gridcolor\":\"white\",\"linecolor\":\"white\",\"minorgridcolor\":\"white\",\"startlinecolor\":\"#2a3f5f\"},\"baxis\":{\"endlinecolor\":\"#2a3f5f\",\"gridcolor\":\"white\",\"linecolor\":\"white\",\"minorgridcolor\":\"white\",\"startlinecolor\":\"#2a3f5f\"},\"type\":\"carpet\"}],\"table\":[{\"cells\":{\"fill\":{\"color\":\"#EBF0F8\"},\"line\":{\"color\":\"white\"}},\"header\":{\"fill\":{\"color\":\"#C8D4E3\"},\"line\":{\"color\":\"white\"}},\"type\":\"table\"}],\"barpolar\":[{\"marker\":{\"line\":{\"color\":\"#E5ECF6\",\"width\":0.5},\"pattern\":{\"fillmode\":\"overlay\",\"size\":10,\"solidity\":0.2}},\"type\":\"barpolar\"}],\"pie\":[{\"automargin\":true,\"type\":\"pie\"}]},\"layout\":{\"autotypenumbers\":\"strict\",\"colorway\":[\"#636efa\",\"#EF553B\",\"#00cc96\",\"#ab63fa\",\"#FFA15A\",\"#19d3f3\",\"#FF6692\",\"#B6E880\",\"#FF97FF\",\"#FECB52\"],\"font\":{\"color\":\"#2a3f5f\"},\"hovermode\":\"closest\",\"hoverlabel\":{\"align\":\"left\"},\"paper_bgcolor\":\"white\",\"plot_bgcolor\":\"#E5ECF6\",\"polar\":{\"bgcolor\":\"#E5ECF6\",\"angularaxis\":{\"gridcolor\":\"white\",\"linecolor\":\"white\",\"ticks\":\"\"},\"radialaxis\":{\"gridcolor\":\"white\",\"linecolor\":\"white\",\"ticks\":\"\"}},\"ternary\":{\"bgcolor\":\"#E5ECF6\",\"aaxis\":{\"gridcolor\":\"white\",\"linecolor\":\"white\",\"ticks\":\"\"},\"baxis\":{\"gridcolor\":\"white\",\"linecolor\":\"white\",\"ticks\":\"\"},\"caxis\":{\"gridcolor\":\"white\",\"linecolor\":\"white\",\"ticks\":\"\"}},\"coloraxis\":{\"colorbar\":{\"outlinewidth\":0,\"ticks\":\"\"}},\"colorscale\":{\"sequential\":[[0.0,\"#0d0887\"],[0.1111111111111111,\"#46039f\"],[0.2222222222222222,\"#7201a8\"],[0.3333333333333333,\"#9c179e\"],[0.4444444444444444,\"#bd3786\"],[0.5555555555555556,\"#d8576b\"],[0.6666666666666666,\"#ed7953\"],[0.7777777777777778,\"#fb9f3a\"],[0.8888888888888888,\"#fdca26\"],[1.0,\"#f0f921\"]],\"sequentialminus\":[[0.0,\"#0d0887\"],[0.1111111111111111,\"#46039f\"],[0.2222222222222222,\"#7201a8\"],[0.3333333333333333,\"#9c179e\"],[0.4444444444444444,\"#bd3786\"],[0.5555555555555556,\"#d8576b\"],[0.6666666666666666,\"#ed7953\"],[0.7777777777777778,\"#fb9f3a\"],[0.8888888888888888,\"#fdca26\"],[1.0,\"#f0f921\"]],\"diverging\":[[0,\"#8e0152\"],[0.1,\"#c51b7d\"],[0.2,\"#de77ae\"],[0.3,\"#f1b6da\"],[0.4,\"#fde0ef\"],[0.5,\"#f7f7f7\"],[0.6,\"#e6f5d0\"],[0.7,\"#b8e186\"],[0.8,\"#7fbc41\"],[0.9,\"#4d9221\"],[1,\"#276419\"]]},\"xaxis\":{\"gridcolor\":\"white\",\"linecolor\":\"white\",\"ticks\":\"\",\"title\":{\"standoff\":15},\"zerolinecolor\":\"white\",\"automargin\":true,\"zerolinewidth\":2},\"yaxis\":{\"gridcolor\":\"white\",\"linecolor\":\"white\",\"ticks\":\"\",\"title\":{\"standoff\":15},\"zerolinecolor\":\"white\",\"automargin\":true,\"zerolinewidth\":2},\"scene\":{\"xaxis\":{\"backgroundcolor\":\"#E5ECF6\",\"gridcolor\":\"white\",\"linecolor\":\"white\",\"showbackground\":true,\"ticks\":\"\",\"zerolinecolor\":\"white\",\"gridwidth\":2},\"yaxis\":{\"backgroundcolor\":\"#E5ECF6\",\"gridcolor\":\"white\",\"linecolor\":\"white\",\"showbackground\":true,\"ticks\":\"\",\"zerolinecolor\":\"white\",\"gridwidth\":2},\"zaxis\":{\"backgroundcolor\":\"#E5ECF6\",\"gridcolor\":\"white\",\"linecolor\":\"white\",\"showbackground\":true,\"ticks\":\"\",\"zerolinecolor\":\"white\",\"gridwidth\":2}},\"shapedefaults\":{\"line\":{\"color\":\"#2a3f5f\"}},\"annotationdefaults\":{\"arrowcolor\":\"#2a3f5f\",\"arrowhead\":0,\"arrowwidth\":1},\"geo\":{\"bgcolor\":\"white\",\"landcolor\":\"#E5ECF6\",\"subunitcolor\":\"white\",\"showland\":true,\"showlakes\":true,\"lakecolor\":\"white\"},\"title\":{\"x\":0.05},\"mapbox\":{\"style\":\"light\"}}},\"xaxis\":{\"anchor\":\"y\",\"domain\":[0.0,1.0],\"scaleanchor\":\"y\",\"constrain\":\"domain\"},\"yaxis\":{\"anchor\":\"x\",\"domain\":[0.0,1.0],\"autorange\":\"reversed\",\"constrain\":\"domain\"},\"coloraxis\":{\"colorscale\":[[0.0,\"rgb(103,0,31)\"],[0.1,\"rgb(178,24,43)\"],[0.2,\"rgb(214,96,77)\"],[0.3,\"rgb(244,165,130)\"],[0.4,\"rgb(253,219,199)\"],[0.5,\"rgb(247,247,247)\"],[0.6,\"rgb(209,229,240)\"],[0.7,\"rgb(146,197,222)\"],[0.8,\"rgb(67,147,195)\"],[0.9,\"rgb(33,102,172)\"],[1.0,\"rgb(5,48,97)\"]],\"cmid\":0},\"margin\":{\"t\":60}},                        {\"responsive\": true}                    ).then(function(){\n",
       "                            \n",
       "var gd = document.getElementById('4a88c5b5-bdd2-49e3-a934-0aa7d7f0c95b');\n",
       "var x = new MutationObserver(function (mutations, observer) {{\n",
       "        var display = window.getComputedStyle(gd).display;\n",
       "        if (!display || display === 'none') {{\n",
       "            console.log([gd, 'removed!']);\n",
       "            Plotly.purge(gd);\n",
       "            observer.disconnect();\n",
       "        }}\n",
       "}});\n",
       "\n",
       "// Listen for the removal of the full notebook cells\n",
       "var notebookContainer = gd.closest('#notebook-container');\n",
       "if (notebookContainer) {{\n",
       "    x.observe(notebookContainer, {childList: true});\n",
       "}}\n",
       "\n",
       "// Listen for the clearing of the current output cell\n",
       "var outputEl = gd.closest('.output');\n",
       "if (outputEl) {{\n",
       "    x.observe(outputEl, {childList: true});\n",
       "}}\n",
       "\n",
       "                        })                };                });            </script>        </div>"
      ]
     },
     "metadata": {},
     "output_type": "display_data"
    }
   ],
   "source": [
    "px.imshow(b[:, 0].view(-1, 28).cpu(), color_continuous_midpoint=0, color_continuous_scale=\"RdBu\")"
   ]
  },
  {
   "cell_type": "code",
   "execution_count": null,
   "metadata": {},
   "outputs": [
    {
     "name": "stdout",
     "output_type": "stream",
     "text": [
      "tensor([[1342.6851,  371.1395],\n",
      "        [ 356.6680, -618.2236]]) tensor([[1330.5361,  370.9978],\n",
      "        [ 369.6768, -621.0649]]) tensor([[1329.3665,  371.3304],\n",
      "        [ 369.0887, -621.0721]])\n",
      "True\n",
      "True\n",
      "False\n",
      "The original and final quadratic expressions are equal!\n"
     ]
    }
   ],
   "source": [
    "# recentered quadratic approximation using 2Ax+b=0. Done enough\n",
    "import torch\n",
    "\n",
    "# Define dimensions\n",
    "n = 784\n",
    "\n",
    "# Create a random symmetric matrix A\n",
    "A = torch.randn(n, n)\n",
    "A = (A + A.T) / 2  # Make it symmetric\n",
    "\n",
    "# Create random vector b and scalar c\n",
    "b = torch.randn(n, 2)\n",
    "c = torch.rand(2)\n",
    "\n",
    "# Define input vector x\n",
    "x = torch.randn(n, 2)\n",
    "\n",
    "# Original quadratic expression: x^T A x + b^T x + c\n",
    "def original_quadratic(x):\n",
    "    return (x.T @ A @ x) + (b.T @ x) + c\n",
    "\n",
    "# Complete the square by finding x_0\n",
    "A_inv = torch.inverse(A)\n",
    "x_0 = -0.5 * A_inv @ b\n",
    "x0 = -0.5 * torch.linalg.solve(A,b)\n",
    "# Substitute x = x_0 + z\n",
    "y = x - x_0\n",
    "yy = x - x0\n",
    "# Rewritten quadratic expression: z^T A z + other constant terms\n",
    "def rewritten_quadratic(y):\n",
    "    constant_term = 0.25 * (b.T @ A_inv @ b) - 0.5 * (b.T @ A_inv @ b) + c  # Correct constant offset\n",
    "    return (y.T @ A @ y) + constant_term\n",
    "\n",
    "# Evaluate both the original and rewritten forms\n",
    "original_value = original_quadratic(x)\n",
    "rewritten_value = rewritten_quadratic(y)\n",
    "z = rewritten_quadratic(yy)\n",
    "print(original_value, rewritten_value, z)\n",
    "# Check if the original and transformed expressions are equal\n",
    "print(torch.allclose(original_value, rewritten_value, rtol=1e-1))#, \"The expressions are not equal.\"\n",
    "print(torch.allclose(original_value, z, rtol=1.0))\n",
    "print(torch.allclose(rewritten_value, z, atol=2e-1))\n",
    "print(\"The original and final quadratic expressions are equal!\")"
   ]
  },
  {
   "cell_type": "markdown",
   "metadata": {},
   "source": [
    "### Fitting third order tensor"
   ]
  },
  {
   "cell_type": "code",
   "execution_count": 10,
   "metadata": {},
   "outputs": [
    {
     "data": {
      "text/plain": [
       "(torch.Size([10, 4720128]), torch.Size([3072, 10]), torch.Size([10]))"
      ]
     },
     "execution_count": 10,
     "metadata": {},
     "output_type": "execute_result"
    }
   ],
   "source": [
    "quad01r.gamma.shape, quad01r.beta.shape, quad01r.alpha.shape"
   ]
  },
  {
   "cell_type": "code",
   "execution_count": null,
   "metadata": {},
   "outputs": [],
   "source": [
    "import torch\n",
    "import torch.nn as nn\n",
    "import torch.optim as optim\n",
    "from torch.optim import AdamW\n",
    "from torch.optim.lr_scheduler import CosineAnnealingLR\n",
    "from torch.utils.data import DataLoader, TensorDataset\n",
    "from tqdm import tqdm\n",
    "from pandas import DataFrame\n",
    "\n",
    "def _collator(transform=None):\n",
    "    def inner(batch):\n",
    "        x = torch.stack([item[0] for item in batch]).float()\n",
    "        y = torch.stack([item[1] for item in batch])\n",
    "        return (x, y) if transform is None else (transform(x), y)\n",
    "    return inner\n",
    "# Custom quadratic model\n",
    "class QuadraticModel(nn.Module):\n",
    "    def __init__(self, input_dim, output_dim):\n",
    "        super(QuadraticModel, self).__init__()\n",
    "        # A will be a lower triangular matrix represented as a vector\n",
    "        self.gamma = nn.Parameter(torch.randn(output_dim, (input_dim * (input_dim + 1)) // 2))\n",
    "        self.beta = nn.Parameter(torch.randn(input_dim, output_dim))\n",
    "        self.alpha = nn.Parameter(torch.randn(1, output_dim))\n",
    "        self.input_dim = input_dim\n",
    "        self.lr = 1e-3\n",
    "        self.wd = 0.5\n",
    "        self.batch_size = 10000\n",
    "        self.seed = 42\n",
    "        self.criterion = nn.MSELoss()\n",
    "        self.accuracy = lambda y_hat, y: (y_hat.argmax(dim=-1) == y).float().mean()\n",
    "        self.epochs = 10\n",
    "\n",
    "    def get_gamma_tensor(self):\n",
    "        nrows = self.input_dim\n",
    "        gamma_tensor = torch.zeros((self.gamma.shape[0], nrows, nrows))\n",
    "        rows, cols = torch.tril_indices(nrows, nrows)\n",
    "        gamma_tensor[:, rows, cols] = self.gamma\n",
    "        return 0.5 * (gamma_tensor + gamma_tensor.mT)\n",
    "\n",
    "    def forward(self, x):\n",
    "        y = x @ self.beta + self.alpha\n",
    "        y += torch.einsum('hij,bi,bj->bh', self.get_gamma_tensor(), x, x)\n",
    "        return y\n",
    "    \n",
    "    def step(self, x, y, eval_mode=False):\n",
    "        y_hat = self(x)\n",
    "        loss = self.criterion(y_hat, y)\n",
    "        #acc = self.accuracy(y_hat, y)\n",
    "        acc = 0.0\n",
    "        if eval_mode:\n",
    "            acc = self.accuracy(y_hat, y)\n",
    "        return loss, acc\n",
    "    def fit(self, train, test, test_transf=None):\n",
    "        torch.manual_seed(self.seed)\n",
    "        torch.set_grad_enabled(True)\n",
    "\n",
    "        optimizer = AdamW(self.parameters(), lr=self.lr, weight_decay=self.wd)\n",
    "        scheduler = CosineAnnealingLR(optimizer, T_max=self.epochs)\n",
    "        test_loader = DataLoader(test, batch_size=test.y.size(0), shuffle=False,\n",
    "                                 drop_last=True, collate_fn=_collator(test_transf))\n",
    "\n",
    "        pbar = tqdm(range(self.epochs), disable=False)\n",
    "        history = []\n",
    "        \n",
    "        train_loader = DataLoader(train, batch_size=self.batch_size, shuffle=True)\n",
    "        test_loader = DataLoader(test, batch_size=self.batch_size, shuffle=False,\n",
    "                                 drop_last=True, collate_fn=_collator(test_transf))\n",
    "        for _ in pbar:\n",
    "            epoch_list = []\n",
    "            for x, y in train_loader:\n",
    "                optimizer.zero_grad()\n",
    "                mse_loss, _ = self.train().step(x, y)\n",
    "                mse_loss.backward()\n",
    "                optimizer.step()\n",
    "                \n",
    "                epoch_list += [mse_loss.item()]\n",
    "            scheduler.step()\n",
    "            test_x, test_y = next(iter(test_loader))\n",
    "            #self.eval()\n",
    "            #with torch.no_grad():\n",
    "            val_mse_loss, acc = self.eval().step(test_x, test_y, eval_mode=True)\n",
    "\n",
    "            metrics = {\n",
    "                \"train/mseloss\": sum(loss for loss in epoch_list) / len(epoch_list),\n",
    "                \"val/acc\": acc.item(),\n",
    "                \"val/mse_loss\": val_mse_loss.item()\n",
    "            }\n",
    "\n",
    "            history.append(metrics)\n",
    "            pbar.set_description(', '.join(f\"{k}: {v:.3f}\" for k, v in metrics.items()))\n",
    "\n",
    "        torch.set_grad_enabled(False)\n",
    "        return DataFrame.from_records(history, columns=['train/loss', 'train/acc', 'val/loss', 'val/acc'])\n",
    "    \n",
    "# Define your parameters\n",
    "input_dim = 3072  # Input feature dimension\n",
    "output_dim = 10  # Number of output neurons\n",
    "num_samples = 100_000\n",
    "model = QuadraticModel(input_dim, output_dim)\n",
    "\n",
    "train_x = torch.randn(num_samples, input_dim)\n",
    "train_y = relu_model(train_x)\n",
    "train_dataset = TensorDataset(train_x, train_y)\n",
    "test_dataset = _CIFAR10(device='cpu')\n",
    "\n",
    "model.fit(train_dataset, test_dataset, test_transf=t)"
   ]
  },
  {
   "cell_type": "code",
   "execution_count": 33,
   "metadata": {},
   "outputs": [
    {
     "name": "stdout",
     "output_type": "stream",
     "text": [
      "Files already downloaded and verified\n"
     ]
    },
    {
     "name": "stderr",
     "output_type": "stream",
     "text": [
      "  0%|          | 0/10 [00:10<?, ?it/s]\n"
     ]
    },
    {
     "ename": "RuntimeError",
     "evalue": "Trying to backward through the graph a second time (or directly access saved tensors after they have already been freed). Saved intermediate values of the graph are freed when you call .backward() or autograd.grad(). Specify retain_graph=True if you need to backward through the graph a second time or if you need to access saved tensors after calling backward.",
     "output_type": "error",
     "traceback": [
      "\u001b[0;31m---------------------------------------------------------------------------\u001b[0m",
      "\u001b[0;31mRuntimeError\u001b[0m                              Traceback (most recent call last)",
      "Cell \u001b[0;32mIn[33], line 12\u001b[0m\n\u001b[1;32m      9\u001b[0m train_dataset \u001b[38;5;241m=\u001b[39m TensorDataset(train_x, train_y)\n\u001b[1;32m     10\u001b[0m test_dataset \u001b[38;5;241m=\u001b[39m _CIFAR10(device\u001b[38;5;241m=\u001b[39m\u001b[38;5;124m'\u001b[39m\u001b[38;5;124mcpu\u001b[39m\u001b[38;5;124m'\u001b[39m)\n\u001b[0;32m---> 12\u001b[0m \u001b[43mmodel\u001b[49m\u001b[38;5;241;43m.\u001b[39;49m\u001b[43mfit\u001b[49m\u001b[43m(\u001b[49m\u001b[43mtrain_dataset\u001b[49m\u001b[43m,\u001b[49m\u001b[43m \u001b[49m\u001b[43mtest_dataset\u001b[49m\u001b[43m,\u001b[49m\u001b[43m \u001b[49m\u001b[43mtest_transf\u001b[49m\u001b[38;5;241;43m=\u001b[39;49m\u001b[43mt\u001b[49m\u001b[43m)\u001b[49m\n",
      "Cell \u001b[0;32mIn[32], line 73\u001b[0m, in \u001b[0;36mQuadraticModel.fit\u001b[0;34m(self, train, test, test_transf)\u001b[0m\n\u001b[1;32m     71\u001b[0m optimizer\u001b[38;5;241m.\u001b[39mzero_grad()\n\u001b[1;32m     72\u001b[0m mse_loss, _ \u001b[38;5;241m=\u001b[39m \u001b[38;5;28mself\u001b[39m\u001b[38;5;241m.\u001b[39mtrain()\u001b[38;5;241m.\u001b[39mstep(x, y)\n\u001b[0;32m---> 73\u001b[0m \u001b[43mmse_loss\u001b[49m\u001b[38;5;241;43m.\u001b[39;49m\u001b[43mbackward\u001b[49m\u001b[43m(\u001b[49m\u001b[43m)\u001b[49m\n\u001b[1;32m     74\u001b[0m optimizer\u001b[38;5;241m.\u001b[39mstep()\n\u001b[1;32m     76\u001b[0m epoch_list \u001b[38;5;241m+\u001b[39m\u001b[38;5;241m=\u001b[39m [mse_loss\u001b[38;5;241m.\u001b[39mitem()]\n",
      "File \u001b[0;32m/mnt/ssd-1/mechinterp/alice/polyapprox/polyapprox/.conda/lib/python3.12/site-packages/torch/_tensor.py:581\u001b[0m, in \u001b[0;36mTensor.backward\u001b[0;34m(self, gradient, retain_graph, create_graph, inputs)\u001b[0m\n\u001b[1;32m    571\u001b[0m \u001b[38;5;28;01mif\u001b[39;00m has_torch_function_unary(\u001b[38;5;28mself\u001b[39m):\n\u001b[1;32m    572\u001b[0m     \u001b[38;5;28;01mreturn\u001b[39;00m handle_torch_function(\n\u001b[1;32m    573\u001b[0m         Tensor\u001b[38;5;241m.\u001b[39mbackward,\n\u001b[1;32m    574\u001b[0m         (\u001b[38;5;28mself\u001b[39m,),\n\u001b[0;32m   (...)\u001b[0m\n\u001b[1;32m    579\u001b[0m         inputs\u001b[38;5;241m=\u001b[39minputs,\n\u001b[1;32m    580\u001b[0m     )\n\u001b[0;32m--> 581\u001b[0m \u001b[43mtorch\u001b[49m\u001b[38;5;241;43m.\u001b[39;49m\u001b[43mautograd\u001b[49m\u001b[38;5;241;43m.\u001b[39;49m\u001b[43mbackward\u001b[49m\u001b[43m(\u001b[49m\n\u001b[1;32m    582\u001b[0m \u001b[43m    \u001b[49m\u001b[38;5;28;43mself\u001b[39;49m\u001b[43m,\u001b[49m\u001b[43m \u001b[49m\u001b[43mgradient\u001b[49m\u001b[43m,\u001b[49m\u001b[43m \u001b[49m\u001b[43mretain_graph\u001b[49m\u001b[43m,\u001b[49m\u001b[43m \u001b[49m\u001b[43mcreate_graph\u001b[49m\u001b[43m,\u001b[49m\u001b[43m \u001b[49m\u001b[43minputs\u001b[49m\u001b[38;5;241;43m=\u001b[39;49m\u001b[43minputs\u001b[49m\n\u001b[1;32m    583\u001b[0m \u001b[43m\u001b[49m\u001b[43m)\u001b[49m\n",
      "File \u001b[0;32m/mnt/ssd-1/mechinterp/alice/polyapprox/polyapprox/.conda/lib/python3.12/site-packages/torch/autograd/__init__.py:347\u001b[0m, in \u001b[0;36mbackward\u001b[0;34m(tensors, grad_tensors, retain_graph, create_graph, grad_variables, inputs)\u001b[0m\n\u001b[1;32m    342\u001b[0m     retain_graph \u001b[38;5;241m=\u001b[39m create_graph\n\u001b[1;32m    344\u001b[0m \u001b[38;5;66;03m# The reason we repeat the same comment below is that\u001b[39;00m\n\u001b[1;32m    345\u001b[0m \u001b[38;5;66;03m# some Python versions print out the first line of a multi-line function\u001b[39;00m\n\u001b[1;32m    346\u001b[0m \u001b[38;5;66;03m# calls in the traceback and some print out the last line\u001b[39;00m\n\u001b[0;32m--> 347\u001b[0m \u001b[43m_engine_run_backward\u001b[49m\u001b[43m(\u001b[49m\n\u001b[1;32m    348\u001b[0m \u001b[43m    \u001b[49m\u001b[43mtensors\u001b[49m\u001b[43m,\u001b[49m\n\u001b[1;32m    349\u001b[0m \u001b[43m    \u001b[49m\u001b[43mgrad_tensors_\u001b[49m\u001b[43m,\u001b[49m\n\u001b[1;32m    350\u001b[0m \u001b[43m    \u001b[49m\u001b[43mretain_graph\u001b[49m\u001b[43m,\u001b[49m\n\u001b[1;32m    351\u001b[0m \u001b[43m    \u001b[49m\u001b[43mcreate_graph\u001b[49m\u001b[43m,\u001b[49m\n\u001b[1;32m    352\u001b[0m \u001b[43m    \u001b[49m\u001b[43minputs\u001b[49m\u001b[43m,\u001b[49m\n\u001b[1;32m    353\u001b[0m \u001b[43m    \u001b[49m\u001b[43mallow_unreachable\u001b[49m\u001b[38;5;241;43m=\u001b[39;49m\u001b[38;5;28;43;01mTrue\u001b[39;49;00m\u001b[43m,\u001b[49m\n\u001b[1;32m    354\u001b[0m \u001b[43m    \u001b[49m\u001b[43maccumulate_grad\u001b[49m\u001b[38;5;241;43m=\u001b[39;49m\u001b[38;5;28;43;01mTrue\u001b[39;49;00m\u001b[43m,\u001b[49m\n\u001b[1;32m    355\u001b[0m \u001b[43m\u001b[49m\u001b[43m)\u001b[49m\n",
      "File \u001b[0;32m/mnt/ssd-1/mechinterp/alice/polyapprox/polyapprox/.conda/lib/python3.12/site-packages/torch/autograd/graph.py:825\u001b[0m, in \u001b[0;36m_engine_run_backward\u001b[0;34m(t_outputs, *args, **kwargs)\u001b[0m\n\u001b[1;32m    823\u001b[0m     unregister_hooks \u001b[38;5;241m=\u001b[39m _register_logging_hooks_on_whole_graph(t_outputs)\n\u001b[1;32m    824\u001b[0m \u001b[38;5;28;01mtry\u001b[39;00m:\n\u001b[0;32m--> 825\u001b[0m     \u001b[38;5;28;01mreturn\u001b[39;00m \u001b[43mVariable\u001b[49m\u001b[38;5;241;43m.\u001b[39;49m\u001b[43m_execution_engine\u001b[49m\u001b[38;5;241;43m.\u001b[39;49m\u001b[43mrun_backward\u001b[49m\u001b[43m(\u001b[49m\u001b[43m  \u001b[49m\u001b[38;5;66;43;03m# Calls into the C++ engine to run the backward pass\u001b[39;49;00m\n\u001b[1;32m    826\u001b[0m \u001b[43m        \u001b[49m\u001b[43mt_outputs\u001b[49m\u001b[43m,\u001b[49m\u001b[43m \u001b[49m\u001b[38;5;241;43m*\u001b[39;49m\u001b[43margs\u001b[49m\u001b[43m,\u001b[49m\u001b[43m \u001b[49m\u001b[38;5;241;43m*\u001b[39;49m\u001b[38;5;241;43m*\u001b[39;49m\u001b[43mkwargs\u001b[49m\n\u001b[1;32m    827\u001b[0m \u001b[43m    \u001b[49m\u001b[43m)\u001b[49m  \u001b[38;5;66;03m# Calls into the C++ engine to run the backward pass\u001b[39;00m\n\u001b[1;32m    828\u001b[0m \u001b[38;5;28;01mfinally\u001b[39;00m:\n\u001b[1;32m    829\u001b[0m     \u001b[38;5;28;01mif\u001b[39;00m attach_logging_hooks:\n",
      "\u001b[0;31mRuntimeError\u001b[0m: Trying to backward through the graph a second time (or directly access saved tensors after they have already been freed). Saved intermediate values of the graph are freed when you call .backward() or autograd.grad(). Specify retain_graph=True if you need to backward through the graph a second time or if you need to access saved tensors after calling backward."
     ]
    }
   ],
   "source": [
    "# Define your parameters\n",
    "input_dim = 3072  # Input feature dimension\n",
    "output_dim = 10  # Number of output neurons\n",
    "num_samples = 100_000\n",
    "model = QuadraticModel(input_dim, output_dim)\n",
    "\n",
    "train_x = torch.randn(num_samples, input_dim)\n",
    "train_y = relu_model(train_x)\n",
    "train_dataset = TensorDataset(train_x, train_y)\n",
    "test_dataset = _CIFAR10(device='cpu')\n",
    "\n",
    "model.fit(train_dataset, test_dataset, test_transf=t)"
   ]
  },
  {
   "cell_type": "code",
   "execution_count": null,
   "metadata": {},
   "outputs": [],
   "source": [
    "        #batch_size = x.size(0)\n",
    "        \n",
    "        # Reshape A_params to a lower triangular matrix per output dimension\n",
    "        A_matrix = torch.zeros((self.input_dim, self.input_dim, self.A.size(1)), device=x.device)\n",
    "        tril_indices = torch.tril_indices(row=self.input_dim, col=self.input_dim, offset=0)\n",
    "        \n",
    "        # Build symmetric matrices for each output dimension\n",
    "        #for i in range(self.A_params.size(1)):\n",
    "        A_matrix[tril_indices[0], tril_indices[1], :] = self.A[:, :]\n",
    "        A_matrix[tril_indices[1], tril_indices[0], :] = self.A[:, :]\n",
    "        \n",
    "        # Calculate x^T A x for batch of inputs \n",
    "        quad_term = torch.bmm(x.unsqueeze(1), torch.bmm(A_matrix.permute(2, 0, 1), x.unsqueeze(2))).squeeze()\n",
    "        \n",
    "        # Calculate quadratic + linear + bias term for each output dimension\n",
    "        linear_term = x.matmul(self.B)\n",
    "        return quad_term + linear_term + self.c"
   ]
  }
 ],
 "metadata": {
  "kernelspec": {
   "display_name": "Python 3",
   "language": "python",
   "name": "python3"
  },
  "language_info": {
   "codemirror_mode": {
    "name": "ipython",
    "version": 3
   },
   "file_extension": ".py",
   "mimetype": "text/x-python",
   "name": "python",
   "nbconvert_exporter": "python",
   "pygments_lexer": "ipython3",
   "version": "3.12.7"
  }
 },
 "nbformat": 4,
 "nbformat_minor": 2
}
